{
 "cells": [
  {
   "cell_type": "markdown",
   "id": "f27ef46d",
   "metadata": {},
   "source": [
    "# Numpy"
   ]
  },
  {
   "cell_type": "markdown",
   "id": "b81324d7",
   "metadata": {},
   "source": [
    "https://numpy.org/"
   ]
  },
  {
   "cell_type": "markdown",
   "id": "25a9ba1c",
   "metadata": {},
   "source": [
    "## What is it? \n",
    "- Numpy is a Python library used for working with arrays\n",
    "- Numpy is the fundamental package for scientific computing in Python\n",
    "\n",
    "\n",
    "## Why do we care? \n",
    "- Numpy is one of the main reasons why Python is so powerful and popular for scientific computing\n",
    "- Super fast. Numpy arrays are implemented in C, which makes numpy very fast.\n",
    "- The arrays allows for vectorized operations"
   ]
  },
  {
   "cell_type": "markdown",
   "id": "28729cf1",
   "metadata": {},
   "source": [
    "## Show us! "
   ]
  },
  {
   "cell_type": "markdown",
   "id": "e2d18e84",
   "metadata": {},
   "source": [
    "### Create a 1D array"
   ]
  },
  {
   "cell_type": "markdown",
   "id": "4bd6c942",
   "metadata": {},
   "source": [
    "#### create a list\n",
    "format: list()"
   ]
  },
  {
   "cell_type": "code",
   "execution_count": null,
   "id": "919b511c",
   "metadata": {},
   "outputs": [],
   "source": [
    "#create a list\n",
    "my_list = [1,2,3,4]\n",
    "my_list"
   ]
  },
  {
   "cell_type": "code",
   "execution_count": null,
   "id": "842c5167",
   "metadata": {},
   "outputs": [],
   "source": [
    "#whats the type\n"
   ]
  },
  {
   "cell_type": "code",
   "execution_count": null,
   "id": "a2e3be73",
   "metadata": {},
   "outputs": [],
   "source": [
    "#what is dtype\n"
   ]
  },
  {
   "cell_type": "code",
   "execution_count": null,
   "id": "2bb1ce81",
   "metadata": {},
   "outputs": [],
   "source": [
    "#whats the shape\n"
   ]
  },
  {
   "cell_type": "markdown",
   "id": "14284603",
   "metadata": {},
   "source": [
    "#### create an array\n",
    "format: np.array()"
   ]
  },
  {
   "cell_type": "code",
   "execution_count": null,
   "id": "206318a6",
   "metadata": {},
   "outputs": [],
   "source": []
  },
  {
   "cell_type": "code",
   "execution_count": null,
   "id": "9e0eb033",
   "metadata": {},
   "outputs": [],
   "source": [
    "#create the array (from the contents of the list)\n"
   ]
  },
  {
   "cell_type": "code",
   "execution_count": null,
   "id": "3ec6ab1b",
   "metadata": {},
   "outputs": [],
   "source": [
    "#whats the type\n"
   ]
  },
  {
   "cell_type": "code",
   "execution_count": null,
   "id": "5ee6331e",
   "metadata": {},
   "outputs": [],
   "source": [
    "#whats the shape\n"
   ]
  },
  {
   "cell_type": "code",
   "execution_count": null,
   "id": "8d9a67c3",
   "metadata": {},
   "outputs": [],
   "source": [
    "#dtype\n"
   ]
  },
  {
   "cell_type": "markdown",
   "id": "0c677244",
   "metadata": {},
   "source": [
    "#### access elements of our new array"
   ]
  },
  {
   "cell_type": "markdown",
   "id": "2079c7c4",
   "metadata": {},
   "source": [
    "#### slice the array"
   ]
  },
  {
   "cell_type": "code",
   "execution_count": null,
   "id": "38f4f76b",
   "metadata": {},
   "outputs": [],
   "source": []
  },
  {
   "cell_type": "code",
   "execution_count": null,
   "id": "53c416d9",
   "metadata": {},
   "outputs": [],
   "source": []
  },
  {
   "cell_type": "code",
   "execution_count": null,
   "id": "bb7608cd",
   "metadata": {},
   "outputs": [],
   "source": []
  },
  {
   "cell_type": "code",
   "execution_count": null,
   "id": "bd8e9a94",
   "metadata": {},
   "outputs": [],
   "source": []
  },
  {
   "cell_type": "code",
   "execution_count": null,
   "id": "4b4f7ba1",
   "metadata": {},
   "outputs": [],
   "source": []
  },
  {
   "cell_type": "markdown",
   "id": "14841d0f",
   "metadata": {},
   "source": [
    "#### create an array from 1 to 100"
   ]
  },
  {
   "cell_type": "code",
   "execution_count": null,
   "id": "6a833fd0",
   "metadata": {},
   "outputs": [],
   "source": []
  },
  {
   "cell_type": "code",
   "execution_count": null,
   "id": "6c4bf33b",
   "metadata": {},
   "outputs": [],
   "source": []
  },
  {
   "cell_type": "code",
   "execution_count": null,
   "id": "fc00a3c6",
   "metadata": {},
   "outputs": [],
   "source": []
  },
  {
   "cell_type": "code",
   "execution_count": null,
   "id": "351d1441",
   "metadata": {},
   "outputs": [],
   "source": []
  },
  {
   "cell_type": "code",
   "execution_count": null,
   "id": "73e705e9",
   "metadata": {},
   "outputs": [],
   "source": []
  },
  {
   "cell_type": "markdown",
   "id": "986db7a5",
   "metadata": {},
   "source": [
    "### Create a 2D array"
   ]
  },
  {
   "cell_type": "code",
   "execution_count": null,
   "id": "6629b0c9",
   "metadata": {},
   "outputs": [],
   "source": []
  },
  {
   "cell_type": "code",
   "execution_count": null,
   "id": "77a35521",
   "metadata": {},
   "outputs": [],
   "source": []
  },
  {
   "cell_type": "code",
   "execution_count": null,
   "id": "eb29dd2a",
   "metadata": {},
   "outputs": [],
   "source": [
    "#turn it into an array! \n"
   ]
  },
  {
   "cell_type": "code",
   "execution_count": null,
   "id": "2932165c",
   "metadata": {},
   "outputs": [],
   "source": [
    "#type\n"
   ]
  },
  {
   "cell_type": "code",
   "execution_count": null,
   "id": "c6bb7e03",
   "metadata": {},
   "outputs": [],
   "source": []
  },
  {
   "cell_type": "code",
   "execution_count": null,
   "id": "b62ee3e7",
   "metadata": {},
   "outputs": [],
   "source": []
  },
  {
   "cell_type": "markdown",
   "id": "a30948e1",
   "metadata": {},
   "source": [
    "#### access elements"
   ]
  },
  {
   "cell_type": "code",
   "execution_count": null,
   "id": "5c34c287",
   "metadata": {},
   "outputs": [],
   "source": []
  },
  {
   "cell_type": "code",
   "execution_count": null,
   "id": "5292fc7e",
   "metadata": {},
   "outputs": [],
   "source": []
  },
  {
   "cell_type": "code",
   "execution_count": null,
   "id": "569f3911",
   "metadata": {},
   "outputs": [],
   "source": []
  },
  {
   "cell_type": "code",
   "execution_count": null,
   "id": "584be2b5",
   "metadata": {},
   "outputs": [],
   "source": []
  },
  {
   "cell_type": "code",
   "execution_count": null,
   "id": "b552b94b",
   "metadata": {},
   "outputs": [],
   "source": []
  },
  {
   "cell_type": "code",
   "execution_count": null,
   "id": "cef43099",
   "metadata": {},
   "outputs": [],
   "source": []
  },
  {
   "cell_type": "markdown",
   "id": "935d5cb4",
   "metadata": {},
   "source": [
    "### Descriptive Stats"
   ]
  },
  {
   "cell_type": "code",
   "execution_count": null,
   "id": "e5885133",
   "metadata": {},
   "outputs": [],
   "source": [
    "#pulling back my big array from 1 - 100\n"
   ]
  },
  {
   "cell_type": "markdown",
   "id": "a2e09f03",
   "metadata": {},
   "source": [
    "#### using methods: the method is called on the numpy object\n",
    "format: object.method()"
   ]
  },
  {
   "cell_type": "code",
   "execution_count": null,
   "id": "b0d499e1",
   "metadata": {},
   "outputs": [],
   "source": []
  },
  {
   "cell_type": "code",
   "execution_count": null,
   "id": "e3aba787",
   "metadata": {},
   "outputs": [],
   "source": []
  },
  {
   "cell_type": "code",
   "execution_count": null,
   "id": "f4ffbe68",
   "metadata": {},
   "outputs": [],
   "source": []
  },
  {
   "cell_type": "code",
   "execution_count": null,
   "id": "a7462189",
   "metadata": {},
   "outputs": [],
   "source": []
  },
  {
   "cell_type": "code",
   "execution_count": null,
   "id": "8f7c042f",
   "metadata": {},
   "outputs": [],
   "source": []
  },
  {
   "cell_type": "code",
   "execution_count": null,
   "id": "d398e54e",
   "metadata": {},
   "outputs": [],
   "source": []
  },
  {
   "cell_type": "markdown",
   "id": "9db0e64b",
   "metadata": {},
   "source": [
    "#### using functions: using numpy to call functions\n",
    "np.function(object)"
   ]
  },
  {
   "cell_type": "code",
   "execution_count": null,
   "id": "28de364c",
   "metadata": {},
   "outputs": [],
   "source": []
  },
  {
   "cell_type": "code",
   "execution_count": null,
   "id": "06bd0268",
   "metadata": {},
   "outputs": [],
   "source": []
  },
  {
   "cell_type": "code",
   "execution_count": null,
   "id": "9b831c67",
   "metadata": {},
   "outputs": [],
   "source": []
  },
  {
   "cell_type": "code",
   "execution_count": null,
   "id": "b30fb11d",
   "metadata": {},
   "outputs": [],
   "source": []
  },
  {
   "cell_type": "code",
   "execution_count": null,
   "id": "e274165f",
   "metadata": {},
   "outputs": [],
   "source": []
  },
  {
   "cell_type": "code",
   "execution_count": null,
   "id": "42e4fbec",
   "metadata": {},
   "outputs": [],
   "source": []
  },
  {
   "cell_type": "markdown",
   "id": "87116e79",
   "metadata": {},
   "source": [
    "### Array of Booleans! "
   ]
  },
  {
   "cell_type": "markdown",
   "id": "61f9e819",
   "metadata": {},
   "source": [
    "### Boolean Masks"
   ]
  },
  {
   "cell_type": "markdown",
   "id": "dfe35c0b",
   "metadata": {},
   "source": [
    "1. create an array\n",
    "2. make a list of booleans (mask)\n",
    "3. combine\n",
    "\n",
    "    format: array [ list of booleans ] "
   ]
  },
  {
   "cell_type": "code",
   "execution_count": null,
   "id": "57b02398",
   "metadata": {},
   "outputs": [],
   "source": [
    "#pull back our small array\n"
   ]
  },
  {
   "cell_type": "code",
   "execution_count": null,
   "id": "117a0cdb",
   "metadata": {},
   "outputs": [],
   "source": [
    "#make list of booleans aka our mask\n"
   ]
  },
  {
   "cell_type": "code",
   "execution_count": null,
   "id": "11cac65c",
   "metadata": {},
   "outputs": [],
   "source": []
  },
  {
   "cell_type": "code",
   "execution_count": null,
   "id": "d5fd35ca",
   "metadata": {},
   "outputs": [],
   "source": [
    "#combine them \n"
   ]
  },
  {
   "cell_type": "markdown",
   "id": "091b2ee7",
   "metadata": {},
   "source": [
    "> only return values that are true. this is known as boolean masking"
   ]
  },
  {
   "cell_type": "markdown",
   "id": "31eaff9d",
   "metadata": {},
   "source": [
    "#### how else can we get our array of boolean values?"
   ]
  },
  {
   "cell_type": "code",
   "execution_count": null,
   "id": "95bf95d3",
   "metadata": {},
   "outputs": [],
   "source": []
  },
  {
   "cell_type": "code",
   "execution_count": null,
   "id": "fe83d33a",
   "metadata": {},
   "outputs": [],
   "source": []
  },
  {
   "cell_type": "code",
   "execution_count": null,
   "id": "280e8fb0",
   "metadata": {},
   "outputs": [],
   "source": []
  },
  {
   "cell_type": "code",
   "execution_count": null,
   "id": "44de80b3",
   "metadata": {},
   "outputs": [],
   "source": []
  },
  {
   "cell_type": "code",
   "execution_count": null,
   "id": "fe848995",
   "metadata": {},
   "outputs": [],
   "source": []
  },
  {
   "cell_type": "code",
   "execution_count": null,
   "id": "12ac25e1",
   "metadata": {},
   "outputs": [],
   "source": []
  },
  {
   "cell_type": "code",
   "execution_count": null,
   "id": "a917b625",
   "metadata": {},
   "outputs": [],
   "source": []
  },
  {
   "cell_type": "code",
   "execution_count": null,
   "id": "4061a07a",
   "metadata": {},
   "outputs": [],
   "source": []
  },
  {
   "cell_type": "markdown",
   "id": "b751df42",
   "metadata": {},
   "source": [
    "#### what about with multiple conditions?"
   ]
  },
  {
   "cell_type": "code",
   "execution_count": null,
   "id": "ba375d00",
   "metadata": {},
   "outputs": [],
   "source": []
  },
  {
   "cell_type": "code",
   "execution_count": null,
   "id": "9b8a963f",
   "metadata": {},
   "outputs": [],
   "source": []
  },
  {
   "cell_type": "code",
   "execution_count": null,
   "id": "af50def8",
   "metadata": {},
   "outputs": [],
   "source": []
  },
  {
   "cell_type": "markdown",
   "id": "39cc5e0b",
   "metadata": {},
   "source": [
    "#### do it with a matrix!"
   ]
  },
  {
   "cell_type": "code",
   "execution_count": null,
   "id": "3c42cdf4",
   "metadata": {},
   "outputs": [],
   "source": []
  },
  {
   "cell_type": "code",
   "execution_count": null,
   "id": "7082cadd",
   "metadata": {},
   "outputs": [],
   "source": []
  },
  {
   "cell_type": "code",
   "execution_count": null,
   "id": "92f81004",
   "metadata": {},
   "outputs": [],
   "source": []
  },
  {
   "cell_type": "markdown",
   "id": "6e6365e8",
   "metadata": {},
   "source": [
    "#### cool! can we just do it with a list instead of an array?"
   ]
  },
  {
   "cell_type": "code",
   "execution_count": null,
   "id": "f055415f",
   "metadata": {},
   "outputs": [],
   "source": []
  },
  {
   "cell_type": "code",
   "execution_count": null,
   "id": "1bbf0365",
   "metadata": {},
   "outputs": [],
   "source": []
  },
  {
   "cell_type": "code",
   "execution_count": null,
   "id": "a05cd733",
   "metadata": {},
   "outputs": [],
   "source": []
  },
  {
   "cell_type": "code",
   "execution_count": null,
   "id": "cd24b42c",
   "metadata": {},
   "outputs": [],
   "source": []
  },
  {
   "cell_type": "markdown",
   "id": "7b5bcb42",
   "metadata": {},
   "source": [
    "#### let's bring it back to arrays and make them bigger"
   ]
  },
  {
   "cell_type": "code",
   "execution_count": null,
   "id": "62f6abfe",
   "metadata": {},
   "outputs": [],
   "source": []
  },
  {
   "cell_type": "code",
   "execution_count": null,
   "id": "893e651a",
   "metadata": {},
   "outputs": [],
   "source": []
  },
  {
   "cell_type": "code",
   "execution_count": null,
   "id": "6bec10e8",
   "metadata": {},
   "outputs": [],
   "source": []
  },
  {
   "cell_type": "markdown",
   "id": "0bf17887",
   "metadata": {},
   "source": [
    "#### what if the numbers are out of order?"
   ]
  },
  {
   "cell_type": "code",
   "execution_count": null,
   "id": "0e2b7f11",
   "metadata": {},
   "outputs": [],
   "source": []
  },
  {
   "cell_type": "code",
   "execution_count": null,
   "id": "72993daa",
   "metadata": {},
   "outputs": [],
   "source": []
  },
  {
   "cell_type": "code",
   "execution_count": null,
   "id": "69a01c26",
   "metadata": {},
   "outputs": [],
   "source": []
  },
  {
   "cell_type": "markdown",
   "id": "1570584a",
   "metadata": {},
   "source": [
    "> still works!"
   ]
  },
  {
   "cell_type": "markdown",
   "id": "5f920363",
   "metadata": {},
   "source": [
    "#### shortcut?"
   ]
  },
  {
   "cell_type": "code",
   "execution_count": null,
   "id": "1a4f7494",
   "metadata": {},
   "outputs": [],
   "source": []
  },
  {
   "cell_type": "markdown",
   "id": "35601d8b",
   "metadata": {},
   "source": [
    "#### what if you put something that was all false, what would it return?"
   ]
  },
  {
   "cell_type": "code",
   "execution_count": null,
   "id": "b5279c3e",
   "metadata": {},
   "outputs": [],
   "source": []
  },
  {
   "cell_type": "code",
   "execution_count": null,
   "id": "d29657d2",
   "metadata": {},
   "outputs": [],
   "source": []
  },
  {
   "cell_type": "markdown",
   "id": "f761ae25",
   "metadata": {},
   "source": [
    "> an empty array"
   ]
  },
  {
   "cell_type": "markdown",
   "id": "edf34dac",
   "metadata": {},
   "source": [
    "#### what if we wanted to check two conditions?"
   ]
  },
  {
   "cell_type": "code",
   "execution_count": null,
   "id": "dc0158f3",
   "metadata": {},
   "outputs": [],
   "source": []
  },
  {
   "cell_type": "code",
   "execution_count": null,
   "id": "eaa2e109",
   "metadata": {},
   "outputs": [],
   "source": []
  },
  {
   "cell_type": "code",
   "execution_count": null,
   "id": "a44074b6",
   "metadata": {},
   "outputs": [],
   "source": []
  },
  {
   "cell_type": "markdown",
   "id": "9d8b88c9",
   "metadata": {},
   "source": [
    "#### can we convert our arrays back to lists?"
   ]
  },
  {
   "cell_type": "code",
   "execution_count": null,
   "id": "814ad81c",
   "metadata": {},
   "outputs": [],
   "source": []
  },
  {
   "cell_type": "code",
   "execution_count": null,
   "id": "53c98545",
   "metadata": {},
   "outputs": [],
   "source": []
  },
  {
   "cell_type": "code",
   "execution_count": null,
   "id": "110b413f",
   "metadata": {},
   "outputs": [],
   "source": []
  },
  {
   "cell_type": "markdown",
   "id": "8299df12",
   "metadata": {},
   "source": [
    "#### what if we wanted the opposite of our mask?"
   ]
  },
  {
   "cell_type": "code",
   "execution_count": null,
   "id": "83a6ea35",
   "metadata": {},
   "outputs": [],
   "source": []
  },
  {
   "cell_type": "code",
   "execution_count": null,
   "id": "e7477e3a",
   "metadata": {},
   "outputs": [],
   "source": []
  },
  {
   "cell_type": "code",
   "execution_count": null,
   "id": "8b8c4952",
   "metadata": {},
   "outputs": [],
   "source": []
  },
  {
   "cell_type": "markdown",
   "id": "medium-generation",
   "metadata": {},
   "source": [
    "## Vectorization Operations\n",
    "- makes looping over math so easy and fast!"
   ]
  },
  {
   "cell_type": "markdown",
   "id": "89f892da",
   "metadata": {},
   "source": [
    "### Add one to every element"
   ]
  },
  {
   "cell_type": "markdown",
   "id": "fab3567f",
   "metadata": {},
   "source": [
    "#### hard way: doing it in a list"
   ]
  },
  {
   "cell_type": "code",
   "execution_count": null,
   "id": "7977d3af",
   "metadata": {},
   "outputs": [],
   "source": []
  },
  {
   "cell_type": "code",
   "execution_count": null,
   "id": "d563a53a",
   "metadata": {},
   "outputs": [],
   "source": []
  },
  {
   "cell_type": "code",
   "execution_count": null,
   "id": "cd73dd09",
   "metadata": {},
   "outputs": [],
   "source": []
  },
  {
   "cell_type": "markdown",
   "id": "6aaed3f3",
   "metadata": {},
   "source": [
    "#### easy way: doing it with an array"
   ]
  },
  {
   "cell_type": "code",
   "execution_count": null,
   "id": "8bd6ca2f",
   "metadata": {},
   "outputs": [],
   "source": []
  },
  {
   "cell_type": "code",
   "execution_count": null,
   "id": "45f606ee",
   "metadata": {},
   "outputs": [],
   "source": []
  },
  {
   "cell_type": "markdown",
   "id": "dc17dec3",
   "metadata": {},
   "source": [
    "### more operations"
   ]
  },
  {
   "cell_type": "code",
   "execution_count": null,
   "id": "2fa032ef",
   "metadata": {},
   "outputs": [],
   "source": []
  },
  {
   "cell_type": "code",
   "execution_count": null,
   "id": "6c198079",
   "metadata": {},
   "outputs": [],
   "source": []
  },
  {
   "cell_type": "code",
   "execution_count": null,
   "id": "0187c400",
   "metadata": {},
   "outputs": [],
   "source": []
  },
  {
   "cell_type": "code",
   "execution_count": null,
   "id": "c6aba93b",
   "metadata": {},
   "outputs": [],
   "source": []
  },
  {
   "cell_type": "code",
   "execution_count": null,
   "id": "3403f126",
   "metadata": {},
   "outputs": [],
   "source": []
  },
  {
   "cell_type": "code",
   "execution_count": null,
   "id": "d30db028",
   "metadata": {},
   "outputs": [],
   "source": []
  },
  {
   "cell_type": "markdown",
   "id": "52db2ba4",
   "metadata": {},
   "source": [
    "### show us the speed"
   ]
  },
  {
   "cell_type": "code",
   "execution_count": null,
   "id": "6070b58e",
   "metadata": {},
   "outputs": [],
   "source": [
    "#make a really big array\n"
   ]
  },
  {
   "cell_type": "code",
   "execution_count": null,
   "id": "a8b1b023",
   "metadata": {},
   "outputs": [],
   "source": []
  },
  {
   "cell_type": "code",
   "execution_count": null,
   "id": "f6744326",
   "metadata": {},
   "outputs": [],
   "source": [
    "]"
   ]
  },
  {
   "cell_type": "code",
   "execution_count": null,
   "id": "7e06a9b3",
   "metadata": {},
   "outputs": [],
   "source": []
  },
  {
   "cell_type": "markdown",
   "id": "008f3ba9",
   "metadata": {},
   "source": [
    "## Numpy ways to create arrays"
   ]
  },
  {
   "cell_type": "markdown",
   "id": "7b00460e",
   "metadata": {},
   "source": [
    "#### full of zeros"
   ]
  },
  {
   "cell_type": "code",
   "execution_count": null,
   "id": "3edb3b80",
   "metadata": {},
   "outputs": [],
   "source": []
  },
  {
   "cell_type": "code",
   "execution_count": null,
   "id": "ea895219",
   "metadata": {},
   "outputs": [],
   "source": []
  },
  {
   "cell_type": "code",
   "execution_count": null,
   "id": "218e7089",
   "metadata": {},
   "outputs": [],
   "source": []
  },
  {
   "cell_type": "code",
   "execution_count": null,
   "id": "301b4ee1",
   "metadata": {},
   "outputs": [],
   "source": []
  },
  {
   "cell_type": "code",
   "execution_count": null,
   "id": "b52a71c7",
   "metadata": {},
   "outputs": [],
   "source": []
  },
  {
   "cell_type": "markdown",
   "id": "96027d7c",
   "metadata": {},
   "source": [
    "#### full of ones"
   ]
  },
  {
   "cell_type": "code",
   "execution_count": null,
   "id": "a875a9dd",
   "metadata": {},
   "outputs": [],
   "source": []
  },
  {
   "cell_type": "code",
   "execution_count": null,
   "id": "deedc29a",
   "metadata": {},
   "outputs": [],
   "source": []
  },
  {
   "cell_type": "markdown",
   "id": "e520429e",
   "metadata": {},
   "source": [
    "#### full of whatever you want "
   ]
  },
  {
   "cell_type": "code",
   "execution_count": null,
   "id": "5d1341a0",
   "metadata": {},
   "outputs": [],
   "source": []
  },
  {
   "cell_type": "code",
   "execution_count": null,
   "id": "6e800f3d",
   "metadata": {},
   "outputs": [],
   "source": []
  },
  {
   "cell_type": "code",
   "execution_count": null,
   "id": "9666832d",
   "metadata": {},
   "outputs": [],
   "source": []
  },
  {
   "cell_type": "code",
   "execution_count": null,
   "id": "b7608404",
   "metadata": {},
   "outputs": [],
   "source": []
  },
  {
   "cell_type": "code",
   "execution_count": null,
   "id": "666a1c8d",
   "metadata": {},
   "outputs": [],
   "source": []
  },
  {
   "cell_type": "markdown",
   "id": "7cad389d",
   "metadata": {},
   "source": [
    "#### a quicker way to make a range"
   ]
  },
  {
   "cell_type": "code",
   "execution_count": null,
   "id": "eee9dd7c",
   "metadata": {},
   "outputs": [],
   "source": []
  },
  {
   "cell_type": "code",
   "execution_count": null,
   "id": "5e2315b5",
   "metadata": {},
   "outputs": [],
   "source": []
  },
  {
   "cell_type": "code",
   "execution_count": null,
   "id": "a1b53149",
   "metadata": {},
   "outputs": [],
   "source": []
  },
  {
   "cell_type": "markdown",
   "id": "52dbba51",
   "metadata": {},
   "source": [
    "#### an array of random integers"
   ]
  },
  {
   "cell_type": "code",
   "execution_count": null,
   "id": "085b75a3",
   "metadata": {},
   "outputs": [],
   "source": []
  },
  {
   "cell_type": "code",
   "execution_count": null,
   "id": "4569a8cf",
   "metadata": {},
   "outputs": [],
   "source": []
  },
  {
   "cell_type": "code",
   "execution_count": null,
   "id": "ba0bc709",
   "metadata": {},
   "outputs": [],
   "source": []
  },
  {
   "cell_type": "markdown",
   "id": "df0a42da",
   "metadata": {},
   "source": [
    "#### an array of random numbers from the standard distribution"
   ]
  },
  {
   "cell_type": "code",
   "execution_count": null,
   "id": "3f636ce8",
   "metadata": {},
   "outputs": [],
   "source": []
  },
  {
   "cell_type": "code",
   "execution_count": null,
   "id": "92cfadb4",
   "metadata": {},
   "outputs": [],
   "source": []
  },
  {
   "cell_type": "code",
   "execution_count": null,
   "id": "6ff1115b",
   "metadata": {},
   "outputs": [],
   "source": []
  }
 ],
 "metadata": {
  "kernelspec": {
   "display_name": "Python 3 (ipykernel)",
   "language": "python",
   "name": "python3"
  },
  "language_info": {
   "codemirror_mode": {
    "name": "ipython",
    "version": 3
   },
   "file_extension": ".py",
   "mimetype": "text/x-python",
   "name": "python",
   "nbconvert_exporter": "python",
   "pygments_lexer": "ipython3",
   "version": "3.11.2"
  }
 },
 "nbformat": 4,
 "nbformat_minor": 5
}
