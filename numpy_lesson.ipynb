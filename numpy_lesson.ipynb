{
 "cells": [
  {
   "cell_type": "markdown",
   "id": "f27ef46d",
   "metadata": {},
   "source": [
    "# Numpy"
   ]
  },
  {
   "cell_type": "markdown",
   "id": "b81324d7",
   "metadata": {},
   "source": [
    "https://numpy.org/"
   ]
  },
  {
   "cell_type": "markdown",
   "id": "25a9ba1c",
   "metadata": {},
   "source": [
    "## What is it? \n",
    "- Numpy is a Python library used for working with arrays\n",
    "- Numpy is the fundamental package for scientific computing in Python\n",
    "\n",
    "\n",
    "## Why do we care? \n",
    "- Numpy is one of the main reasons why Python is so powerful and popular for scientific computing\n",
    "- Super fast. Numpy arrays are implemented in C, which makes numpy very fast.\n",
    "- The arrays allows for vectorized operations"
   ]
  },
  {
   "cell_type": "markdown",
   "id": "28729cf1",
   "metadata": {},
   "source": [
    "## Show us! "
   ]
  },
  {
   "cell_type": "markdown",
   "id": "e2d18e84",
   "metadata": {},
   "source": [
    "### Create a 1D array"
   ]
  },
  {
   "cell_type": "markdown",
   "id": "4bd6c942",
   "metadata": {},
   "source": [
    "#### create a list\n",
    "format: list()"
   ]
  },
  {
   "cell_type": "code",
   "execution_count": 1,
   "id": "556639b0-bdf6-4712-9bc1-cff6ace0cf67",
   "metadata": {},
   "outputs": [],
   "source": [
    "# Previously:\n",
    "\n",
    "my_list = ['apple', 'banana', 'peach', 'plum']"
   ]
  },
  {
   "cell_type": "code",
   "execution_count": 2,
   "id": "c0ca70e1-a1fd-45fb-8977-b483ff33d50a",
   "metadata": {},
   "outputs": [
    {
     "data": {
      "text/plain": [
       "'apple'"
      ]
     },
     "execution_count": 2,
     "metadata": {},
     "output_type": "execute_result"
    }
   ],
   "source": [
    "# indexing:\n",
    "my_list[0]"
   ]
  },
  {
   "cell_type": "code",
   "execution_count": 3,
   "id": "d7ad80e9-edb5-42f5-a96a-6639004560c6",
   "metadata": {},
   "outputs": [
    {
     "data": {
      "text/plain": [
       "['banana', 'peach', 'plum']"
      ]
     },
     "execution_count": 3,
     "metadata": {},
     "output_type": "execute_result"
    }
   ],
   "source": [
    "my_list[1:]"
   ]
  },
  {
   "cell_type": "code",
   "execution_count": 4,
   "id": "9e925344-ad7c-436c-aeb4-efd895f50ae4",
   "metadata": {},
   "outputs": [],
   "source": [
    "added_string = 'my favorite fruit is: '"
   ]
  },
  {
   "cell_type": "code",
   "execution_count": 5,
   "id": "cd10469d-8dcc-414b-bfe9-016e53133a29",
   "metadata": {},
   "outputs": [
    {
     "data": {
      "text/plain": [
       "['my favorite fruit is: apple',\n",
       " 'my favorite fruit is: banana',\n",
       " 'my favorite fruit is: peach',\n",
       " 'my favorite fruit is: plum']"
      ]
     },
     "execution_count": 5,
     "metadata": {},
     "output_type": "execute_result"
    }
   ],
   "source": [
    "[added_string + fruit for fruit in my_list]"
   ]
  },
  {
   "cell_type": "code",
   "execution_count": 6,
   "id": "f1cb603f-1a4a-415a-8baf-32cefd1f8269",
   "metadata": {},
   "outputs": [],
   "source": [
    "my_list.append(added_string)"
   ]
  },
  {
   "cell_type": "code",
   "execution_count": 7,
   "id": "891a79e2-21a5-4afe-8958-d7376dd40355",
   "metadata": {},
   "outputs": [
    {
     "data": {
      "text/plain": [
       "['apple', 'banana', 'peach', 'plum', 'my favorite fruit is: ']"
      ]
     },
     "execution_count": 7,
     "metadata": {},
     "output_type": "execute_result"
    }
   ],
   "source": [
    "my_list"
   ]
  },
  {
   "cell_type": "code",
   "execution_count": 8,
   "id": "919b511c",
   "metadata": {},
   "outputs": [
    {
     "data": {
      "text/plain": [
       "[1, 2, 3, 4]"
      ]
     },
     "execution_count": 8,
     "metadata": {},
     "output_type": "execute_result"
    }
   ],
   "source": [
    "#create a list\n",
    "my_list = [1,2,3,4]\n",
    "my_list"
   ]
  },
  {
   "cell_type": "code",
   "execution_count": 9,
   "id": "842c5167",
   "metadata": {},
   "outputs": [
    {
     "data": {
      "text/plain": [
       "list"
      ]
     },
     "execution_count": 9,
     "metadata": {},
     "output_type": "execute_result"
    }
   ],
   "source": [
    "#whats the type\n",
    "type(my_list)"
   ]
  },
  {
   "cell_type": "code",
   "execution_count": 10,
   "id": "a2e3be73",
   "metadata": {},
   "outputs": [
    {
     "name": "stdout",
     "output_type": "stream",
     "text": [
      "<class 'int'>\n",
      "<class 'int'>\n",
      "<class 'int'>\n",
      "<class 'int'>\n"
     ]
    }
   ],
   "source": [
    "#what is dtype\n",
    "# if I want to figure out the data type of the contents\n",
    "# of this list, I would need to iterate over the individual pieces\n",
    "for i in my_list:\n",
    "    print(type(i))"
   ]
  },
  {
   "cell_type": "code",
   "execution_count": 11,
   "id": "cabeecbd-8465-4079-80a9-f95ee3f7b819",
   "metadata": {},
   "outputs": [],
   "source": [
    "# ineffective: dtype(my_list)"
   ]
  },
  {
   "cell_type": "code",
   "execution_count": 12,
   "id": "2bb1ce81",
   "metadata": {},
   "outputs": [
    {
     "data": {
      "text/plain": [
       "4"
      ]
     },
     "execution_count": 12,
     "metadata": {},
     "output_type": "execute_result"
    }
   ],
   "source": [
    "#whats the shape\n",
    "len(my_list)"
   ]
  },
  {
   "cell_type": "code",
   "execution_count": 13,
   "id": "a08afbd6-10a3-44f7-adac-d1e3407abaea",
   "metadata": {},
   "outputs": [],
   "source": [
    "my_second_list = [\n",
    "    [1, 2, 3],\n",
    "    [4, 5, 6],\n",
    "    [7, 8, 9] \n",
    "]"
   ]
  },
  {
   "cell_type": "code",
   "execution_count": 14,
   "id": "e5368de3-5c2d-41ba-a2b7-982eeca2f8a4",
   "metadata": {},
   "outputs": [
    {
     "data": {
      "text/plain": [
       "3"
      ]
     },
     "execution_count": 14,
     "metadata": {},
     "output_type": "execute_result"
    }
   ],
   "source": [
    "len(my_second_list)"
   ]
  },
  {
   "cell_type": "code",
   "execution_count": 15,
   "id": "eb9dddf8-8361-41f4-a610-f22bdaa505d9",
   "metadata": {},
   "outputs": [
    {
     "name": "stdout",
     "output_type": "stream",
     "text": [
      "3\n",
      "3\n",
      "3\n"
     ]
    }
   ],
   "source": [
    "for little_list in my_second_list:\n",
    "    print(len(little_list))"
   ]
  },
  {
   "cell_type": "code",
   "execution_count": 16,
   "id": "d4f48231-1661-4d15-9b8f-66970360f2c7",
   "metadata": {},
   "outputs": [],
   "source": [
    "# importing numpy:\n",
    "# industry standard alias: np\n",
    "import numpy as np"
   ]
  },
  {
   "cell_type": "markdown",
   "id": "14284603",
   "metadata": {},
   "source": [
    "#### create an array\n",
    "format: np.array()"
   ]
  },
  {
   "cell_type": "code",
   "execution_count": 17,
   "id": "9e0eb033",
   "metadata": {},
   "outputs": [],
   "source": [
    "#create the array (from the contents of the list)\n",
    "# np.array?\n",
    "# array is an object in the numpy library.  cast your list \n",
    "my_array = np.array(my_list)"
   ]
  },
  {
   "cell_type": "code",
   "execution_count": 18,
   "id": "3ec6ab1b",
   "metadata": {},
   "outputs": [
    {
     "data": {
      "text/plain": [
       "numpy.ndarray"
      ]
     },
     "execution_count": 18,
     "metadata": {},
     "output_type": "execute_result"
    }
   ],
   "source": [
    "#whats the type\n",
    "type(my_array)"
   ]
  },
  {
   "cell_type": "code",
   "execution_count": 19,
   "id": "5ee6331e",
   "metadata": {},
   "outputs": [
    {
     "data": {
      "text/plain": [
       "4"
      ]
     },
     "execution_count": 19,
     "metadata": {},
     "output_type": "execute_result"
    }
   ],
   "source": [
    "#whats the shape\n",
    "# old method will work, but:\n",
    "len(my_array)"
   ]
  },
  {
   "cell_type": "code",
   "execution_count": 20,
   "id": "f21fae42-adc9-40f8-8469-dcd333ae6878",
   "metadata": {},
   "outputs": [
    {
     "data": {
      "text/plain": [
       "(4,)"
      ]
     },
     "execution_count": 20,
     "metadata": {},
     "output_type": "execute_result"
    }
   ],
   "source": [
    "my_array.shape"
   ]
  },
  {
   "cell_type": "code",
   "execution_count": 21,
   "id": "8d9a67c3",
   "metadata": {},
   "outputs": [
    {
     "data": {
      "text/plain": [
       "dtype('int64')"
      ]
     },
     "execution_count": 21,
     "metadata": {},
     "output_type": "execute_result"
    }
   ],
   "source": [
    "#dtype\n",
    "my_array.dtype"
   ]
  },
  {
   "cell_type": "markdown",
   "id": "0c677244",
   "metadata": {},
   "source": [
    "#### access elements of our new array"
   ]
  },
  {
   "cell_type": "markdown",
   "id": "2079c7c4",
   "metadata": {},
   "source": [
    "#### slice the array"
   ]
  },
  {
   "cell_type": "code",
   "execution_count": 22,
   "id": "38f4f76b",
   "metadata": {},
   "outputs": [],
   "source": [
    "my_2d_array = np.array(my_second_list)"
   ]
  },
  {
   "cell_type": "code",
   "execution_count": 23,
   "id": "53c416d9",
   "metadata": {},
   "outputs": [],
   "source": [
    "# indexing my_array will be similar to the way we index a list"
   ]
  },
  {
   "cell_type": "code",
   "execution_count": 24,
   "id": "bb7608cd",
   "metadata": {},
   "outputs": [
    {
     "data": {
      "text/plain": [
       "1"
      ]
     },
     "execution_count": 24,
     "metadata": {},
     "output_type": "execute_result"
    }
   ],
   "source": [
    "my_array[0]"
   ]
  },
  {
   "cell_type": "code",
   "execution_count": 25,
   "id": "bd8e9a94",
   "metadata": {},
   "outputs": [
    {
     "data": {
      "text/plain": [
       "array([2])"
      ]
     },
     "execution_count": 25,
     "metadata": {},
     "output_type": "execute_result"
    }
   ],
   "source": [
    "my_array[1:2]"
   ]
  },
  {
   "cell_type": "code",
   "execution_count": 26,
   "id": "4b4f7ba1",
   "metadata": {},
   "outputs": [
    {
     "data": {
      "text/plain": [
       "array([1, 2, 3, 4])"
      ]
     },
     "execution_count": 26,
     "metadata": {},
     "output_type": "execute_result"
    }
   ],
   "source": [
    "my_array"
   ]
  },
  {
   "cell_type": "markdown",
   "id": "14841d0f",
   "metadata": {},
   "source": [
    "#### create an array from 1 to 100"
   ]
  },
  {
   "cell_type": "code",
   "execution_count": 27,
   "id": "6a833fd0",
   "metadata": {},
   "outputs": [],
   "source": [
    "my_100 = np.array(range(1,101))"
   ]
  },
  {
   "cell_type": "code",
   "execution_count": 28,
   "id": "6c4bf33b",
   "metadata": {},
   "outputs": [
    {
     "data": {
      "text/plain": [
       "array([ 1,  2,  3,  4,  5,  6,  7,  8,  9, 10])"
      ]
     },
     "execution_count": 28,
     "metadata": {},
     "output_type": "execute_result"
    }
   ],
   "source": [
    "my_100[:10]"
   ]
  },
  {
   "cell_type": "markdown",
   "id": "986db7a5",
   "metadata": {},
   "source": [
    "### Create a 2D array"
   ]
  },
  {
   "cell_type": "code",
   "execution_count": 29,
   "id": "a93f180e-b1aa-4814-b1ea-d9dcd323b531",
   "metadata": {},
   "outputs": [
    {
     "data": {
      "text/plain": [
       "array([[1, 2, 3],\n",
       "       [4, 5, 6],\n",
       "       [7, 8, 9]])"
      ]
     },
     "execution_count": 29,
     "metadata": {},
     "output_type": "execute_result"
    }
   ],
   "source": [
    "my_2d_array"
   ]
  },
  {
   "cell_type": "code",
   "execution_count": 30,
   "id": "2932165c",
   "metadata": {},
   "outputs": [
    {
     "data": {
      "text/plain": [
       "numpy.ndarray"
      ]
     },
     "execution_count": 30,
     "metadata": {},
     "output_type": "execute_result"
    }
   ],
   "source": [
    "#type\n",
    "type(my_2d_array)"
   ]
  },
  {
   "cell_type": "code",
   "execution_count": 31,
   "id": "b62ee3e7",
   "metadata": {},
   "outputs": [
    {
     "data": {
      "text/plain": [
       "(3, 3)"
      ]
     },
     "execution_count": 31,
     "metadata": {},
     "output_type": "execute_result"
    }
   ],
   "source": [
    "my_2d_array.shape"
   ]
  },
  {
   "cell_type": "markdown",
   "id": "a30948e1",
   "metadata": {},
   "source": [
    "#### access elements"
   ]
  },
  {
   "cell_type": "code",
   "execution_count": 32,
   "id": "5c34c287",
   "metadata": {},
   "outputs": [
    {
     "data": {
      "text/plain": [
       "array([1, 2, 3])"
      ]
     },
     "execution_count": 32,
     "metadata": {},
     "output_type": "execute_result"
    }
   ],
   "source": [
    "my_2d_array[0]"
   ]
  },
  {
   "cell_type": "code",
   "execution_count": 33,
   "id": "5292fc7e",
   "metadata": {},
   "outputs": [
    {
     "data": {
      "text/plain": [
       "3"
      ]
     },
     "execution_count": 33,
     "metadata": {},
     "output_type": "execute_result"
    }
   ],
   "source": [
    "my_second_list[0][2]"
   ]
  },
  {
   "cell_type": "code",
   "execution_count": 34,
   "id": "569f3911",
   "metadata": {},
   "outputs": [
    {
     "data": {
      "text/plain": [
       "3"
      ]
     },
     "execution_count": 34,
     "metadata": {},
     "output_type": "execute_result"
    }
   ],
   "source": [
    "my_2d_array[0][2]"
   ]
  },
  {
   "cell_type": "code",
   "execution_count": 35,
   "id": "584be2b5",
   "metadata": {},
   "outputs": [
    {
     "data": {
      "text/plain": [
       "3"
      ]
     },
     "execution_count": 35,
     "metadata": {},
     "output_type": "execute_result"
    }
   ],
   "source": [
    "my_2d_array[0,2]"
   ]
  },
  {
   "cell_type": "code",
   "execution_count": 36,
   "id": "b552b94b",
   "metadata": {},
   "outputs": [],
   "source": [
    "# breakage for the list:my_second_list[0,2]"
   ]
  },
  {
   "cell_type": "code",
   "execution_count": 37,
   "id": "5b83d7e3-62e5-4f43-88e9-d10451a2c470",
   "metadata": {},
   "outputs": [
    {
     "data": {
      "text/plain": [
       "array([[1, 2, 3],\n",
       "       [4, 5, 6],\n",
       "       [7, 8, 9]])"
      ]
     },
     "execution_count": 37,
     "metadata": {},
     "output_type": "execute_result"
    }
   ],
   "source": [
    "my_2d_array"
   ]
  },
  {
   "cell_type": "code",
   "execution_count": 38,
   "id": "cef43099",
   "metadata": {},
   "outputs": [
    {
     "data": {
      "text/plain": [
       "array([4, 5, 6])"
      ]
     },
     "execution_count": 38,
     "metadata": {},
     "output_type": "execute_result"
    }
   ],
   "source": [
    "my_2d_array[1,:]"
   ]
  },
  {
   "cell_type": "markdown",
   "id": "935d5cb4",
   "metadata": {},
   "source": [
    "### Descriptive Stats"
   ]
  },
  {
   "cell_type": "code",
   "execution_count": 39,
   "id": "e5885133",
   "metadata": {},
   "outputs": [],
   "source": [
    "#pulling back my big array from 1 - 100\n"
   ]
  },
  {
   "cell_type": "markdown",
   "id": "a2e09f03",
   "metadata": {},
   "source": [
    "#### using methods: the method is called on the numpy object\n",
    "format: object.method()"
   ]
  },
  {
   "cell_type": "code",
   "execution_count": 40,
   "id": "b0d499e1",
   "metadata": {},
   "outputs": [],
   "source": [
    "# descriptive stats on the 1-100 array:"
   ]
  },
  {
   "cell_type": "code",
   "execution_count": 41,
   "id": "f1148769-9a13-4ee4-a3a7-5e5b3ef9dbf6",
   "metadata": {},
   "outputs": [
    {
     "data": {
      "text/plain": [
       "50.5"
      ]
     },
     "execution_count": 41,
     "metadata": {},
     "output_type": "execute_result"
    }
   ],
   "source": [
    "my_100.mean()"
   ]
  },
  {
   "cell_type": "code",
   "execution_count": 42,
   "id": "f4ffbe68",
   "metadata": {},
   "outputs": [],
   "source": [
    "# breakage: my_100.avg()"
   ]
  },
  {
   "cell_type": "code",
   "execution_count": 43,
   "id": "a7462189",
   "metadata": {},
   "outputs": [
    {
     "data": {
      "text/plain": [
       "28.86607004772212"
      ]
     },
     "execution_count": 43,
     "metadata": {},
     "output_type": "execute_result"
    }
   ],
   "source": [
    "my_100.std()"
   ]
  },
  {
   "cell_type": "code",
   "execution_count": 44,
   "id": "8f7c042f",
   "metadata": {},
   "outputs": [
    {
     "data": {
      "text/plain": [
       "100"
      ]
     },
     "execution_count": 44,
     "metadata": {},
     "output_type": "execute_result"
    }
   ],
   "source": [
    "my_100.max()"
   ]
  },
  {
   "cell_type": "code",
   "execution_count": 45,
   "id": "d398e54e",
   "metadata": {},
   "outputs": [
    {
     "data": {
      "text/plain": [
       "1"
      ]
     },
     "execution_count": 45,
     "metadata": {},
     "output_type": "execute_result"
    }
   ],
   "source": [
    "my_100.min()"
   ]
  },
  {
   "cell_type": "code",
   "execution_count": 46,
   "id": "4207f5a3-a29e-40b2-9694-778a42e4e493",
   "metadata": {},
   "outputs": [
    {
     "data": {
      "text/plain": [
       "5050"
      ]
     },
     "execution_count": 46,
     "metadata": {},
     "output_type": "execute_result"
    }
   ],
   "source": [
    "my_100.sum()"
   ]
  },
  {
   "cell_type": "markdown",
   "id": "9db0e64b",
   "metadata": {},
   "source": [
    "#### using functions: using numpy to call functions\n",
    "np.function(object)"
   ]
  },
  {
   "cell_type": "code",
   "execution_count": 47,
   "id": "28de364c",
   "metadata": {},
   "outputs": [
    {
     "data": {
      "text/plain": [
       "100"
      ]
     },
     "execution_count": 47,
     "metadata": {},
     "output_type": "execute_result"
    }
   ],
   "source": [
    "# using dot notation:\n",
    "np.max(my_100)"
   ]
  },
  {
   "cell_type": "code",
   "execution_count": 48,
   "id": "42e4fbec",
   "metadata": {},
   "outputs": [],
   "source": [
    "# more interesting numpy functions to follow :)"
   ]
  },
  {
   "cell_type": "markdown",
   "id": "87116e79",
   "metadata": {},
   "source": [
    "### Array of Booleans! "
   ]
  },
  {
   "cell_type": "markdown",
   "id": "61f9e819",
   "metadata": {},
   "source": [
    "### Boolean Masks"
   ]
  },
  {
   "cell_type": "markdown",
   "id": "dfe35c0b",
   "metadata": {},
   "source": [
    "1. create an array\n",
    "2. make a list of booleans (mask)\n",
    "3. combine\n",
    "\n",
    "    format: array [ list of booleans ] "
   ]
  },
  {
   "cell_type": "code",
   "execution_count": 49,
   "id": "57b02398",
   "metadata": {},
   "outputs": [
    {
     "data": {
      "text/plain": [
       "array([1, 2, 3, 4])"
      ]
     },
     "execution_count": 49,
     "metadata": {},
     "output_type": "execute_result"
    }
   ],
   "source": [
    "#pull back our small array\n",
    "my_array"
   ]
  },
  {
   "cell_type": "code",
   "execution_count": 50,
   "id": "117a0cdb",
   "metadata": {},
   "outputs": [],
   "source": [
    "#make list of booleans aka our mask\n",
    "my_mask = [True, True, False, True]"
   ]
  },
  {
   "cell_type": "code",
   "execution_count": 51,
   "id": "11cac65c",
   "metadata": {},
   "outputs": [
    {
     "data": {
      "text/plain": [
       "(4, 4)"
      ]
     },
     "execution_count": 51,
     "metadata": {},
     "output_type": "execute_result"
    }
   ],
   "source": [
    "len(my_array), len(my_mask)"
   ]
  },
  {
   "cell_type": "code",
   "execution_count": 52,
   "id": "d5fd35ca",
   "metadata": {},
   "outputs": [
    {
     "data": {
      "text/plain": [
       "array([1, 2, 4])"
      ]
     },
     "execution_count": 52,
     "metadata": {},
     "output_type": "execute_result"
    }
   ],
   "source": [
    "#combine them \n",
    "my_array[my_mask]"
   ]
  },
  {
   "cell_type": "markdown",
   "id": "091b2ee7",
   "metadata": {},
   "source": [
    "> only return values that are true. this is known as boolean masking"
   ]
  },
  {
   "cell_type": "markdown",
   "id": "31eaff9d",
   "metadata": {},
   "source": [
    "#### how else can we get our array of boolean values?"
   ]
  },
  {
   "cell_type": "code",
   "execution_count": 53,
   "id": "95bf95d3",
   "metadata": {},
   "outputs": [],
   "source": [
    "# say I want to make an assessment \n",
    "# this is going to be like numpy's version of a where clause"
   ]
  },
  {
   "cell_type": "code",
   "execution_count": 54,
   "id": "fe83d33a",
   "metadata": {},
   "outputs": [
    {
     "data": {
      "text/plain": [
       "'\\nSELECT *\\nFROM my_table\\nWHERE ham > 10;\\n'"
      ]
     },
     "execution_count": 54,
     "metadata": {},
     "output_type": "execute_result"
    }
   ],
   "source": [
    "# previously,\n",
    "# we may have written something like:\n",
    "'''\n",
    "SELECT *\n",
    "FROM my_table\n",
    "WHERE ham > 10;\n",
    "'''"
   ]
  },
  {
   "cell_type": "code",
   "execution_count": 55,
   "id": "280e8fb0",
   "metadata": {},
   "outputs": [],
   "source": [
    "# my_100, where my_100 is greater than 10"
   ]
  },
  {
   "cell_type": "code",
   "execution_count": 56,
   "id": "44de80b3",
   "metadata": {},
   "outputs": [],
   "source": [
    "# if it was a list:\n",
    "# thing for thing in my_100 if thing > 10"
   ]
  },
  {
   "cell_type": "code",
   "execution_count": 57,
   "id": "fe848995",
   "metadata": {},
   "outputs": [],
   "source": [
    "my_over_ten_mask = my_100 > 10"
   ]
  },
  {
   "cell_type": "code",
   "execution_count": 58,
   "id": "12ac25e1",
   "metadata": {},
   "outputs": [
    {
     "data": {
      "text/plain": [
       "array([11, 12, 13, 14, 15, 16, 17, 18, 19, 20, 21, 22, 23, 24, 25, 26, 27,\n",
       "       28, 29, 30, 31, 32, 33, 34, 35, 36, 37, 38, 39, 40, 41, 42, 43, 44,\n",
       "       45, 46, 47, 48, 49, 50, 51, 52, 53, 54, 55, 56, 57, 58, 59, 60, 61,\n",
       "       62, 63, 64, 65, 66, 67, 68, 69, 70, 71, 72, 73, 74, 75, 76, 77, 78,\n",
       "       79, 80, 81, 82, 83, 84, 85, 86, 87, 88, 89, 90])"
      ]
     },
     "execution_count": 58,
     "metadata": {},
     "output_type": "execute_result"
    }
   ],
   "source": [
    "# my 100, where the contents are greater than 10\n",
    "my_100[my_over_ten_mask][:-10]"
   ]
  },
  {
   "cell_type": "code",
   "execution_count": 59,
   "id": "4061a07a",
   "metadata": {},
   "outputs": [
    {
     "data": {
      "text/plain": [
       "array([2, 4])"
      ]
     },
     "execution_count": 59,
     "metadata": {},
     "output_type": "execute_result"
    }
   ],
   "source": [
    "# I can do this in-line without making a var:\n",
    "# elements from my_array that are even:\n",
    "my_array[my_array % 2 == 0]"
   ]
  },
  {
   "cell_type": "markdown",
   "id": "b751df42",
   "metadata": {},
   "source": [
    "#### what about with multiple conditions?"
   ]
  },
  {
   "cell_type": "code",
   "execution_count": 60,
   "id": "ba375d00",
   "metadata": {},
   "outputs": [],
   "source": [
    "# because we are working with multiple elements:\n",
    "# we need to specify conditional operators"
   ]
  },
  {
   "cell_type": "code",
   "execution_count": 61,
   "id": "9b8a963f",
   "metadata": {},
   "outputs": [],
   "source": [
    "# and: &\n",
    "# or: |"
   ]
  },
  {
   "cell_type": "code",
   "execution_count": 62,
   "id": "af50def8",
   "metadata": {},
   "outputs": [
    {
     "data": {
      "text/plain": [
       "array([2])"
      ]
     },
     "execution_count": 62,
     "metadata": {},
     "output_type": "execute_result"
    }
   ],
   "source": [
    "# my array.\n",
    "# where the elements of my array divided by two does not have a remainder\n",
    "# and where that element is less than 3\n",
    "my_array[(my_array % 2 == 0) & (my_array < 3)]"
   ]
  },
  {
   "cell_type": "code",
   "execution_count": 63,
   "id": "cfa6bd9e-ef53-49dd-9e44-d76dd35bce4f",
   "metadata": {},
   "outputs": [
    {
     "data": {
      "text/plain": [
       "array([1, 2, 4])"
      ]
     },
     "execution_count": 63,
     "metadata": {},
     "output_type": "execute_result"
    }
   ],
   "source": [
    "# my array.\n",
    "# where the elements of my array divided by two does not have a remainder\n",
    "# OR where that element is less than 3\n",
    "my_array[(my_array % 2 == 0) | (my_array < 3)]"
   ]
  },
  {
   "cell_type": "markdown",
   "id": "39cc5e0b",
   "metadata": {},
   "source": [
    "#### do it with a matrix!"
   ]
  },
  {
   "cell_type": "code",
   "execution_count": 64,
   "id": "3c42cdf4",
   "metadata": {},
   "outputs": [
    {
     "data": {
      "text/plain": [
       "array([1, 2, 3, 4, 5, 6])"
      ]
     },
     "execution_count": 64,
     "metadata": {},
     "output_type": "execute_result"
    }
   ],
   "source": [
    "my_2d_array[my_2d_array < 7]"
   ]
  },
  {
   "cell_type": "code",
   "execution_count": 65,
   "id": "7082cadd",
   "metadata": {},
   "outputs": [
    {
     "data": {
      "text/plain": [
       "array([[1, 2, 3],\n",
       "       [4, 5, 6],\n",
       "       [7, 8, 9]])"
      ]
     },
     "execution_count": 65,
     "metadata": {},
     "output_type": "execute_result"
    }
   ],
   "source": [
    "my_2d_array"
   ]
  },
  {
   "cell_type": "code",
   "execution_count": 66,
   "id": "92f81004",
   "metadata": {},
   "outputs": [],
   "source": [
    "# cant do this comparison with a list:\n",
    "# my_second_list < 7"
   ]
  },
  {
   "cell_type": "code",
   "execution_count": 67,
   "id": "5f4ef10d-5299-4704-8f97-f1a9475018d3",
   "metadata": {},
   "outputs": [],
   "source": [
    "# cant mask with a list either\n",
    "# my_list[my_mask]"
   ]
  },
  {
   "cell_type": "markdown",
   "id": "6e6365e8",
   "metadata": {},
   "source": [
    "#### cool! can we just do it with a list instead of an array?"
   ]
  },
  {
   "cell_type": "code",
   "execution_count": 68,
   "id": "f055415f",
   "metadata": {},
   "outputs": [],
   "source": [
    "# nope!"
   ]
  },
  {
   "cell_type": "code",
   "execution_count": 69,
   "id": "1bbf0365",
   "metadata": {},
   "outputs": [],
   "source": [
    "# we would need to use a loop!"
   ]
  },
  {
   "cell_type": "code",
   "execution_count": 70,
   "id": "62f6abfe",
   "metadata": {},
   "outputs": [],
   "source": [
    "# breakage with our list: my_second_list + 5"
   ]
  },
  {
   "cell_type": "code",
   "execution_count": 71,
   "id": "893e651a",
   "metadata": {},
   "outputs": [
    {
     "data": {
      "text/plain": [
       "array([[ 6,  7,  8],\n",
       "       [ 9, 10, 11],\n",
       "       [12, 13, 14]])"
      ]
     },
     "execution_count": 71,
     "metadata": {},
     "output_type": "execute_result"
    }
   ],
   "source": [
    "my_2d_array + 5"
   ]
  },
  {
   "cell_type": "markdown",
   "id": "35601d8b",
   "metadata": {},
   "source": [
    "#### what if you put something that was all false, what would it return?"
   ]
  },
  {
   "cell_type": "code",
   "execution_count": 72,
   "id": "b5279c3e",
   "metadata": {},
   "outputs": [
    {
     "data": {
      "text/plain": [
       "array([], dtype=int64)"
      ]
     },
     "execution_count": 72,
     "metadata": {},
     "output_type": "execute_result"
    }
   ],
   "source": [
    "my_2d_array[(my_2d_array + 5) < 6]"
   ]
  },
  {
   "cell_type": "code",
   "execution_count": null,
   "id": "eaa2e109",
   "metadata": {},
   "outputs": [],
   "source": []
  },
  {
   "cell_type": "code",
   "execution_count": null,
   "id": "a44074b6",
   "metadata": {},
   "outputs": [],
   "source": []
  },
  {
   "cell_type": "markdown",
   "id": "9d8b88c9",
   "metadata": {},
   "source": [
    "#### can we convert our arrays back to lists?"
   ]
  },
  {
   "cell_type": "code",
   "execution_count": 73,
   "id": "814ad81c",
   "metadata": {},
   "outputs": [
    {
     "data": {
      "text/plain": [
       "[array([1, 2, 3]), array([4, 5, 6]), array([7, 8, 9])]"
      ]
     },
     "execution_count": 73,
     "metadata": {},
     "output_type": "execute_result"
    }
   ],
   "source": [
    "list(my_2d_array)"
   ]
  },
  {
   "cell_type": "code",
   "execution_count": 74,
   "id": "ce2d7c2b-5e0d-4fa2-bcc0-806df52454eb",
   "metadata": {},
   "outputs": [],
   "source": [
    "new_list = []\n",
    "for x in list(my_2d_array):\n",
    "    new_list.extend(x)"
   ]
  },
  {
   "cell_type": "code",
   "execution_count": 75,
   "id": "73d187fe-714d-45c5-8512-e8a7c60bf52b",
   "metadata": {},
   "outputs": [
    {
     "data": {
      "text/plain": [
       "[1, 2, 3, 4, 5, 6, 7, 8, 9]"
      ]
     },
     "execution_count": 75,
     "metadata": {},
     "output_type": "execute_result"
    }
   ],
   "source": [
    "new_list"
   ]
  },
  {
   "cell_type": "code",
   "execution_count": 76,
   "id": "110b413f",
   "metadata": {},
   "outputs": [],
   "source": [
    "new_list = []\n",
    "for x in list(my_2d_array):\n",
    "    new_list.append(list(x))"
   ]
  },
  {
   "cell_type": "code",
   "execution_count": 77,
   "id": "21276a95-89da-4b5f-9517-b2aa62c0d48d",
   "metadata": {},
   "outputs": [
    {
     "data": {
      "text/plain": [
       "[[1, 2, 3], [4, 5, 6], [7, 8, 9]]"
      ]
     },
     "execution_count": 77,
     "metadata": {},
     "output_type": "execute_result"
    }
   ],
   "source": [
    "new_list"
   ]
  },
  {
   "cell_type": "markdown",
   "id": "8299df12",
   "metadata": {},
   "source": [
    "#### what if we wanted the opposite of our mask?"
   ]
  },
  {
   "cell_type": "code",
   "execution_count": 78,
   "id": "83a6ea35",
   "metadata": {},
   "outputs": [],
   "source": [
    "# we saw & and |\n",
    "# we also have the tilde ~ for \"not\""
   ]
  },
  {
   "cell_type": "code",
   "execution_count": 79,
   "id": "e7477e3a",
   "metadata": {},
   "outputs": [
    {
     "data": {
      "text/plain": [
       "[True, True, False, True]"
      ]
     },
     "execution_count": 79,
     "metadata": {},
     "output_type": "execute_result"
    }
   ],
   "source": [
    "my_mask"
   ]
  },
  {
   "cell_type": "code",
   "execution_count": 80,
   "id": "8b8c4952",
   "metadata": {},
   "outputs": [],
   "source": [
    "# note breakage if we pass the mask as a list:\n",
    "# masks can be lists, but if we want to use full \n",
    "# numpy functionality, we need them to also be arrays\n",
    "my_mask = (my_array % 3 == 0)"
   ]
  },
  {
   "cell_type": "code",
   "execution_count": 81,
   "id": "b4d6b71a-d024-4f12-b84d-46e168d6e8ae",
   "metadata": {},
   "outputs": [
    {
     "data": {
      "text/plain": [
       "numpy.ndarray"
      ]
     },
     "execution_count": 81,
     "metadata": {},
     "output_type": "execute_result"
    }
   ],
   "source": [
    "type(my_mask)"
   ]
  },
  {
   "cell_type": "code",
   "execution_count": 82,
   "id": "9e82a19a-6770-482a-9879-53e17aafb6fc",
   "metadata": {},
   "outputs": [
    {
     "data": {
      "text/plain": [
       "array([ True,  True, False,  True])"
      ]
     },
     "execution_count": 82,
     "metadata": {},
     "output_type": "execute_result"
    }
   ],
   "source": [
    "~my_mask"
   ]
  },
  {
   "cell_type": "code",
   "execution_count": 83,
   "id": "9a33aa9e-3865-425d-9843-8f4da4fb99a4",
   "metadata": {},
   "outputs": [
    {
     "data": {
      "text/plain": [
       "array([1, 2, 4])"
      ]
     },
     "execution_count": 83,
     "metadata": {},
     "output_type": "execute_result"
    }
   ],
   "source": [
    "# my array, where the content is not divisible by 3\n",
    "my_array[~my_mask]"
   ]
  },
  {
   "cell_type": "markdown",
   "id": "medium-generation",
   "metadata": {},
   "source": [
    "## Vectorization Operations\n",
    "- makes looping over math so easy and fast!"
   ]
  },
  {
   "cell_type": "markdown",
   "id": "89f892da",
   "metadata": {},
   "source": [
    "### Add one to every element"
   ]
  },
  {
   "cell_type": "markdown",
   "id": "fab3567f",
   "metadata": {},
   "source": [
    "#### hard way: doing it in a list"
   ]
  },
  {
   "cell_type": "code",
   "execution_count": 84,
   "id": "7977d3af",
   "metadata": {},
   "outputs": [],
   "source": [
    "my_list_plus_one = []\n",
    "for i in my_list:\n",
    "    my_list_plus_one.append(i+1)"
   ]
  },
  {
   "cell_type": "markdown",
   "id": "d4ac3b90-826f-4322-8f27-ac2794c96b56",
   "metadata": {
    "tags": []
   },
   "source": [
    "#### easy way: doing it with an array"
   ]
  },
  {
   "cell_type": "code",
   "execution_count": 85,
   "id": "14ed2328-156c-487d-8b5c-6fac8522b74d",
   "metadata": {},
   "outputs": [
    {
     "data": {
      "text/plain": [
       "[2, 3, 4, 5]"
      ]
     },
     "execution_count": 85,
     "metadata": {},
     "output_type": "execute_result"
    }
   ],
   "source": [
    "my_list_plus_one"
   ]
  },
  {
   "cell_type": "code",
   "execution_count": 86,
   "id": "d563a53a",
   "metadata": {},
   "outputs": [],
   "source": [
    "my_array_plus_one = my_array + 1"
   ]
  },
  {
   "cell_type": "markdown",
   "id": "dc17dec3",
   "metadata": {},
   "source": [
    "### more operations"
   ]
  },
  {
   "cell_type": "code",
   "execution_count": 87,
   "id": "2fa032ef",
   "metadata": {},
   "outputs": [
    {
     "data": {
      "text/plain": [
       "array([1, 0, 1, 0])"
      ]
     },
     "execution_count": 87,
     "metadata": {},
     "output_type": "execute_result"
    }
   ],
   "source": [
    "my_array % 2"
   ]
  },
  {
   "cell_type": "code",
   "execution_count": 88,
   "id": "6c198079",
   "metadata": {},
   "outputs": [
    {
     "data": {
      "text/plain": [
       "array([ 1,  4,  9, 16])"
      ]
     },
     "execution_count": 88,
     "metadata": {},
     "output_type": "execute_result"
    }
   ],
   "source": [
    "my_array ** 2"
   ]
  },
  {
   "cell_type": "code",
   "execution_count": 89,
   "id": "c6aba93b",
   "metadata": {},
   "outputs": [
    {
     "data": {
      "text/plain": [
       "array([0.33333333, 0.66666667, 1.        , 1.33333333])"
      ]
     },
     "execution_count": 89,
     "metadata": {},
     "output_type": "execute_result"
    }
   ],
   "source": [
    "my_array / 3"
   ]
  },
  {
   "cell_type": "code",
   "execution_count": 90,
   "id": "3403f126",
   "metadata": {},
   "outputs": [
    {
     "data": {
      "text/plain": [
       "array([-15, -14, -13, -12])"
      ]
     },
     "execution_count": 90,
     "metadata": {},
     "output_type": "execute_result"
    }
   ],
   "source": [
    "my_array - 16"
   ]
  },
  {
   "cell_type": "markdown",
   "id": "52db2ba4",
   "metadata": {},
   "source": [
    "### show us the speed"
   ]
  },
  {
   "cell_type": "code",
   "execution_count": 91,
   "id": "0acec2c8-26a7-4b31-b92e-808d52573ee4",
   "metadata": {},
   "outputs": [],
   "source": [
    "my_big_number = 1_000_000"
   ]
  },
  {
   "cell_type": "code",
   "execution_count": 92,
   "id": "9ee8543d-7e5e-4f69-9789-80986dc172a5",
   "metadata": {},
   "outputs": [
    {
     "data": {
      "text/plain": [
       "int"
      ]
     },
     "execution_count": 92,
     "metadata": {},
     "output_type": "execute_result"
    }
   ],
   "source": [
    "type(my_big_number)"
   ]
  },
  {
   "cell_type": "code",
   "execution_count": 93,
   "id": "52be92da-9c05-4036-9316-3a06c767258a",
   "metadata": {},
   "outputs": [
    {
     "data": {
      "text/plain": [
       "1000000"
      ]
     },
     "execution_count": 93,
     "metadata": {},
     "output_type": "execute_result"
    }
   ],
   "source": [
    "my_big_number"
   ]
  },
  {
   "cell_type": "code",
   "execution_count": 94,
   "id": "fb61b35a-8e69-4502-92e2-0103c279432c",
   "metadata": {},
   "outputs": [],
   "source": [
    "big_array = np.array(range(0,1_000_001))"
   ]
  },
  {
   "cell_type": "code",
   "execution_count": 95,
   "id": "6e0e7fc9-80d0-4cd4-9058-6bf39e23fcb8",
   "metadata": {},
   "outputs": [],
   "source": [
    "import time\n",
    "# im using time to grab time stamps\n",
    "# you can play with the magic function %%timeit\n",
    "# (it should work in jupyter notebook with an anaconda install)"
   ]
  },
  {
   "cell_type": "code",
   "execution_count": 96,
   "id": "6070b58e",
   "metadata": {
    "tags": []
   },
   "outputs": [],
   "source": [
    "#make a really big array\n",
    "# timestamp before:\n",
    "t_o = time.time()\n",
    "# do the thing (note that its not going anywhere)\n",
    "# there is no reassignment here,\n",
    "# so big array is not changing,\n",
    "# we are just outputting a transformation of it\n",
    "# that is going nowhere\n",
    "big_array ** 3\n",
    "# get the timestamp after:\n",
    "t_1 = time.time()\n",
    "# difference in time:\n",
    "time_spent = t_1-t_o"
   ]
  },
  {
   "cell_type": "code",
   "execution_count": 97,
   "id": "a8b1b023",
   "metadata": {},
   "outputs": [
    {
     "data": {
      "text/plain": [
       "0.001965045928955078"
      ]
     },
     "execution_count": 97,
     "metadata": {},
     "output_type": "execute_result"
    }
   ],
   "source": [
    "time_spent"
   ]
  },
  {
   "cell_type": "code",
   "execution_count": 98,
   "id": "f6744326",
   "metadata": {},
   "outputs": [],
   "source": [
    "big_list = list(big_array)"
   ]
  },
  {
   "cell_type": "code",
   "execution_count": 99,
   "id": "7e06a9b3",
   "metadata": {},
   "outputs": [
    {
     "data": {
      "text/plain": [
       "1000001"
      ]
     },
     "execution_count": 99,
     "metadata": {},
     "output_type": "execute_result"
    }
   ],
   "source": [
    "len(big_list)"
   ]
  },
  {
   "cell_type": "code",
   "execution_count": 100,
   "id": "8a33078d-9b77-4f9c-82d3-4b7533e00dd2",
   "metadata": {},
   "outputs": [
    {
     "data": {
      "text/plain": [
       "0.03613114356994629"
      ]
     },
     "execution_count": 100,
     "metadata": {},
     "output_type": "execute_result"
    }
   ],
   "source": [
    "t_o = time.time()\n",
    "[thing ** 3 for thing in big_list]\n",
    "t_1 = time.time()\n",
    "t_1 - t_o"
   ]
  },
  {
   "cell_type": "markdown",
   "id": "008f3ba9",
   "metadata": {},
   "source": [
    "## Numpy ways to create arrays"
   ]
  },
  {
   "cell_type": "markdown",
   "id": "7b00460e",
   "metadata": {},
   "source": [
    "#### full of zeros"
   ]
  },
  {
   "cell_type": "code",
   "execution_count": 101,
   "id": "3edb3b80",
   "metadata": {},
   "outputs": [
    {
     "data": {
      "text/plain": [
       "array([[0., 0., 0., 0., 0.],\n",
       "       [0., 0., 0., 0., 0.],\n",
       "       [0., 0., 0., 0., 0.],\n",
       "       [0., 0., 0., 0., 0.],\n",
       "       [0., 0., 0., 0., 0.]])"
      ]
     },
     "execution_count": 101,
     "metadata": {},
     "output_type": "execute_result"
    }
   ],
   "source": [
    "np.zeros([5,5])"
   ]
  },
  {
   "cell_type": "markdown",
   "id": "96027d7c",
   "metadata": {},
   "source": [
    "#### full of ones"
   ]
  },
  {
   "cell_type": "code",
   "execution_count": 102,
   "id": "a875a9dd",
   "metadata": {},
   "outputs": [
    {
     "data": {
      "text/plain": [
       "array([[1.],\n",
       "       [1.],\n",
       "       [1.],\n",
       "       [1.],\n",
       "       [1.],\n",
       "       [1.],\n",
       "       [1.],\n",
       "       [1.],\n",
       "       [1.],\n",
       "       [1.],\n",
       "       [1.],\n",
       "       [1.],\n",
       "       [1.],\n",
       "       [1.],\n",
       "       [1.],\n",
       "       [1.],\n",
       "       [1.],\n",
       "       [1.],\n",
       "       [1.],\n",
       "       [1.],\n",
       "       [1.],\n",
       "       [1.],\n",
       "       [1.],\n",
       "       [1.],\n",
       "       [1.]])"
      ]
     },
     "execution_count": 102,
     "metadata": {},
     "output_type": "execute_result"
    }
   ],
   "source": [
    "np.ones([25,1])"
   ]
  },
  {
   "cell_type": "markdown",
   "id": "e520429e",
   "metadata": {},
   "source": [
    "#### full of whatever you want "
   ]
  },
  {
   "cell_type": "code",
   "execution_count": 103,
   "id": "5d1341a0",
   "metadata": {},
   "outputs": [
    {
     "data": {
      "text/plain": [
       "array([3, 3, 3, 3, 3, 3, 3, 3, 3, 3])"
      ]
     },
     "execution_count": 103,
     "metadata": {},
     "output_type": "execute_result"
    }
   ],
   "source": [
    "np.full(10,3)"
   ]
  },
  {
   "cell_type": "markdown",
   "id": "7cad389d",
   "metadata": {},
   "source": [
    "#### a quicker way to make a range"
   ]
  },
  {
   "cell_type": "code",
   "execution_count": 104,
   "id": "eee9dd7c",
   "metadata": {},
   "outputs": [
    {
     "data": {
      "text/plain": [
       "range(10, 20, 2)"
      ]
     },
     "execution_count": 104,
     "metadata": {},
     "output_type": "execute_result"
    }
   ],
   "source": [
    "range(10,20,2)"
   ]
  },
  {
   "cell_type": "code",
   "execution_count": 105,
   "id": "a1b53149",
   "metadata": {},
   "outputs": [
    {
     "data": {
      "text/plain": [
       "array([10. , 10.3, 10.6, 10.9, 11.2, 11.5, 11.8, 12.1, 12.4, 12.7, 13. ,\n",
       "       13.3, 13.6, 13.9, 14.2, 14.5, 14.8, 15.1, 15.4, 15.7, 16. , 16.3,\n",
       "       16.6, 16.9, 17.2, 17.5, 17.8, 18.1, 18.4, 18.7, 19. , 19.3, 19.6,\n",
       "       19.9])"
      ]
     },
     "execution_count": 105,
     "metadata": {},
     "output_type": "execute_result"
    }
   ],
   "source": [
    "np.arange(10,20,.3)"
   ]
  },
  {
   "cell_type": "markdown",
   "id": "52dbba51",
   "metadata": {},
   "source": [
    "#### an array of random integers"
   ]
  },
  {
   "cell_type": "code",
   "execution_count": 106,
   "id": "085b75a3",
   "metadata": {},
   "outputs": [
    {
     "data": {
      "text/plain": [
       "array([ 4,  7,  8,  6,  2,  4,  6, 10, 11,  2])"
      ]
     },
     "execution_count": 106,
     "metadata": {},
     "output_type": "execute_result"
    }
   ],
   "source": [
    "# random content betwee 2 and 20 for 10 elements\n",
    "np.random.randint(2,20,10)"
   ]
  },
  {
   "cell_type": "markdown",
   "id": "df0a42da",
   "metadata": {},
   "source": [
    "#### an array of random numbers from the standard distribution"
   ]
  },
  {
   "cell_type": "code",
   "execution_count": 107,
   "id": "3f636ce8",
   "metadata": {},
   "outputs": [
    {
     "data": {
      "text/plain": [
       "3.8606427621272e-06"
      ]
     },
     "execution_count": 107,
     "metadata": {},
     "output_type": "execute_result"
    }
   ],
   "source": [
    "np.random.randn(1000000000).mean()"
   ]
  },
  {
   "cell_type": "code",
   "execution_count": null,
   "id": "92cfadb4",
   "metadata": {},
   "outputs": [],
   "source": []
  },
  {
   "cell_type": "code",
   "execution_count": null,
   "id": "6ff1115b",
   "metadata": {},
   "outputs": [],
   "source": []
  }
 ],
 "metadata": {
  "kernelspec": {
   "display_name": "Python 3 (ipykernel)",
   "language": "python",
   "name": "python3"
  },
  "language_info": {
   "codemirror_mode": {
    "name": "ipython",
    "version": 3
   },
   "file_extension": ".py",
   "mimetype": "text/x-python",
   "name": "python",
   "nbconvert_exporter": "python",
   "pygments_lexer": "ipython3",
   "version": "3.11.2"
  }
 },
 "nbformat": 4,
 "nbformat_minor": 5
}
