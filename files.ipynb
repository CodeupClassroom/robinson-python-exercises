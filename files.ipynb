{
 "cells": [
  {
   "cell_type": "markdown",
   "id": "25ec9ed0",
   "metadata": {},
   "source": [
    "## Reading files with python"
   ]
  },
  {
   "cell_type": "code",
   "execution_count": 1,
   "id": "c7f4e4e1",
   "metadata": {},
   "outputs": [],
   "source": [
    "# terminal-oriented process:\n",
    "# touch the file to make it (touch)\n",
    "# add content via a text editor (vim, VSCode, etc)\n",
    "# save the thing\n",
    "# look the thing (open or cat)"
   ]
  },
  {
   "cell_type": "code",
   "execution_count": 14,
   "id": "079c594b",
   "metadata": {},
   "outputs": [],
   "source": [
    "# with python:\n",
    "# our reserved word is open\n",
    "# order here:\n",
    "# open(my file location, what i want to do with it)\n",
    "# my_file.txt lives here so I dont need to specify a path\n",
    "f = open('my_file.txt', 'r')"
   ]
  },
  {
   "cell_type": "code",
   "execution_count": 15,
   "id": "8f7e43b7",
   "metadata": {},
   "outputs": [],
   "source": [
    "# If I pass read on the file, then I can get the content inside of it\n",
    "contents = f.read()"
   ]
  },
  {
   "cell_type": "code",
   "execution_count": 17,
   "id": "068310c0",
   "metadata": {},
   "outputs": [
    {
     "data": {
      "text/plain": [
       "[\"Here'es some content!\", 'This is a text file!', 'Neat', 'Extra line!', '']"
      ]
     },
     "execution_count": 17,
     "metadata": {},
     "output_type": "execute_result"
    }
   ],
   "source": [
    "contents.split('\\n')"
   ]
  },
  {
   "cell_type": "code",
   "execution_count": 18,
   "id": "c385e0e9",
   "metadata": {},
   "outputs": [],
   "source": [
    "# generally speaking,\n",
    "# once a file is opened,\n",
    "# we will want to close it\n",
    "f.close()"
   ]
  },
  {
   "cell_type": "code",
   "execution_count": 19,
   "id": "be238254",
   "metadata": {},
   "outputs": [],
   "source": [
    "# easier way to do that:\n",
    "# use a with statement"
   ]
  },
  {
   "cell_type": "code",
   "execution_count": 23,
   "id": "dfe51ed0",
   "metadata": {},
   "outputs": [],
   "source": [
    "with open('my_file.txt', 'r') as f:\n",
    "    my_content = f.readlines()"
   ]
  },
  {
   "cell_type": "code",
   "execution_count": 24,
   "id": "f80217c6",
   "metadata": {},
   "outputs": [
    {
     "data": {
      "text/plain": [
       "[\"Here'es some content!\\n\",\n",
       " 'This is a text file!\\n',\n",
       " 'Neat\\n',\n",
       " 'Extra line!\\n']"
      ]
     },
     "execution_count": 24,
     "metadata": {},
     "output_type": "execute_result"
    }
   ],
   "source": [
    "my_content"
   ]
  },
  {
   "cell_type": "code",
   "execution_count": 27,
   "id": "466a81e2",
   "metadata": {},
   "outputs": [],
   "source": [
    "# with open ==> file location, interaction\n",
    "with open('my_new_file.txt', 'w') as f:\n",
    "    f.write('heres some stuff i guess')"
   ]
  },
  {
   "cell_type": "code",
   "execution_count": 28,
   "id": "404f6170",
   "metadata": {},
   "outputs": [],
   "source": [
    "# appending information: a-mode\n",
    "with open('my_file.txt', 'a') as f:\n",
    "    f.writelines(['heres a fun extra line\\n',\n",
    "                 'and another one!\\n'])"
   ]
  },
  {
   "cell_type": "code",
   "execution_count": 29,
   "id": "104a0a8d",
   "metadata": {},
   "outputs": [],
   "source": [
    "# note: append mode: a will ADD content\n",
    "# write mode w will *overwrite* content"
   ]
  },
  {
   "cell_type": "code",
   "execution_count": 30,
   "id": "9270c191",
   "metadata": {},
   "outputs": [],
   "source": [
    "# welcome to the OS"
   ]
  },
  {
   "cell_type": "code",
   "execution_count": 31,
   "id": "12261b7b",
   "metadata": {},
   "outputs": [],
   "source": [
    "import os"
   ]
  },
  {
   "cell_type": "code",
   "execution_count": 32,
   "id": "c580144b",
   "metadata": {},
   "outputs": [
    {
     "name": "stdout",
     "output_type": "stream",
     "text": [
      "yay it exists!\n"
     ]
    }
   ],
   "source": [
    "# Python please do:\n",
    "# use OS to check if this file exists here\\\n",
    "# If it does, give me that content, toss it in the variable lines\n",
    "# otherwise,\n",
    "# make a new file with that same name\n",
    "# write a new line of content\n",
    "if os.path.exists(\n",
    "    '/Users/madeleinecapper/Documents/student-facing/oneil/oneil-python/my_file.txt'):\n",
    "    print('yay it exists!')\n",
    "    with open('my_file.txt', 'r') as f:\n",
    "        lines = f.readlines()\n",
    "else:\n",
    "    print('does not exist')\n",
    "    with open('my_file.txt', 'w') as f:\n",
    "        f.write('brand new file!')"
   ]
  },
  {
   "cell_type": "code",
   "execution_count": 33,
   "id": "3d8b90ce",
   "metadata": {},
   "outputs": [
    {
     "name": "stdout",
     "output_type": "stream",
     "text": [
      "does not exist\n"
     ]
    }
   ],
   "source": [
    "if os.path.exists(\n",
    "    'extra_file.txt'):\n",
    "    print('yay it exists!')\n",
    "    with open('extra_file.txt', 'r') as f:\n",
    "        lines = f.readlines()\n",
    "else:\n",
    "    print('does not exist')\n",
    "    with open('extra_file.txt', 'w') as f:\n",
    "        f.write('brand new file!')"
   ]
  },
  {
   "cell_type": "code",
   "execution_count": 34,
   "id": "d38981b5",
   "metadata": {},
   "outputs": [
    {
     "name": "stdout",
     "output_type": "stream",
     "text": [
      "yay it exists!\n"
     ]
    }
   ],
   "source": [
    "if os.path.exists(\n",
    "    'extra_file.txt'):\n",
    "    print('yay it exists!')\n",
    "    with open('extra_file.txt', 'r') as f:\n",
    "        lines = f.readlines()\n",
    "else:\n",
    "    print('does not exist')\n",
    "    with open('extra_file.txt', 'w') as f:\n",
    "        f.write('brand new file!')"
   ]
  },
  {
   "cell_type": "code",
   "execution_count": 35,
   "id": "32772ad9",
   "metadata": {},
   "outputs": [
    {
     "data": {
      "text/plain": [
       "['brand new file!']"
      ]
     },
     "execution_count": 35,
     "metadata": {},
     "output_type": "execute_result"
    }
   ],
   "source": [
    "lines"
   ]
  },
  {
   "cell_type": "code",
   "execution_count": 36,
   "id": "60bbbb44",
   "metadata": {},
   "outputs": [],
   "source": [
    "# let's make a csv:\n",
    "with open('baby_csv.csv', 'w') as f:\n",
    "    f.writelines(\n",
    "    ['field_1, field_2, field_3\\n',\n",
    "    '0, 25, ham\\n',\n",
    "    '1, 29, sandwich\\n'])"
   ]
  },
  {
   "cell_type": "code",
   "execution_count": 37,
   "id": "6b5da00b",
   "metadata": {},
   "outputs": [],
   "source": [
    "with open('baby_csv.csv','r') as f:\n",
    "    my_baby_csv = f.readlines()"
   ]
  },
  {
   "cell_type": "code",
   "execution_count": 38,
   "id": "4f458d17",
   "metadata": {},
   "outputs": [
    {
     "data": {
      "text/plain": [
       "['field_1, field_2, field_3\\n', '0, 25, ham\\n', '1, 29, sandwich\\n']"
      ]
     },
     "execution_count": 38,
     "metadata": {},
     "output_type": "execute_result"
    }
   ],
   "source": [
    "my_baby_csv"
   ]
  },
  {
   "cell_type": "code",
   "execution_count": 39,
   "id": "55ebdf32",
   "metadata": {},
   "outputs": [],
   "source": [
    "# import csv!\n",
    "import csv"
   ]
  },
  {
   "cell_type": "code",
   "execution_count": 40,
   "id": "ba8598ee",
   "metadata": {},
   "outputs": [],
   "source": [
    "# DictWriter, DictReader"
   ]
  },
  {
   "cell_type": "code",
   "execution_count": 41,
   "id": "2d729c42",
   "metadata": {},
   "outputs": [],
   "source": [
    "# lets make a receipt\n",
    "# item, category, price\n",
    "# three cols:\n",
    "# item: what thing\n",
    "# category: what type thing\n",
    "# price: da moneys\n",
    "cols = ['item', 'category', 'price']\n",
    "transaction = {\n",
    "    'item': 'milk',\n",
    "    'category': 'dairy',\n",
    "    'price': 100.00\n",
    "}"
   ]
  },
  {
   "cell_type": "code",
   "execution_count": 42,
   "id": "86ea5534",
   "metadata": {},
   "outputs": [
    {
     "data": {
      "text/plain": [
       "{'item': 'milk', 'category': 'dairy', 'price': 100.0}"
      ]
     },
     "execution_count": 42,
     "metadata": {},
     "output_type": "execute_result"
    }
   ],
   "source": [
    "transaction"
   ]
  },
  {
   "cell_type": "code",
   "execution_count": null,
   "id": "38fc033d",
   "metadata": {},
   "outputs": [],
   "source": [
    "# csv.Dictwriter needs:\n",
    "# what file its writing to (f)\n",
    "# field names (cols)"
   ]
  },
  {
   "cell_type": "code",
   "execution_count": 43,
   "id": "b0d1a251",
   "metadata": {},
   "outputs": [],
   "source": [
    "with open('groceries.csv', 'w') as f:\n",
    "    writer = csv.DictWriter(f, fieldnames=cols)\n",
    "    writer.writeheader()\n",
    "    writer.writerow(transaction)"
   ]
  },
  {
   "cell_type": "code",
   "execution_count": 44,
   "id": "2179cc71",
   "metadata": {},
   "outputs": [],
   "source": [
    "# APPEND a new line of information\n",
    "# (so as not to overwrite anything)\n",
    "# 'a' == append\n",
    "with open('groceries.csv', 'a') as f:\n",
    "    writer = csv.DictWriter(f, fieldnames=cols)\n",
    "    writer.writerow(\n",
    "    {\n",
    "        'item': 'eggs',\n",
    "        'category': 'dairy',\n",
    "        'price': 500.00\n",
    "    })"
   ]
  },
  {
   "cell_type": "code",
   "execution_count": 45,
   "id": "9ae93ed4",
   "metadata": {},
   "outputs": [],
   "source": [
    "# read in a csv:\n",
    "with open('groceries.csv', 'r') as f:\n",
    "    content = csv.DictReader(f, fieldnames=cols)\n",
    "    lines = []\n",
    "    for line in content:\n",
    "        lines.append(line)"
   ]
  },
  {
   "cell_type": "code",
   "execution_count": 47,
   "id": "c72d461e",
   "metadata": {},
   "outputs": [
    {
     "data": {
      "text/plain": [
       "[{'item': 'milk', 'category': 'dairy', 'price': '100.0'},\n",
       " {'item': 'eggs', 'category': 'dairy', 'price': '500.0'}]"
      ]
     },
     "execution_count": 47,
     "metadata": {},
     "output_type": "execute_result"
    }
   ],
   "source": [
    "lines[1:]"
   ]
  },
  {
   "cell_type": "code",
   "execution_count": 48,
   "id": "33d92e85",
   "metadata": {},
   "outputs": [],
   "source": [
    "# same thing, with list comprehension\n",
    "# skipping the header line with indexing of 1:\n",
    "with open('groceries.csv', 'r') as f:\n",
    "    content = csv.DictReader(f, fieldnames=cols)\n",
    "    lines = [line for line in content][1:]"
   ]
  },
  {
   "cell_type": "code",
   "execution_count": 49,
   "id": "4e75cbc2",
   "metadata": {},
   "outputs": [
    {
     "data": {
      "text/plain": [
       "[{'item': 'milk', 'category': 'dairy', 'price': '100.0'},\n",
       " {'item': 'eggs', 'category': 'dairy', 'price': '500.0'}]"
      ]
     },
     "execution_count": 49,
     "metadata": {},
     "output_type": "execute_result"
    }
   ],
   "source": [
    "lines"
   ]
  },
  {
   "cell_type": "code",
   "execution_count": null,
   "id": "b99fa95e",
   "metadata": {},
   "outputs": [],
   "source": [
    "# exiting a program in python:\n",
    "# call exit()"
   ]
  },
  {
   "cell_type": "code",
   "execution_count": null,
   "id": "640a2c56",
   "metadata": {},
   "outputs": [],
   "source": []
  },
  {
   "cell_type": "code",
   "execution_count": 50,
   "id": "7f03c803",
   "metadata": {},
   "outputs": [],
   "source": [
    "# for my project:\n",
    "# maybe a csv with:\n",
    "# credit/debit transaction type\n",
    "# transaction value\n",
    "# time stamp"
   ]
  },
  {
   "cell_type": "code",
   "execution_count": 51,
   "id": "571c2d83",
   "metadata": {},
   "outputs": [],
   "source": [
    "import time"
   ]
  },
  {
   "cell_type": "code",
   "execution_count": 52,
   "id": "342273be",
   "metadata": {},
   "outputs": [
    {
     "data": {
      "text/plain": [
       "1676308880.3793411"
      ]
     },
     "execution_count": 52,
     "metadata": {},
     "output_type": "execute_result"
    }
   ],
   "source": [
    "time.time()"
   ]
  },
  {
   "cell_type": "code",
   "execution_count": null,
   "id": "14151309",
   "metadata": {},
   "outputs": [],
   "source": []
  }
 ],
 "metadata": {
  "kernelspec": {
   "display_name": "Python 3",
   "language": "python",
   "name": "python3"
  },
  "language_info": {
   "codemirror_mode": {
    "name": "ipython",
    "version": 3
   },
   "file_extension": ".py",
   "mimetype": "text/x-python",
   "name": "python",
   "nbconvert_exporter": "python",
   "pygments_lexer": "ipython3",
   "version": "3.9.4"
  }
 },
 "nbformat": 4,
 "nbformat_minor": 5
}
