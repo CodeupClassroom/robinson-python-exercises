{
 "cells": [
  {
   "cell_type": "code",
   "execution_count": 1,
   "id": "65834f97-1137-4b8b-a10c-81dc0ce13358",
   "metadata": {},
   "outputs": [],
   "source": [
    "from functions_example import get_letter_grade as letgrade"
   ]
  },
  {
   "cell_type": "raw",
   "id": "afe55cc8-e68c-4057-ba22-f2532d2ff463",
   "metadata": {},
   "source": [
    "letgrade?"
   ]
  },
  {
   "cell_type": "code",
   "execution_count": 3,
   "id": "b3f0fdaa-6c5b-44b6-a1fa-eb7afe9f4bc5",
   "metadata": {},
   "outputs": [
    {
     "data": {
      "text/plain": [
       "'C'"
      ]
     },
     "execution_count": 3,
     "metadata": {},
     "output_type": "execute_result"
    }
   ],
   "source": [
    "letgrade(75)"
   ]
  },
  {
   "cell_type": "code",
   "execution_count": 5,
   "id": "6c5419cb-384a-4dd8-abbb-fea83859a510",
   "metadata": {},
   "outputs": [],
   "source": [
    "import functions_example"
   ]
  },
  {
   "cell_type": "code",
   "execution_count": 6,
   "id": "74343eb5-b733-4df1-82fc-a03a3cea555b",
   "metadata": {},
   "outputs": [
    {
     "data": {
      "text/plain": [
       "17.0"
      ]
     },
     "execution_count": 6,
     "metadata": {},
     "output_type": "execute_result"
    }
   ],
   "source": [
    "functions_example.calculate_tip(85.00)"
   ]
  },
  {
   "cell_type": "markdown",
   "id": "0001f05e-0861-4009-8751-1437398103ac",
   "metadata": {},
   "source": [
    "Read about and use the itertools module from the python standard library to help you solve the following problems. Note: Many of these functions in this library return an object, to see the results of the function, cast this object as a list."
   ]
  },
  {
   "cell_type": "markdown",
   "id": "df367577-34df-45c9-bc1c-bdc5731959ce",
   "metadata": {},
   "source": [
    "    How many different ways can you combine a single letter from \"abc\" with either 1, 2, or 3?"
   ]
  },
  {
   "cell_type": "code",
   "execution_count": 7,
   "id": "c181c869-8183-42f8-9bb1-c2fdf20e0d64",
   "metadata": {},
   "outputs": [],
   "source": [
    "from itertools import product, combinations, permutations"
   ]
  },
  {
   "cell_type": "code",
   "execution_count": null,
   "id": "595de5d2-90dd-4524-9e00-b837e2e1e5c9",
   "metadata": {},
   "outputs": [],
   "source": [
    "# the return of product is a generator in python,\n",
    "# which means its an iterable product that will produce content\n",
    "# we can examine the renderings of the product output\n",
    "# by casting it as a list:\n",
    "# list(product('abc', '123'))"
   ]
  },
  {
   "cell_type": "code",
   "execution_count": 12,
   "id": "bec9e6d9-12f3-44fb-a9a5-69975ebbcd1e",
   "metadata": {},
   "outputs": [
    {
     "data": {
      "text/plain": [
       "['a1', 'a2', 'a3', 'b1', 'b2', 'b3', 'c1', 'c2', 'c3']"
      ]
     },
     "execution_count": 12,
     "metadata": {},
     "output_type": "execute_result"
    }
   ],
   "source": [
    "# we can make it a little cleaner with a new comprehension\n",
    "[''.join(combo_tup) for combo_tup in list(product('abc', '123'))]"
   ]
  },
  {
   "cell_type": "markdown",
   "id": "7e1f1008-b9d6-4a99-a273-b5e0d553deca",
   "metadata": {},
   "source": [
    "How many different combinations are there of 2 letters from \n",
    "\"abcd\"?"
   ]
  },
  {
   "cell_type": "code",
   "execution_count": 14,
   "id": "dbb5302a-bc77-4d0a-9026-efebaa83186f",
   "metadata": {},
   "outputs": [
    {
     "data": {
      "text/plain": [
       "[('a', 'b'), ('a', 'c'), ('a', 'd'), ('b', 'c'), ('b', 'd'), ('c', 'd')]"
      ]
     },
     "execution_count": 14,
     "metadata": {},
     "output_type": "execute_result"
    }
   ],
   "source": [
    "list(combinations('abcd', 2))"
   ]
  },
  {
   "cell_type": "markdown",
   "id": "807d9916-4625-40ce-a532-baf89a68f922",
   "metadata": {},
   "source": [
    "How many different permutations are there of 2 letters from \"abcd\"?"
   ]
  },
  {
   "cell_type": "code",
   "execution_count": 15,
   "id": "99fff90c-06e7-4ea6-b03b-6ad76c1a296b",
   "metadata": {},
   "outputs": [
    {
     "data": {
      "text/plain": [
       "[('a', 'b'),\n",
       " ('a', 'c'),\n",
       " ('a', 'd'),\n",
       " ('b', 'a'),\n",
       " ('b', 'c'),\n",
       " ('b', 'd'),\n",
       " ('c', 'a'),\n",
       " ('c', 'b'),\n",
       " ('c', 'd'),\n",
       " ('d', 'a'),\n",
       " ('d', 'b'),\n",
       " ('d', 'c')]"
      ]
     },
     "execution_count": 15,
     "metadata": {},
     "output_type": "execute_result"
    }
   ],
   "source": [
    "list(permutations('abcd', 2))"
   ]
  },
  {
   "cell_type": "markdown",
   "id": "03eac8df-f16c-4107-be57-869ccd8189b4",
   "metadata": {},
   "source": [
    "Save this file as profiles.json inside of your exercises directory (right click -> save file as...)."
   ]
  },
  {
   "cell_type": "markdown",
   "id": "6774832a-050f-4546-9e08-fc2479f167df",
   "metadata": {},
   "source": [
    "Use the load function from the json module to open this file."
   ]
  },
  {
   "cell_type": "code",
   "execution_count": 16,
   "id": "729d39c6-fc06-41a4-869b-e0c98c2125b1",
   "metadata": {},
   "outputs": [],
   "source": [
    "import json"
   ]
  },
  {
   "cell_type": "code",
   "execution_count": 17,
   "id": "338d53df-7e27-416b-82dc-43f0a153b566",
   "metadata": {},
   "outputs": [],
   "source": [
    "with open('profiles.json', 'r') as f:\n",
    "    profiles = json.load(f)"
   ]
  },
  {
   "cell_type": "code",
   "execution_count": 18,
   "id": "143e4888-a3c2-49b2-9c83-bbbb9954ab1f",
   "metadata": {},
   "outputs": [
    {
     "data": {
      "text/plain": [
       "list"
      ]
     },
     "execution_count": 18,
     "metadata": {},
     "output_type": "execute_result"
    }
   ],
   "source": [
    "# what type is profiles?\n",
    "type(profiles)"
   ]
  },
  {
   "cell_type": "code",
   "execution_count": 19,
   "id": "7e0620e4-9929-476b-985c-6bbb17757c02",
   "metadata": {},
   "outputs": [
    {
     "data": {
      "text/plain": [
       "dict"
      ]
     },
     "execution_count": 19,
     "metadata": {},
     "output_type": "execute_result"
    }
   ],
   "source": [
    "type(profiles[0])"
   ]
  },
  {
   "cell_type": "code",
   "execution_count": 20,
   "id": "468a89d7-a26d-48ae-a70b-eb624d55aa08",
   "metadata": {},
   "outputs": [
    {
     "data": {
      "text/plain": [
       "dict_keys(['_id', 'index', 'guid', 'isActive', 'balance', 'picture', 'age', 'eyeColor', 'name', 'gender', 'company', 'email', 'phone', 'address', 'about', 'registered', 'latitude', 'longitude', 'tags', 'friends', 'greeting', 'favoriteFruit'])"
      ]
     },
     "execution_count": 20,
     "metadata": {},
     "output_type": "execute_result"
    }
   ],
   "source": [
    "profiles[0].keys()"
   ]
  },
  {
   "cell_type": "markdown",
   "id": "2ee66ca3-f1c5-41fa-a4a3-5aed958b32b6",
   "metadata": {},
   "source": [
    "Your code should produce a list of dictionaries. Using this data, write some code that calculates and outputs the following information:"
   ]
  },
  {
   "cell_type": "markdown",
   "id": "b5583f7c-6b47-4747-bb44-0cff4c9d3750",
   "metadata": {},
   "source": [
    "    Total number of users"
   ]
  },
  {
   "cell_type": "code",
   "execution_count": 21,
   "id": "bfc474d5-fdb0-462f-9954-61436399d2d0",
   "metadata": {},
   "outputs": [
    {
     "data": {
      "text/plain": [
       "{'_id': '54e23c3e46ab53a440b580e8',\n",
       " 'index': 0,\n",
       " 'guid': '9962b468-ef3e-4993-b677-617469bc3008',\n",
       " 'isActive': False,\n",
       " 'balance': '$2,097.02',\n",
       " 'picture': 'http://placehold.it/32x32',\n",
       " 'age': 39,\n",
       " 'eyeColor': 'blue',\n",
       " 'name': 'Hebert Estes',\n",
       " 'gender': 'male',\n",
       " 'company': 'ANDRYX',\n",
       " 'email': 'hebertestes@andryx.com',\n",
       " 'phone': '+1 (866) 456-2268',\n",
       " 'address': '121 Emmons Avenue, Klondike, Kentucky, 5975',\n",
       " 'about': 'Sit cillum deserunt irure laboris tempor fugiat laboris. Amet commodo amet est incididunt. Dolore qui fugiat cillum pariatur dolore excepteur elit ipsum.\\r\\n',\n",
       " 'registered': '2014-11-10T01:44:03 +06:00',\n",
       " 'latitude': -80.157843,\n",
       " 'longitude': 161.93016,\n",
       " 'tags': ['sit', 'occaecat', 'non', 'ea', 'sit', 'laboris', 'exercitation'],\n",
       " 'friends': [{'id': 0, 'name': 'Tanisha Leonard'},\n",
       "  {'id': 1, 'name': 'Dennis Wilson'},\n",
       "  {'id': 2, 'name': 'Lupe Howe'}],\n",
       " 'greeting': 'Hello, Hebert Estes! You have 4 unread messages.',\n",
       " 'favoriteFruit': 'strawberry'}"
      ]
     },
     "execution_count": 21,
     "metadata": {},
     "output_type": "execute_result"
    }
   ],
   "source": [
    "profiles[0]"
   ]
  },
  {
   "cell_type": "code",
   "execution_count": 22,
   "id": "a2d1c2a1-7bc7-45c8-91cc-02de34c76b0e",
   "metadata": {},
   "outputs": [
    {
     "name": "stdout",
     "output_type": "stream",
     "text": [
      "The number of users is 19\n"
     ]
    }
   ],
   "source": [
    "# i have a list of dictionaries\n",
    "# each dictionary is a user\n",
    "# so the number of users is:\n",
    "# the length of the list\n",
    "print(f'The number of users is {len(profiles)}')"
   ]
  },
  {
   "cell_type": "markdown",
   "id": "4d5c6c42-d724-4c8b-8f76-3af49d716ab9",
   "metadata": {},
   "source": [
    "    Number of active users\n",
    "    "
   ]
  },
  {
   "cell_type": "code",
   "execution_count": 25,
   "id": "bec84ca4-fc4b-45a1-b596-f517a663edcf",
   "metadata": {},
   "outputs": [
    {
     "data": {
      "text/plain": [
       "bool"
      ]
     },
     "execution_count": 25,
     "metadata": {},
     "output_type": "execute_result"
    }
   ],
   "source": [
    "# lets figure out how to see if a single person is active:\n",
    "# we see in the keys of the first user that there is an isActive key.\n",
    "# what data type is the value associated with isActive?\n",
    "type(profiles[0]['isActive'])"
   ]
  },
  {
   "cell_type": "code",
   "execution_count": 26,
   "id": "7bc4c49f-fcbf-4d3b-819d-020084caea8c",
   "metadata": {},
   "outputs": [],
   "source": [
    "# initialize a counter:\n",
    "numactive = 0\n",
    "for profile in profiles:\n",
    "    if profile['isActive']:# == True\n",
    "        numactive += 1\n",
    "    "
   ]
  },
  {
   "cell_type": "code",
   "execution_count": 27,
   "id": "e2f90eab-cca7-4b33-96bd-3b830114a68b",
   "metadata": {},
   "outputs": [
    {
     "name": "stdout",
     "output_type": "stream",
     "text": [
      "Number of active users is 9\n"
     ]
    }
   ],
   "source": [
    "print(f'Number of active users is {numactive}')"
   ]
  },
  {
   "cell_type": "code",
   "execution_count": 28,
   "id": "34679c1b-cad7-49ce-87bb-8046fa5da45c",
   "metadata": {},
   "outputs": [
    {
     "data": {
      "text/plain": [
       "9"
      ]
     },
     "execution_count": 28,
     "metadata": {},
     "output_type": "execute_result"
    }
   ],
   "source": [
    "# alternatively:\n",
    "# use list comprehension to create a subset of profiles that are\n",
    "# active and take the length\n",
    "len([profile for profile in profiles if profile['isActive']])"
   ]
  },
  {
   "cell_type": "markdown",
   "id": "19bf4676-a7f2-4d4e-912a-217e0d66a957",
   "metadata": {},
   "source": [
    "    Number of inactive users\n",
    "    "
   ]
  },
  {
   "cell_type": "code",
   "execution_count": 29,
   "id": "cfd86aaa-592a-4f0b-8236-bbfa5a989184",
   "metadata": {},
   "outputs": [],
   "source": [
    "# adding onto our previious loop:\n",
    "# initialize active and inactive:\n",
    "numactive = 0\n",
    "numinactive = 0\n",
    "# if active, toss it in the count of numactive,\n",
    "# otherwise toss it in numinactive\n",
    "for profile in profiles:\n",
    "    if profile['isActive']:# == True\n",
    "        numactive += 1\n",
    "    else:\n",
    "        numinactive += 1"
   ]
  },
  {
   "cell_type": "code",
   "execution_count": 30,
   "id": "b7d057e5-3eb7-4bc5-8c20-44254fd32e37",
   "metadata": {},
   "outputs": [
    {
     "data": {
      "text/plain": [
       "10"
      ]
     },
     "execution_count": 30,
     "metadata": {},
     "output_type": "execute_result"
    }
   ],
   "source": [
    "len(profiles) - numactive"
   ]
  },
  {
   "cell_type": "code",
   "execution_count": 31,
   "id": "cb1b4001-053c-4d6c-a04f-3d8503dbe124",
   "metadata": {},
   "outputs": [
    {
     "data": {
      "text/plain": [
       "10"
      ]
     },
     "execution_count": 31,
     "metadata": {},
     "output_type": "execute_result"
    }
   ],
   "source": [
    "numinactive"
   ]
  },
  {
   "cell_type": "code",
   "execution_count": 32,
   "id": "874895d8-078b-4935-810f-4336aa427e53",
   "metadata": {},
   "outputs": [
    {
     "data": {
      "text/plain": [
       "10"
      ]
     },
     "execution_count": 32,
     "metadata": {},
     "output_type": "execute_result"
    }
   ],
   "source": [
    "# using not with the list comprehension from before:\n",
    "len([profile for profile in profiles if not profile['isActive']])"
   ]
  },
  {
   "cell_type": "markdown",
   "id": "41eaece8-3303-46bc-ad51-b98fe5bf2900",
   "metadata": {},
   "source": [
    "    Grand total of balances for all users"
   ]
  },
  {
   "cell_type": "code",
   "execution_count": 36,
   "id": "cff09fea-bc49-4624-a713-53e1b586f4d6",
   "metadata": {},
   "outputs": [],
   "source": [
    "# whip up a quick function to clean those numbers\n",
    "def clean_balance(some_fake_number):\n",
    "    return float(some_fake_number.replace(',','').replace('$',''))"
   ]
  },
  {
   "cell_type": "code",
   "execution_count": 38,
   "id": "18d68925-aa77-4347-b475-ec9ec7cf99c6",
   "metadata": {},
   "outputs": [
    {
     "data": {
      "text/plain": [
       "2097.02"
      ]
     },
     "execution_count": 38,
     "metadata": {},
     "output_type": "execute_result"
    }
   ],
   "source": [
    "clean_balance(profiles[0]['balance'])"
   ]
  },
  {
   "cell_type": "code",
   "execution_count": 39,
   "id": "48304ef5-a236-4015-94e7-512db61c3b4d",
   "metadata": {},
   "outputs": [],
   "source": [
    "# initialize total_bal as zero, keep adding to it with each balance\n",
    "total_bal = 0 \n",
    "for profile in profiles:\n",
    "    total_bal = total_bal + clean_balance(profile['balance'])"
   ]
  },
  {
   "cell_type": "code",
   "execution_count": 40,
   "id": "85e90408-480d-4547-91df-40a63b356756",
   "metadata": {},
   "outputs": [
    {
     "data": {
      "text/plain": [
       "52667.02"
      ]
     },
     "execution_count": 40,
     "metadata": {},
     "output_type": "execute_result"
    }
   ],
   "source": [
    "total_bal"
   ]
  },
  {
   "cell_type": "code",
   "execution_count": 47,
   "id": "b902844a-5704-4eea-b452-2457cbb55e5a",
   "metadata": {},
   "outputs": [
    {
     "data": {
      "text/plain": [
       "52667.0"
      ]
     },
     "execution_count": 47,
     "metadata": {},
     "output_type": "execute_result"
    }
   ],
   "source": [
    "round(sum([clean_balance(profile['balance']) for profile in profiles]), 1)"
   ]
  },
  {
   "cell_type": "markdown",
   "id": "bba457d8-4530-4a54-a651-566029bdaa40",
   "metadata": {},
   "source": [
    "Average balance per user"
   ]
  },
  {
   "cell_type": "code",
   "execution_count": 50,
   "id": "38bc4a17-fb95-407f-bd63-42d6d739cbf3",
   "metadata": {},
   "outputs": [
    {
     "name": "stdout",
     "output_type": "stream",
     "text": [
      " Average balance of users is 2771.95 dollhairs\n"
     ]
    }
   ],
   "source": [
    "print(f' Average balance of users is {round(total_bal / len(profiles), 2)} dollhairs')"
   ]
  },
  {
   "cell_type": "markdown",
   "id": "019490a3-0666-45ec-b47b-66a5baa45a78",
   "metadata": {},
   "source": [
    "    User with the lowest balance\n",
    "    "
   ]
  },
  {
   "cell_type": "code",
   "execution_count": 52,
   "id": "cdb7678e-a87e-4dcf-b7c7-f184622b0eab",
   "metadata": {},
   "outputs": [
    {
     "name": "stdout",
     "output_type": "stream",
     "text": [
      "0\n",
      "peach\n",
      "1\n",
      "plum\n",
      "2\n",
      "pear\n"
     ]
    }
   ],
   "source": [
    "# quick intro on enumerate:\n",
    "for i, element in enumerate(['peach', 'plum', 'pear']):\n",
    "    print(i)\n",
    "    print(element)"
   ]
  },
  {
   "cell_type": "code",
   "execution_count": 53,
   "id": "6cf3bebb-e02e-4776-8be4-f3c2feeee328",
   "metadata": {},
   "outputs": [],
   "source": [
    "# iteratively:\n",
    "# lets use enumerate to check for the first element in my list\n",
    "for i, profile in enumerate(profiles):\n",
    "    # if its the first element:\n",
    "    if i == 0:\n",
    "        #define our held lowest balance because its the first element\n",
    "        lowest_balance = clean_balance(profile['balance'])\n",
    "    else:\n",
    "        #otherwise, check if the new one is lower.\n",
    "        #if so, replace it\n",
    "        if clean_balance(profile['balance']) < lowest_balance:\n",
    "            lowest_balance = clean_balance(profile['balance'])\n",
    "    \n",
    "    "
   ]
  },
  {
   "cell_type": "code",
   "execution_count": 54,
   "id": "4449af79-3d51-4f7e-8283-b6f75610ac45",
   "metadata": {},
   "outputs": [
    {
     "data": {
      "text/plain": [
       "1214.1"
      ]
     },
     "execution_count": 54,
     "metadata": {},
     "output_type": "execute_result"
    }
   ],
   "source": [
    "lowest_balance"
   ]
  },
  {
   "cell_type": "code",
   "execution_count": 57,
   "id": "364ba4ff-0428-41b9-ae4a-638b33e95d0f",
   "metadata": {},
   "outputs": [
    {
     "data": {
      "text/plain": [
       "1214.1"
      ]
     },
     "execution_count": 57,
     "metadata": {},
     "output_type": "execute_result"
    }
   ],
   "source": [
    "# list comprehension way\n",
    "min([clean_balance(profile['balance']) for profile in profiles])"
   ]
  },
  {
   "cell_type": "code",
   "execution_count": 59,
   "id": "c88b0bb0-1766-4bf3-8e22-2727e6fe9eef",
   "metadata": {},
   "outputs": [
    {
     "data": {
      "text/plain": [
       "['Avery Flynn']"
      ]
     },
     "execution_count": 59,
     "metadata": {},
     "output_type": "execute_result"
    }
   ],
   "source": [
    "# every name for all the profiles in the profiles list\n",
    "# under the express condition that the value associated with that\n",
    "# profile's balance is the lowest balance that we hold in lowest_balance\n",
    "[profile['name'] for profile in profiles if clean_balance(profile['balance']) == lowest_balance]"
   ]
  },
  {
   "cell_type": "code",
   "execution_count": 61,
   "id": "cd5baefc-2146-4be2-9449-fa1fbac202b4",
   "metadata": {},
   "outputs": [],
   "source": [
    "# User with the highest balance\n",
    "max_bal = max([clean_balance(profile['balance']) for profile in profiles])"
   ]
  },
  {
   "cell_type": "code",
   "execution_count": 62,
   "id": "45cdca06-d584-4293-83f2-11ec54d50d85",
   "metadata": {},
   "outputs": [
    {
     "data": {
      "text/plain": [
       "['Fay Hammond']"
      ]
     },
     "execution_count": 62,
     "metadata": {},
     "output_type": "execute_result"
    }
   ],
   "source": [
    "[profile['name'] for profile in profiles if clean_balance(profile['balance']) == max_bal]"
   ]
  },
  {
   "cell_type": "markdown",
   "id": "bea3795b-5f65-49a4-93b6-43540048aa92",
   "metadata": {},
   "source": [
    "Most common favorite fruit\n",
    "    "
   ]
  },
  {
   "cell_type": "code",
   "execution_count": 64,
   "id": "8dc17760-80fb-47b2-b2a6-aed4725ff9db",
   "metadata": {},
   "outputs": [
    {
     "data": {
      "text/plain": [
       "'strawberry'"
      ]
     },
     "execution_count": 64,
     "metadata": {},
     "output_type": "execute_result"
    }
   ],
   "source": [
    "profiles[0]['favoriteFruit']"
   ]
  },
  {
   "cell_type": "code",
   "execution_count": 68,
   "id": "41558e47-38f9-4bed-9d87-27e5a847f5e3",
   "metadata": {},
   "outputs": [
    {
     "data": {
      "text/plain": [
       "True"
      ]
     },
     "execution_count": 68,
     "metadata": {},
     "output_type": "execute_result"
    }
   ],
   "source": [
    "# checking to see if something exists as a key in a dictionary:\n",
    "'key2' in {'keyone': 1, 'key2': 2, 'notimportant': 'lol'}.keys()"
   ]
  },
  {
   "cell_type": "code",
   "execution_count": 69,
   "id": "654952c7-5ade-467c-b1e4-72e46ed34f6a",
   "metadata": {},
   "outputs": [],
   "source": [
    "# lets make a dictionary to get each fruit and a counter\n",
    "# that ticks up based on what the users said\n",
    "# initialize an empty dictionary:\n",
    "fav_fruits = {}\n",
    "for profile in profiles:\n",
    "    if profile['favoriteFruit'] not in fav_fruits.keys():\n",
    "        fav_fruits[profile['favoriteFruit']] = 1\n",
    "    else:\n",
    "        fav_fruits[profile['favoriteFruit']] += 1"
   ]
  },
  {
   "cell_type": "code",
   "execution_count": 70,
   "id": "06a05c59-dc99-4fea-97ab-d1f492d0e0ce",
   "metadata": {},
   "outputs": [
    {
     "data": {
      "text/plain": [
       "{'strawberry': 9, 'apple': 6, 'banana': 4}"
      ]
     },
     "execution_count": 70,
     "metadata": {},
     "output_type": "execute_result"
    }
   ],
   "source": [
    "fav_fruits"
   ]
  },
  {
   "cell_type": "code",
   "execution_count": 71,
   "id": "68103f85-fb65-478b-90f3-8c80bcce533f",
   "metadata": {},
   "outputs": [
    {
     "data": {
      "text/plain": [
       "'strawberry'"
      ]
     },
     "execution_count": 71,
     "metadata": {},
     "output_type": "execute_result"
    }
   ],
   "source": [
    "# this is not doing what I want despite getting the right answer\n",
    "max(fav_fruits)"
   ]
  },
  {
   "cell_type": "code",
   "execution_count": 72,
   "id": "5efd2b88-617d-47fc-b719-b44155dc6371",
   "metadata": {},
   "outputs": [],
   "source": [
    "fav_fruits['zebra'] =  0"
   ]
  },
  {
   "cell_type": "code",
   "execution_count": 73,
   "id": "e873927f-fdb9-4929-908d-d1bfeb8e0609",
   "metadata": {},
   "outputs": [
    {
     "data": {
      "text/plain": [
       "{'strawberry': 9, 'apple': 6, 'banana': 4, 'zebra': 0}"
      ]
     },
     "execution_count": 73,
     "metadata": {},
     "output_type": "execute_result"
    }
   ],
   "source": [
    "fav_fruits"
   ]
  },
  {
   "cell_type": "code",
   "execution_count": 74,
   "id": "e70447c8-6eac-4a42-bc6e-312807e1e844",
   "metadata": {},
   "outputs": [
    {
     "data": {
      "text/plain": [
       "'zebra'"
      ]
     },
     "execution_count": 74,
     "metadata": {},
     "output_type": "execute_result"
    }
   ],
   "source": [
    "max(fav_fruits)"
   ]
  },
  {
   "cell_type": "code",
   "execution_count": 77,
   "id": "999d6ad5-bfa8-44e9-b5f4-e73e3cd246c0",
   "metadata": {},
   "outputs": [
    {
     "data": {
      "text/plain": [
       "9"
      ]
     },
     "execution_count": 77,
     "metadata": {},
     "output_type": "execute_result"
    }
   ],
   "source": [
    "max(fav_fruits.values())"
   ]
  },
  {
   "cell_type": "code",
   "execution_count": 79,
   "id": "84c19037-eb83-4a29-8125-f72c824ce855",
   "metadata": {},
   "outputs": [],
   "source": [
    "fruits = []\n",
    "for profile in profiles:\n",
    "    fruits.append(profile['favoriteFruit'])"
   ]
  },
  {
   "cell_type": "code",
   "execution_count": 84,
   "id": "7b5bdccd-d5e7-4115-a6d9-70b260996b34",
   "metadata": {},
   "outputs": [
    {
     "data": {
      "text/plain": [
       "9"
      ]
     },
     "execution_count": 84,
     "metadata": {},
     "output_type": "execute_result"
    }
   ],
   "source": [
    "fruits.count('strawberry')"
   ]
  },
  {
   "cell_type": "code",
   "execution_count": 82,
   "id": "c4021a22-4b26-4cb4-90fc-8474f6119ac5",
   "metadata": {},
   "outputs": [
    {
     "data": {
      "text/plain": [
       "'strawberry'"
      ]
     },
     "execution_count": 82,
     "metadata": {},
     "output_type": "execute_result"
    }
   ],
   "source": [
    "# this does the same thing as max\n",
    "max(fruits, key=fruits.count)"
   ]
  },
  {
   "cell_type": "code",
   "execution_count": null,
   "id": "6102dd34-d78b-4f27-823c-d0a0b1de4cb0",
   "metadata": {},
   "outputs": [],
   "source": [
    "for fruit in fav_fruits:"
   ]
  },
  {
   "cell_type": "code",
   "execution_count": 78,
   "id": "8db0ebbf-1974-486b-9458-5af3302fd691",
   "metadata": {},
   "outputs": [
    {
     "data": {
      "text/plain": [
       "['strawberry']"
      ]
     },
     "execution_count": 78,
     "metadata": {},
     "output_type": "execute_result"
    }
   ],
   "source": [
    "[fruit for fruit in fav_fruits if fav_fruits[fruit] == max(fav_fruits.values())]"
   ]
  },
  {
   "cell_type": "markdown",
   "id": "0c89bbad-0eb3-4a74-8d0e-0cdfe2a0f2df",
   "metadata": {},
   "source": [
    "Least most common favorite fruit"
   ]
  },
  {
   "cell_type": "code",
   "execution_count": 85,
   "id": "0cf6cd0d-a7cf-496b-a543-862395e30227",
   "metadata": {},
   "outputs": [
    {
     "data": {
      "text/plain": [
       "'banana'"
      ]
     },
     "execution_count": 85,
     "metadata": {},
     "output_type": "execute_result"
    }
   ],
   "source": [
    "min(fruits, key=fruits.count)"
   ]
  },
  {
   "cell_type": "markdown",
   "id": "d8f0c5cd-4fd2-47fb-9d54-a11a6987d2b2",
   "metadata": {},
   "source": [
    "Total number of unread messages for all users"
   ]
  },
  {
   "cell_type": "code",
   "execution_count": 86,
   "id": "645f663d-c839-45a8-9a81-3808a21c5388",
   "metadata": {},
   "outputs": [
    {
     "data": {
      "text/plain": [
       "{'_id': '54e23c3e46ab53a440b580e8',\n",
       " 'index': 0,\n",
       " 'guid': '9962b468-ef3e-4993-b677-617469bc3008',\n",
       " 'isActive': False,\n",
       " 'balance': '$2,097.02',\n",
       " 'picture': 'http://placehold.it/32x32',\n",
       " 'age': 39,\n",
       " 'eyeColor': 'blue',\n",
       " 'name': 'Hebert Estes',\n",
       " 'gender': 'male',\n",
       " 'company': 'ANDRYX',\n",
       " 'email': 'hebertestes@andryx.com',\n",
       " 'phone': '+1 (866) 456-2268',\n",
       " 'address': '121 Emmons Avenue, Klondike, Kentucky, 5975',\n",
       " 'about': 'Sit cillum deserunt irure laboris tempor fugiat laboris. Amet commodo amet est incididunt. Dolore qui fugiat cillum pariatur dolore excepteur elit ipsum.\\r\\n',\n",
       " 'registered': '2014-11-10T01:44:03 +06:00',\n",
       " 'latitude': -80.157843,\n",
       " 'longitude': 161.93016,\n",
       " 'tags': ['sit', 'occaecat', 'non', 'ea', 'sit', 'laboris', 'exercitation'],\n",
       " 'friends': [{'id': 0, 'name': 'Tanisha Leonard'},\n",
       "  {'id': 1, 'name': 'Dennis Wilson'},\n",
       "  {'id': 2, 'name': 'Lupe Howe'}],\n",
       " 'greeting': 'Hello, Hebert Estes! You have 4 unread messages.',\n",
       " 'favoriteFruit': 'strawberry'}"
      ]
     },
     "execution_count": 86,
     "metadata": {},
     "output_type": "execute_result"
    }
   ],
   "source": [
    "profiles[0]"
   ]
  },
  {
   "cell_type": "code",
   "execution_count": 88,
   "id": "4b7012ad-75ae-4be0-bd75-0b269c9eace5",
   "metadata": {},
   "outputs": [],
   "source": [
    "my_unreads = ''\n",
    "for letter in profiles[0]['greeting']:\n",
    "    if letter.isdigit():\n",
    "        my_unreads += letter"
   ]
  },
  {
   "cell_type": "code",
   "execution_count": 90,
   "id": "6e826366-9fce-4d48-b7af-53d102d81fa5",
   "metadata": {},
   "outputs": [
    {
     "data": {
      "text/plain": [
       "4"
      ]
     },
     "execution_count": 90,
     "metadata": {},
     "output_type": "execute_result"
    }
   ],
   "source": [
    "int(my_unreads)"
   ]
  },
  {
   "cell_type": "code",
   "execution_count": 92,
   "id": "8cdc2647-0420-468f-8d44-f0a63a402d34",
   "metadata": {},
   "outputs": [],
   "source": [
    "for word in profiles[0]['greeting'].split():\n",
    "    if word.isdigit():\n",
    "        unreads = word"
   ]
  },
  {
   "cell_type": "code",
   "execution_count": 93,
   "id": "52d6411f-c844-4fc6-8c8d-f580cfc459b5",
   "metadata": {},
   "outputs": [
    {
     "data": {
      "text/plain": [
       "'4'"
      ]
     },
     "execution_count": 93,
     "metadata": {},
     "output_type": "execute_result"
    }
   ],
   "source": [
    "unreads"
   ]
  },
  {
   "cell_type": "code",
   "execution_count": 94,
   "id": "92c552ea-1145-4798-a157-969b647df45c",
   "metadata": {},
   "outputs": [],
   "source": [
    "def get_unreads(user_greeting):\n",
    "    '''\n",
    "    for an input user_greeting:\n",
    "    cycle through each letter,\n",
    "    if the letter is actually a number,\n",
    "    concat it to my unreads string,\n",
    "    and then return the integer version of that number\n",
    "    \n",
    "    return: integer\n",
    "    '''\n",
    "    my_unreads = ''\n",
    "    for letter in user_greeting:\n",
    "        if letter.isdigit():\n",
    "            my_unreads += letter\n",
    "    return int(my_unreads)"
   ]
  },
  {
   "cell_type": "code",
   "execution_count": 96,
   "id": "aa69dac7-78ab-4d0c-a1f1-a90f694aebeb",
   "metadata": {},
   "outputs": [
    {
     "data": {
      "text/plain": [
       "210"
      ]
     },
     "execution_count": 96,
     "metadata": {},
     "output_type": "execute_result"
    }
   ],
   "source": [
    "sum([get_unreads(profile['greeting']) for profile in profiles])"
   ]
  },
  {
   "cell_type": "code",
   "execution_count": 97,
   "id": "c752afb1-962d-47ec-8fbe-d249086ec8f1",
   "metadata": {},
   "outputs": [],
   "source": [
    "# initialize unreads:\n",
    "sum_of_unreads = 0\n",
    "for profile in profiles:\n",
    "    # for every profile in profiles,\n",
    "    # add the value associated with the unreas to sum of unreads\n",
    "    sum_of_unreads += get_unreads(profile['greeting'])"
   ]
  },
  {
   "cell_type": "code",
   "execution_count": 98,
   "id": "16915d51-e8f2-4da5-93c8-acd5a5e6e660",
   "metadata": {},
   "outputs": [
    {
     "data": {
      "text/plain": [
       "210"
      ]
     },
     "execution_count": 98,
     "metadata": {},
     "output_type": "execute_result"
    }
   ],
   "source": [
    "sum_of_unreads"
   ]
  },
  {
   "cell_type": "code",
   "execution_count": null,
   "id": "8370d48f-1969-4f89-a646-9beb4c29ccae",
   "metadata": {},
   "outputs": [],
   "source": []
  }
 ],
 "metadata": {
  "kernelspec": {
   "display_name": "Python 3 (ipykernel)",
   "language": "python",
   "name": "python3"
  },
  "language_info": {
   "codemirror_mode": {
    "name": "ipython",
    "version": 3
   },
   "file_extension": ".py",
   "mimetype": "text/x-python",
   "name": "python",
   "nbconvert_exporter": "python",
   "pygments_lexer": "ipython3",
   "version": "3.11.2"
  }
 },
 "nbformat": 4,
 "nbformat_minor": 5
}
