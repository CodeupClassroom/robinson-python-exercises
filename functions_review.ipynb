{
 "cells": [
  {
   "cell_type": "markdown",
   "id": "fitting-reunion",
   "metadata": {},
   "source": [
    "# Functions Exercises"
   ]
  },
  {
   "cell_type": "code",
   "execution_count": 2,
   "id": "a58e0c09",
   "metadata": {},
   "outputs": [],
   "source": [
    "# two true cases:"
   ]
  },
  {
   "cell_type": "code",
   "execution_count": 3,
   "id": "8d9221a9-005f-41f8-9d57-6055b62bbf23",
   "metadata": {},
   "outputs": [
    {
     "data": {
      "text/plain": [
       "True"
      ]
     },
     "execution_count": 3,
     "metadata": {},
     "output_type": "execute_result"
    }
   ],
   "source": [
    "type('blah') == str"
   ]
  },
  {
   "cell_type": "code",
   "execution_count": 4,
   "id": "2a3712af-9cee-4401-93f6-552fe78dc0d2",
   "metadata": {},
   "outputs": [],
   "source": [
    "# assert 1 == 2"
   ]
  },
  {
   "cell_type": "code",
   "execution_count": 5,
   "id": "358f4fe9-0403-456a-89c1-8c9093c88118",
   "metadata": {},
   "outputs": [
    {
     "data": {
      "text/plain": [
       "True"
      ]
     },
     "execution_count": 5,
     "metadata": {},
     "output_type": "execute_result"
    }
   ],
   "source": [
    "2.0 == 2"
   ]
  },
  {
   "cell_type": "code",
   "execution_count": 6,
   "id": "e1457f10-0687-4c2e-b1c7-45078e7cee6f",
   "metadata": {},
   "outputs": [],
   "source": [
    "# Exercise 1\n",
    "# Define a function named is_two. \n",
    "# It should accept one input and return True if \n",
    "# the passed input is either the number or the string 2, \n",
    "# False otherwise.\n",
    "# Two potential True options here:\n",
    "# the input is either the digit 2\n",
    "# or the input is the string literal '2'"
   ]
  },
  {
   "cell_type": "code",
   "execution_count": 7,
   "id": "aeb94935-b0c4-4053-98b7-ad42f8ac10d4",
   "metadata": {},
   "outputs": [],
   "source": [
    "# case 1 for truth: the thing is the number 2:\n",
    "# input == 2\n",
    "# case 2 for truth:\n",
    "# the thing is the string 2:\n",
    "# input == '2'"
   ]
  },
  {
   "cell_type": "code",
   "execution_count": 8,
   "id": "e6a52d85-365b-4e8c-beb3-e40223578947",
   "metadata": {},
   "outputs": [],
   "source": [
    "# begin to define my function:\n",
    "def is_two(my_input):\n",
    "    '''\n",
    "    is_two determines if my_input is the number 2\n",
    "    this can be a string or a numerical 2.\n",
    "    \n",
    "    return: boolean\n",
    "    '''\n",
    "    # if my_input == 2 or my_input == '2':\n",
    "    #     return True\n",
    "    # else:\n",
    "    #     return False\n",
    "    # rather than rendering that entire if/else,\n",
    "    # I can rely on the idea that my_input ==2 or my_input == '2'\n",
    "    # will always return a boolean assessment.\n",
    "    return my_input == 2 or my_input == '2'"
   ]
  },
  {
   "cell_type": "code",
   "execution_count": 9,
   "id": "f838488d-2e33-44b0-8194-fa1b5d48580e",
   "metadata": {},
   "outputs": [],
   "source": [
    "some_input = 'ham sandwich'"
   ]
  },
  {
   "cell_type": "code",
   "execution_count": 10,
   "id": "69419918-1e6d-4a80-9992-b1a0219faf00",
   "metadata": {},
   "outputs": [
    {
     "data": {
      "text/plain": [
       "False"
      ]
     },
     "execution_count": 10,
     "metadata": {},
     "output_type": "execute_result"
    }
   ],
   "source": [
    "some_input == 2 or some_input == '2'"
   ]
  },
  {
   "cell_type": "code",
   "execution_count": 11,
   "id": "f0c15f1e-54b4-47e6-bbbf-934443019006",
   "metadata": {},
   "outputs": [
    {
     "data": {
      "text/plain": [
       "False"
      ]
     },
     "execution_count": 11,
     "metadata": {},
     "output_type": "execute_result"
    }
   ],
   "source": [
    "is_two(5)"
   ]
  },
  {
   "cell_type": "code",
   "execution_count": 12,
   "id": "f43b7f97-8488-4017-82e0-c657fc05e112",
   "metadata": {},
   "outputs": [],
   "source": [
    "# assert actual value == expected value\n",
    "assert is_two(2) == True\n",
    "assert is_two(2.0) == True\n",
    "assert is_two(\"2\") == True\n",
    "assert is_two(5) == False\n",
    "assert is_two(10) == False\n",
    "assert is_two(\"coffee\") == False"
   ]
  },
  {
   "cell_type": "code",
   "execution_count": 13,
   "id": "0b30356f",
   "metadata": {},
   "outputs": [],
   "source": [
    "# Exercise 2\n",
    "# Define a function named is_vowel. \n",
    "# It should return True if the passed string is a vowel, \n",
    "# False otherwise.\n",
    "# cases where this is true:\n",
    "# 'a' 'e' 'i' 'o' 'u'"
   ]
  },
  {
   "cell_type": "code",
   "execution_count": 14,
   "id": "51fb2073-0308-49e1-ad62-0f8bcd16ae2c",
   "metadata": {},
   "outputs": [
    {
     "data": {
      "text/plain": [
       "True"
      ]
     },
     "execution_count": 14,
     "metadata": {},
     "output_type": "execute_result"
    }
   ],
   "source": [
    "# we can use in to compare against an iterable\n",
    "'A' in ['a', 'e', 'i', 'o', 'u', 'A', 'E', 'I', 'O', 'U']"
   ]
  },
  {
   "cell_type": "code",
   "execution_count": 15,
   "id": "6847e9aa-d4b1-4d91-a42b-9dd389eabea6",
   "metadata": {},
   "outputs": [
    {
     "data": {
      "text/plain": [
       "True"
      ]
     },
     "execution_count": 15,
     "metadata": {},
     "output_type": "execute_result"
    }
   ],
   "source": [
    "# and we can also treat strings directly kinda like a list\n",
    "'a' in 'aeiouAEIOU'"
   ]
  },
  {
   "cell_type": "code",
   "execution_count": 16,
   "id": "e36f9f9e-d9f8-4696-af5b-169f1fbf0b30",
   "metadata": {},
   "outputs": [
    {
     "data": {
      "text/plain": [
       "True"
      ]
     },
     "execution_count": 16,
     "metadata": {},
     "output_type": "execute_result"
    }
   ],
   "source": [
    "# howeverrrrr:\n",
    "'ei' in 'aeiouAEIOU'"
   ]
  },
  {
   "cell_type": "code",
   "execution_count": 17,
   "id": "268279d7-184d-49d9-8b9c-e542813e03df",
   "metadata": {},
   "outputs": [
    {
     "data": {
      "text/plain": [
       "False"
      ]
     },
     "execution_count": 17,
     "metadata": {},
     "output_type": "execute_result"
    }
   ],
   "source": [
    "# workaround to render the first a little cleaner:\n",
    "'ae' in list('aeiouAEIOU')"
   ]
  },
  {
   "cell_type": "code",
   "execution_count": 18,
   "id": "c1d9fe6d-6207-4b38-b270-6e8d88347adc",
   "metadata": {},
   "outputs": [
    {
     "data": {
      "text/plain": [
       "['a', 'e', 'i', 'o', 'u', 'A', 'E', 'I', 'O', 'U']"
      ]
     },
     "execution_count": 18,
     "metadata": {},
     "output_type": "execute_result"
    }
   ],
   "source": [
    "# casting the string as a list directly will separate out the characters\n",
    "list('aeiouAEIOU')"
   ]
  },
  {
   "cell_type": "code",
   "execution_count": 19,
   "id": "c8a42ec5-5bea-4d20-b925-1df8d83add6e",
   "metadata": {},
   "outputs": [
    {
     "data": {
      "text/plain": [
       "True"
      ]
     },
     "execution_count": 19,
     "metadata": {},
     "output_type": "execute_result"
    }
   ],
   "source": [
    "# .isdigit()\n",
    "'2'.isdigit()"
   ]
  },
  {
   "cell_type": "code",
   "execution_count": 20,
   "id": "a370e67f-7def-447e-b77e-e27f08749746",
   "metadata": {},
   "outputs": [
    {
     "data": {
      "text/plain": [
       "'aeiou'"
      ]
     },
     "execution_count": 20,
     "metadata": {},
     "output_type": "execute_result"
    }
   ],
   "source": [
    "# lower method\n",
    "'AEIOU'.lower()"
   ]
  },
  {
   "cell_type": "code",
   "execution_count": null,
   "id": "c630a0c8-b1d0-44d6-827e-ae3b7313a4ae",
   "metadata": {},
   "outputs": [],
   "source": []
  },
  {
   "cell_type": "code",
   "execution_count": 21,
   "id": "3b34d6e4-7a6e-41c8-af42-39f55312138e",
   "metadata": {},
   "outputs": [
    {
     "data": {
      "text/plain": [
       "False"
      ]
     },
     "execution_count": 21,
     "metadata": {},
     "output_type": "execute_result"
    }
   ],
   "source": [
    "# another workaround here:\n",
    "my_input = 'z'\n",
    "my_input.lower() in list('aeiou')"
   ]
  },
  {
   "cell_type": "code",
   "execution_count": 22,
   "id": "7685b7cc-e684-4eea-a213-f59d6a9ed72c",
   "metadata": {
    "tags": []
   },
   "outputs": [],
   "source": [
    "# define our function:\n",
    "def is_vowel(my_let):\n",
    "    '''\n",
    "    is_vowel will check if the argument my_let\n",
    "    is a vowel: (it is a single letter and in a, e, i, o, u\n",
    "    \n",
    "    return: boolean\n",
    "    '''\n",
    "    # one option: check if its a string and then do this:\n",
    "    # return my_let.lower() in list('aeiou')\n",
    "    return my_let in list('aeiouAEIOU')"
   ]
  },
  {
   "cell_type": "code",
   "execution_count": 23,
   "id": "a43eb262-7968-4724-82d5-5013d345faf8",
   "metadata": {},
   "outputs": [
    {
     "data": {
      "text/plain": [
       "True"
      ]
     },
     "execution_count": 23,
     "metadata": {},
     "output_type": "execute_result"
    }
   ],
   "source": [
    "is_vowel('A')"
   ]
  },
  {
   "cell_type": "code",
   "execution_count": 24,
   "id": "8f4826ba-1209-426e-9b69-3aaf6dfd3cdc",
   "metadata": {},
   "outputs": [
    {
     "data": {
      "text/plain": [
       "True"
      ]
     },
     "execution_count": 24,
     "metadata": {},
     "output_type": "execute_result"
    }
   ],
   "source": [
    "'A'.lower() in list('aeiou')"
   ]
  },
  {
   "cell_type": "code",
   "execution_count": 25,
   "id": "fitting-hotel",
   "metadata": {},
   "outputs": [],
   "source": [
    "assert is_vowel(\"A\") == True\n",
    "assert is_vowel(\"E\") == True\n",
    "assert is_vowel(\"I\") == True\n",
    "assert is_vowel(\"O\") == True\n",
    "assert is_vowel(\"y\") == False\n",
    "assert is_vowel(\"aeiou\") == False # since the entire string aint a vowel\n",
    "assert is_vowel(\"p\") == False\n",
    "assert is_vowel([1, 2, 3]) == False\n",
    "assert is_vowel(2) == False"
   ]
  },
  {
   "cell_type": "code",
   "execution_count": 26,
   "id": "9c7e929b-51d8-413b-ad7d-1e10bf528f43",
   "metadata": {},
   "outputs": [],
   "source": [
    "# method chaining:\n",
    "# method chaining is absoltely kosher under the condition\n",
    "# that the return of the last method\n",
    "# is conducive/of the object type\n",
    "# of the new method call\n",
    "# thing.method1().method2()"
   ]
  },
  {
   "cell_type": "code",
   "execution_count": 27,
   "id": "20767d2d-e9b7-4e58-8451-c18527c48fbb",
   "metadata": {},
   "outputs": [
    {
     "data": {
      "text/plain": [
       "'ham sandwich'"
      ]
     },
     "execution_count": 27,
     "metadata": {},
     "output_type": "execute_result"
    }
   ],
   "source": [
    "# .upper returns a string, which also has a .lower method\n",
    "'ham sandwich'.upper().lower()"
   ]
  },
  {
   "cell_type": "code",
   "execution_count": 28,
   "id": "9b585aa3-5ef4-4c0c-8dc3-378d53fc0fc9",
   "metadata": {},
   "outputs": [],
   "source": [
    "# .isalpha returns a boolean, which does not have a .lower method\n",
    "# this produces breakage:\n",
    "# 'ham sandwich'.isalpha().lower()"
   ]
  },
  {
   "cell_type": "code",
   "execution_count": 29,
   "id": "e9e8948d-b1c9-4ed1-85fc-7c899fcf4c82",
   "metadata": {},
   "outputs": [],
   "source": [
    "# checking documentation:"
   ]
  },
  {
   "cell_type": "code",
   "execution_count": 30,
   "id": "30d53af0-4328-4c03-b253-f0810704384c",
   "metadata": {},
   "outputs": [
    {
     "data": {
      "text/plain": [
       "\u001b[0;31mSignature:\u001b[0m \u001b[0mis_two\u001b[0m\u001b[0;34m(\u001b[0m\u001b[0mmy_input\u001b[0m\u001b[0;34m)\u001b[0m\u001b[0;34m\u001b[0m\u001b[0;34m\u001b[0m\u001b[0m\n",
       "\u001b[0;31mDocstring:\u001b[0m\n",
       "is_two determines if my_input is the number 2\n",
       "this can be a string or a numerical 2.\n",
       "\n",
       "return: boolean\n",
       "\u001b[0;31mFile:\u001b[0m      /var/folders/64/db_n95vn5jbbj1ysbq4cwd_r0000gn/T/ipykernel_1129/2176517734.py\n",
       "\u001b[0;31mType:\u001b[0m      function"
      ]
     },
     "metadata": {},
     "output_type": "display_data"
    }
   ],
   "source": [
    "# for a regular function,\n",
    "# i can put a question mark at the end\n",
    "# instead of the invocation ()'s\n",
    "is_two?"
   ]
  },
  {
   "cell_type": "code",
   "execution_count": 31,
   "id": "0a578fe7-de56-471b-8c27-38814308d472",
   "metadata": {},
   "outputs": [
    {
     "data": {
      "text/plain": [
       "\u001b[0;31mSignature:\u001b[0m \u001b[0mstr\u001b[0m\u001b[0;34m.\u001b[0m\u001b[0misalpha\u001b[0m\u001b[0;34m(\u001b[0m\u001b[0mself\u001b[0m\u001b[0;34m,\u001b[0m \u001b[0;34m/\u001b[0m\u001b[0;34m)\u001b[0m\u001b[0;34m\u001b[0m\u001b[0;34m\u001b[0m\u001b[0m\n",
       "\u001b[0;31mDocstring:\u001b[0m\n",
       "Return True if the string is an alphabetic string, False otherwise.\n",
       "\n",
       "A string is alphabetic if all characters in the string are alphabetic and there\n",
       "is at least one character in the string.\n",
       "\u001b[0;31mType:\u001b[0m      method_descriptor"
      ]
     },
     "metadata": {},
     "output_type": "display_data"
    }
   ],
   "source": [
    "# for a METHOD:\n",
    "# I can do the same thing, but I need to specify where the function\n",
    "# lives\n",
    "# in this case, its in the string class\n",
    "str.isalpha?"
   ]
  },
  {
   "cell_type": "code",
   "execution_count": 32,
   "id": "4c460207",
   "metadata": {},
   "outputs": [],
   "source": [
    "# Exercise 3\n",
    "# Define a function named is_consonant.\n",
    "# It should return True if the passed string is a consonant, \n",
    "# False otherwise. Use your is_vowel function to accomplish this.\n",
    "\n",
    "# whats a consonant:\n",
    "# its a letter that is not a vowel\n",
    "# which means that it needs to be one character\n",
    "# it needs to not be a vowel\n",
    "# and it needs to be a letter\n",
    "# define our function:\n",
    "def is_consonant(my_string):\n",
    "    '''\n",
    "    is_consonant takes in a single positional argument, my_string\n",
    "    return: a boolean in correspondance on if my_string is a consonant\n",
    "    '''\n",
    "    return len(my_string) == 1 and \\\n",
    "        my_string.isalpha() and \\\n",
    "        not is_vowel(my_string)"
   ]
  },
  {
   "cell_type": "code",
   "execution_count": 33,
   "id": "22021ff2-2460-4b4f-b462-6277623b15aa",
   "metadata": {},
   "outputs": [
    {
     "data": {
      "text/plain": [
       "True"
      ]
     },
     "execution_count": 33,
     "metadata": {},
     "output_type": "execute_result"
    }
   ],
   "source": [
    "# is_vowel() == False\n",
    "# len() == 1\n",
    "# == a letter ==> .isalpha()\n",
    "\n",
    "# 'z' in 'BCDFGHJKLMNPQRSTVWXYZ'\n",
    "not is_vowel('z') and len('z') == 1 and 'z'.isalpha()"
   ]
  },
  {
   "cell_type": "code",
   "execution_count": 34,
   "id": "affecting-repair",
   "metadata": {},
   "outputs": [],
   "source": [
    "assert is_consonant(\"B\") == True\n",
    "assert is_consonant(\"y\") == True\n",
    "assert is_consonant(\"A\") == False\n",
    "assert is_consonant(\"E\") == False\n",
    "assert is_consonant(\"I\") == False\n",
    "assert is_consonant(\"O\") == False\n",
    "assert is_consonant(\"1\") == False\n",
    "assert is_consonant(\"2\") == False\n",
    "assert is_consonant(\"*\") == False\n",
    "assert is_consonant(\"+\") == False\n",
    "assert is_consonant([3, 4]) == False"
   ]
  },
  {
   "cell_type": "code",
   "execution_count": 35,
   "id": "37c770c9-83c6-4d8a-935c-da09e6124012",
   "metadata": {},
   "outputs": [],
   "source": [
    "# Exercise 4\n",
    "# Define a function that accepts a string that is a word. \n",
    "# The function should capitalize the \n",
    "# first letter of the word if the word starts with a consonant.\n",
    "\n",
    "    "
   ]
  },
  {
   "cell_type": "code",
   "execution_count": 36,
   "id": "7834f8d0-b601-4311-bd6e-4435dac745ad",
   "metadata": {},
   "outputs": [],
   "source": [
    "my_test = 'strings can be looked at as iterables!'"
   ]
  },
  {
   "cell_type": "code",
   "execution_count": 37,
   "id": "e043688a-6e49-45eb-a416-a0b58389ad71",
   "metadata": {},
   "outputs": [],
   "source": [
    "# lets check out how my_test works:\n",
    "# for letter in my_test:\n",
    "    # we can do a test on each letter\n",
    "    # in the string, because we are looking at\n",
    "    # a single character when we passs a string into a for loop."
   ]
  },
  {
   "cell_type": "code",
   "execution_count": 38,
   "id": "32144f92-fba7-46e0-8014-d1906ab637df",
   "metadata": {},
   "outputs": [],
   "source": [
    "# i can use the function I just created to render\n",
    "# if the first letter of my_test (index 0) is a consonant"
   ]
  },
  {
   "cell_type": "code",
   "execution_count": 39,
   "id": "f7c4a99f-34a5-43d2-9601-d7c50b601fb3",
   "metadata": {},
   "outputs": [
    {
     "data": {
      "text/plain": [
       "True"
      ]
     },
     "execution_count": 39,
     "metadata": {},
     "output_type": "execute_result"
    }
   ],
   "source": [
    "is_consonant(my_test[0])"
   ]
  },
  {
   "cell_type": "code",
   "execution_count": 40,
   "id": "78cf027c-3f6c-4823-84b4-bb6e44e4e855",
   "metadata": {},
   "outputs": [],
   "source": [
    "# truth checks:\n",
    "if is_consonant(my_test[0]):\n",
    "    my_test[0].upper()"
   ]
  },
  {
   "cell_type": "code",
   "execution_count": 41,
   "id": "a9b7039b-9ef0-405f-97ca-263ef2f356ab",
   "metadata": {},
   "outputs": [
    {
     "data": {
      "text/plain": [
       "'S'"
      ]
     },
     "execution_count": 41,
     "metadata": {},
     "output_type": "execute_result"
    }
   ],
   "source": [
    "my_test[0].upper()"
   ]
  },
  {
   "cell_type": "code",
   "execution_count": 42,
   "id": "e6bc8ba3-f4ba-4512-b4b8-ca2e042cc267",
   "metadata": {},
   "outputs": [
    {
     "data": {
      "text/plain": [
       "'strings can be looked at as iterables!'"
      ]
     },
     "execution_count": 42,
     "metadata": {},
     "output_type": "execute_result"
    }
   ],
   "source": [
    "# the pieces of my_test:\n",
    "# the zeroth index, and everything from 1 to the end\n",
    "my_test[0] + my_test[1:]"
   ]
  },
  {
   "cell_type": "code",
   "execution_count": 43,
   "id": "86efb1f0-7fe5-4ebd-bd0d-da18514d6d29",
   "metadata": {},
   "outputs": [],
   "source": [
    "a = 'a'\n",
    "b = 'b'\n",
    "a += b"
   ]
  },
  {
   "cell_type": "code",
   "execution_count": 44,
   "id": "c1114690-2c5b-4735-a066-86a1406a0169",
   "metadata": {},
   "outputs": [
    {
     "data": {
      "text/plain": [
       "'ab'"
      ]
     },
     "execution_count": 44,
     "metadata": {},
     "output_type": "execute_result"
    }
   ],
   "source": [
    "a"
   ]
  },
  {
   "cell_type": "code",
   "execution_count": 45,
   "id": "8b187895-3bae-4e81-9f16-91b02cb5d406",
   "metadata": {},
   "outputs": [],
   "source": [
    "# build a new string:\n",
    "# initialize my_new_string as an empty string\n",
    "my_new_string = ''\n",
    "if is_consonant(my_test[0]):\n",
    "    my_new_string += my_test[0].upper() \n",
    "    my_new_string += my_test[1:]\n",
    "else:\n",
    "    my_new_string = my_test"
   ]
  },
  {
   "cell_type": "code",
   "execution_count": 46,
   "id": "ab74450f-406c-4d87-b310-a6cbf3118e90",
   "metadata": {},
   "outputs": [
    {
     "data": {
      "text/plain": [
       "'Strings can be looked at as iterables!'"
      ]
     },
     "execution_count": 46,
     "metadata": {},
     "output_type": "execute_result"
    }
   ],
   "source": [
    "my_new_string"
   ]
  },
  {
   "cell_type": "code",
   "execution_count": 47,
   "id": "b3363b4d-595a-4fb3-a9fc-fc53e6b5f7d8",
   "metadata": {},
   "outputs": [
    {
     "data": {
      "text/plain": [
       "True"
      ]
     },
     "execution_count": 47,
     "metadata": {},
     "output_type": "execute_result"
    }
   ],
   "source": [
    "' ' in my_new_string"
   ]
  },
  {
   "cell_type": "code",
   "execution_count": 48,
   "id": "9b698967-493a-4ad0-9774-421c2c62be41",
   "metadata": {},
   "outputs": [
    {
     "data": {
      "text/plain": [
       "['two', 'words']"
      ]
     },
     "execution_count": 48,
     "metadata": {},
     "output_type": "execute_result"
    }
   ],
   "source": [
    "'two words'.split()"
   ]
  },
  {
   "cell_type": "code",
   "execution_count": 49,
   "id": "725d2f20-f0a2-4ee6-b15d-be3946d2fd78",
   "metadata": {},
   "outputs": [
    {
     "data": {
      "text/plain": [
       "['word']"
      ]
     },
     "execution_count": 49,
     "metadata": {},
     "output_type": "execute_result"
    }
   ],
   "source": [
    "'word'.split()"
   ]
  },
  {
   "cell_type": "code",
   "execution_count": 50,
   "id": "9e1a57d8-cb4a-4aac-80df-244b79a267f6",
   "metadata": {},
   "outputs": [
    {
     "data": {
      "text/plain": [
       "1"
      ]
     },
     "execution_count": 50,
     "metadata": {},
     "output_type": "execute_result"
    }
   ],
   "source": [
    "len('word'.split())"
   ]
  },
  {
   "cell_type": "code",
   "execution_count": 51,
   "id": "94a32416-e90d-473e-b39f-cd0b7f52668d",
   "metadata": {},
   "outputs": [
    {
     "data": {
      "text/plain": [
       "['Strings', 'can', 'be', 'looked', 'at', 'as', 'iterables!']"
      ]
     },
     "execution_count": 51,
     "metadata": {},
     "output_type": "execute_result"
    }
   ],
   "source": [
    "my_new_string.split()"
   ]
  },
  {
   "cell_type": "code",
   "execution_count": 52,
   "id": "80f0a25d-770f-4621-885a-15b590bf8455",
   "metadata": {},
   "outputs": [
    {
     "data": {
      "text/plain": [
       "['two', 'words', 'gh']"
      ]
     },
     "execution_count": 52,
     "metadata": {},
     "output_type": "execute_result"
    }
   ],
   "source": [
    "'    two words    gh'.strip().split()"
   ]
  },
  {
   "cell_type": "code",
   "execution_count": 53,
   "id": "c26519cf-35ff-4303-a647-a899b3fdcee1",
   "metadata": {},
   "outputs": [],
   "source": [
    "def capitalize_starting_consonant(my_string):\n",
    "    #my_string.split() will return a list of strings\n",
    "    # it will only be one thing if its a single word\n",
    "    if len(my_string.split()) == 1:\n",
    "        # case when its a single word:\n",
    "        my_new_string = ''\n",
    "        if is_consonant(my_string[0]):\n",
    "            my_new_string += my_string[0].upper() \n",
    "            my_new_string += my_string[1:]\n",
    "        else:\n",
    "            my_new_string = my_string\n",
    "    else:\n",
    "        my_new_string = my_string\n",
    "    return my_new_string\n",
    "        "
   ]
  },
  {
   "cell_type": "code",
   "execution_count": 54,
   "id": "f06dc1ba-1d53-4580-8733-cefa64831ecd",
   "metadata": {},
   "outputs": [
    {
     "data": {
      "text/plain": [
       "'Hello'"
      ]
     },
     "execution_count": 54,
     "metadata": {},
     "output_type": "execute_result"
    }
   ],
   "source": [
    "'hello'.capitalize()"
   ]
  },
  {
   "cell_type": "code",
   "execution_count": 55,
   "id": "60ff9b32-888a-43b1-af15-3b530805f629",
   "metadata": {},
   "outputs": [],
   "source": [
    "assert capitalize_starting_consonant(\"coffee\") == \"Coffee\"\n",
    "assert capitalize_starting_consonant(\"another string\") == \"another string\""
   ]
  },
  {
   "cell_type": "code",
   "execution_count": 57,
   "id": "whole-forum",
   "metadata": {},
   "outputs": [],
   "source": [
    "# Exercise 5\n",
    "# Define a function named calculate_tip. \n",
    "# It should accept a tip percentage \n",
    "# (a number between 0 and 1) and the bill total, \n",
    "# and return the amount to tip.\n",
    "\n",
    "# positional arguments vs keyword arguments: (kwarg)\n",
    "# positional arguments: theyre in order, and they MUST be there\n",
    "# when the function is invoked\n",
    "# keyword arguments:\n",
    "# must be defined after positional arguments if there are any,\n",
    "# and are optional BECAAAAUSE they come with a predetermed default\n",
    "\n",
    "def calculate_tip(bill, tip_percent=0.2):\n",
    "    tip_amount = bill * tip_percent\n",
    "    return tip_amount\n",
    "    \n",
    "\n",
    "assert calculate_tip(100.00) == 20\n",
    "assert calculate_tip(100.00, .3) == 30"
   ]
  },
  {
   "cell_type": "code",
   "execution_count": 58,
   "id": "expected-conspiracy",
   "metadata": {},
   "outputs": [],
   "source": [
    "# Exercise 6\n",
    "# Define a function named apply_discount. \n",
    "# It should accept a original price, and a discount percentage, \n",
    "# and return the price after the discount is applied.\n",
    "def apply_discount(original_price, discount_percentage=0):\n",
    "    new_price = original_price - (original_price * discount_percentage)\n",
    "    return new_price\n",
    "    \n",
    "\n",
    "assert apply_discount(20, .5) == 10"
   ]
  },
  {
   "cell_type": "code",
   "execution_count": 59,
   "id": "260b62c8-4fac-47c3-8563-19b77dca5fc9",
   "metadata": {},
   "outputs": [],
   "source": [
    "# Exercise 7\n",
    "# Define a function named handle_commas. \n",
    "# It should accept a string that is a number that contains \n",
    "# commas in it as input, \n",
    "# and return a number as output.\n",
    "# \n",
    "# we need to take a string, remove commas, turn it into a number\n",
    "# presumptions:\n",
    "# we are getting a string value that is a number\n",
    "# presumption a: its already a string\n",
    "# presumption b: its a number\n",
    "def handle_commas(some_stringy_num):\n",
    "    # initialize a new string number:\n",
    "    my_new_num = ''\n",
    "    for dig in some_stringy_num:\n",
    "        # lets build a new number\n",
    "        # that will start off as a string\n",
    "        # but remove all the junk\n",
    "        # then turn it into a number\n",
    "        if dig == ',':\n",
    "            continue\n",
    "        else:\n",
    "            my_new_num += dig\n",
    "    return int(my_new_num)\n",
    "    "
   ]
  },
  {
   "cell_type": "code",
   "execution_count": 60,
   "id": "eab85043-4110-4399-9c3d-a0f8513fc9ef",
   "metadata": {},
   "outputs": [],
   "source": [
    "assert handle_commas(\"1,234\") == 1234\n",
    "assert handle_commas(\"1,234,456\") == 1234456"
   ]
  },
  {
   "cell_type": "code",
   "execution_count": 61,
   "id": "f325268b-aee1-4477-8b99-5c9afc28a2f5",
   "metadata": {},
   "outputs": [],
   "source": [
    "# Exercise 8\n",
    "# Define a function named get_letter_grade. \n",
    "# It should accept a number and return the letter grade \n",
    "# associated with that number (A-F).\n",
    "# def a function called get_letter_grade\n",
    "# it will take in one positional argument grade_number\n",
    "\n",
    "def get_letter_grade(grade_number):\n",
    "    if grade_number >= 90:\n",
    "        return 'A'\n",
    "    if grade_number >= 80:\n",
    "        return 'B'\n",
    "    if grade_number >= 70:\n",
    "        return 'C'\n",
    "    else:\n",
    "        return 'F'\n",
    "    \n",
    "def get_letter_grade2(grade_number):\n",
    "    my_new_grade = ''\n",
    "    if grade_number >= 90:\n",
    "        my_new_grade =  'A'\n",
    "    elif grade_number >= 80:\n",
    "        my_new_grade = 'B'\n",
    "    elif grade_number >= 70:\n",
    "        my_new_grade = 'C'\n",
    "    return my_new_grade"
   ]
  },
  {
   "cell_type": "code",
   "execution_count": 62,
   "id": "54662050-3d88-445f-9ec6-f2eb35bc34a1",
   "metadata": {},
   "outputs": [
    {
     "data": {
      "text/plain": [
       "'A'"
      ]
     },
     "execution_count": 62,
     "metadata": {},
     "output_type": "execute_result"
    }
   ],
   "source": [
    "get_letter_grade(93)"
   ]
  },
  {
   "cell_type": "code",
   "execution_count": 63,
   "id": "7b2ac67e-d518-4197-8686-ad034c2165e6",
   "metadata": {},
   "outputs": [
    {
     "data": {
      "text/plain": [
       "'A'"
      ]
     },
     "execution_count": 63,
     "metadata": {},
     "output_type": "execute_result"
    }
   ],
   "source": [
    "get_letter_grade2(93)"
   ]
  },
  {
   "cell_type": "code",
   "execution_count": 64,
   "id": "78c47b18-009f-47c7-8107-55cd6d662f94",
   "metadata": {},
   "outputs": [],
   "source": [
    "assert get_letter_grade(100) == \"A\"\n",
    "assert get_letter_grade(75) == \"C\""
   ]
  },
  {
   "cell_type": "code",
   "execution_count": 65,
   "id": "a895415e-a6f8-455e-bcb3-1ca22ede744b",
   "metadata": {},
   "outputs": [],
   "source": [
    "# Exercise 9\n",
    "# Define a function named remove_vowels that accepts a \n",
    "# string and returns a string with all the vowels removed."
   ]
  },
  {
   "cell_type": "code",
   "execution_count": 66,
   "id": "8cb622f1-8265-472a-afae-ceed80d29933",
   "metadata": {},
   "outputs": [],
   "source": [
    "def remove_vowels(my_string):\n",
    "    my_vowel_free = []\n",
    "    for letter in my_string:\n",
    "        # check to see if each letter is a vowel:\n",
    "        # print(letter)\n",
    "        if is_vowel(letter):\n",
    "            # print('we are here')\n",
    "            # go to the next iteration\n",
    "            continue\n",
    "        else:\n",
    "            my_vowel_free.append(letter)\n",
    "    return ''.join(my_vowel_free)"
   ]
  },
  {
   "cell_type": "code",
   "execution_count": 88,
   "id": "a185ba9f-7a7f-4f86-9f6a-9292b2c1da1c",
   "metadata": {},
   "outputs": [
    {
     "data": {
      "text/plain": [
       "'my wrds bt wth vwls'"
      ]
     },
     "execution_count": 88,
     "metadata": {},
     "output_type": "execute_result"
    }
   ],
   "source": [
    "# list comprehension:\n",
    "# just like a for loop, but the syntax is a liiiitle different\n",
    "# and it establishes/defines a brand new list within the structure\n",
    "# of the iteration of said loop structure\n",
    "\n",
    "# thats a lot of words can you just do it pls\n",
    "my_string = 'my words but with vowels'\n",
    "# create a list: defined by the outer brackets\n",
    "# when we state this, we say\n",
    "# each element in this iterable is going to be an element in my\n",
    "# new list, under the specific condition that the element\n",
    "# meets the logic test of not being in aeiou\n",
    "''.join([letter for letter in my_string if letter not in 'aeiouAEIOU'])"
   ]
  },
  {
   "cell_type": "code",
   "execution_count": 67,
   "id": "b59dea99-440e-42db-ac21-6cb9c0ec67cd",
   "metadata": {},
   "outputs": [
    {
     "ename": "NameError",
     "evalue": "name 'my_vowel_free' is not defined",
     "output_type": "error",
     "traceback": [
      "\u001b[0;31m---------------------------------------------------------------------------\u001b[0m",
      "\u001b[0;31mNameError\u001b[0m                                 Traceback (most recent call last)",
      "Cell \u001b[0;32mIn[67], line 2\u001b[0m\n\u001b[1;32m      1\u001b[0m \u001b[38;5;66;03m# casting a list as a string may not be as useful as you want:\u001b[39;00m\n\u001b[0;32m----> 2\u001b[0m \u001b[38;5;28mstr\u001b[39m(my_vowel_free)\n",
      "\u001b[0;31mNameError\u001b[0m: name 'my_vowel_free' is not defined"
     ]
    }
   ],
   "source": [
    "# casting a list as a string may not be as useful as you want:\n",
    "str(my_vowel_free)"
   ]
  },
  {
   "cell_type": "code",
   "execution_count": null,
   "id": "68634184-64c5-4af0-ab3b-dc2f4da538c3",
   "metadata": {},
   "outputs": [],
   "source": [
    "# we can use join as a string method to glue together everything\n",
    "# in a list with whatever is before join\n",
    "'ham'.join(my_vowel_free)"
   ]
  },
  {
   "cell_type": "code",
   "execution_count": 69,
   "id": "b18ba4a8-de80-4269-9bd6-72272c91fe29",
   "metadata": {},
   "outputs": [],
   "source": [
    "assert remove_vowels(\"banana\") == \"bnn\"\n",
    "assert remove_vowels(\"coffee\") == \"cff\""
   ]
  },
  {
   "cell_type": "code",
   "execution_count": 70,
   "id": "c8be4431",
   "metadata": {
    "tags": []
   },
   "outputs": [],
   "source": [
    "# Exercise 10\n",
    "# Define a function named normalize_name. \n",
    "# It should accept a string and return a valid python identifier\n",
    "# steps I want to take\n",
    "# make lowercase,\n",
    "# string method: .lower()\n",
    "# remove whitespace, \n",
    "# string method: .strip()\n",
    "# establish valid identifier\n",
    "# in 'abcdefghijklmnopqrstuvwxyz1234567890'\n",
    "\n",
    "first_var = '  noN n0rmal-zed'"
   ]
  },
  {
   "cell_type": "code",
   "execution_count": 71,
   "id": "d49df84e-74c0-4fa4-9b7c-b6cc46877c2b",
   "metadata": {},
   "outputs": [
    {
     "data": {
      "text/plain": [
       "'  non n0rmal-zed'"
      ]
     },
     "execution_count": 71,
     "metadata": {},
     "output_type": "execute_result"
    }
   ],
   "source": [
    "first_var.lower()"
   ]
  },
  {
   "cell_type": "code",
   "execution_count": 72,
   "id": "081d769c-868b-49a3-8380-b8f3805cd9ef",
   "metadata": {},
   "outputs": [
    {
     "data": {
      "text/plain": [
       "'noN n0rmal-zed'"
      ]
     },
     "execution_count": 72,
     "metadata": {},
     "output_type": "execute_result"
    }
   ],
   "source": [
    "first_var.strip()"
   ]
  },
  {
   "cell_type": "code",
   "execution_count": 73,
   "id": "25d11a50-71c4-4384-8c39-a5e8d42f3225",
   "metadata": {},
   "outputs": [
    {
     "data": {
      "text/plain": [
       "'non n0rmal-zed'"
      ]
     },
     "execution_count": 73,
     "metadata": {},
     "output_type": "execute_result"
    }
   ],
   "source": [
    "# method chaining:\n",
    "first_var.lower().strip()"
   ]
  },
  {
   "cell_type": "code",
   "execution_count": 74,
   "id": "97c9abaf-18b6-458c-81b8-691036f23338",
   "metadata": {},
   "outputs": [],
   "source": [
    "newvar = ''\n",
    "for c in first_var.lower().strip():\n",
    "    if c.isalpha() or c.isdigit():\n",
    "        newvar += c\n",
    "    elif c == ' ':\n",
    "        newvar += '_'\n",
    "    else:\n",
    "        continue"
   ]
  },
  {
   "cell_type": "code",
   "execution_count": 75,
   "id": "c54eb8e2-d355-47af-855d-0d1993a5f9bc",
   "metadata": {},
   "outputs": [
    {
     "data": {
      "text/plain": [
       "'non_n0rmalzed'"
      ]
     },
     "execution_count": 75,
     "metadata": {},
     "output_type": "execute_result"
    }
   ],
   "source": [
    "newvar"
   ]
  },
  {
   "cell_type": "code",
   "execution_count": 76,
   "id": "9eb3b7f1-7d12-4350-9e15-2d7605cdc1cc",
   "metadata": {},
   "outputs": [
    {
     "data": {
      "text/plain": [
       "'non_n0rmal-zed'"
      ]
     },
     "execution_count": 76,
     "metadata": {},
     "output_type": "execute_result"
    }
   ],
   "source": [
    "first_var.lower().strip().replace(' ','_')"
   ]
  },
  {
   "cell_type": "code",
   "execution_count": 77,
   "id": "a77c6231-f898-4d52-b4a0-19e4c1558b6f",
   "metadata": {},
   "outputs": [
    {
     "data": {
      "text/plain": [
       "'  noN n0rmal-zed'"
      ]
     },
     "execution_count": 77,
     "metadata": {},
     "output_type": "execute_result"
    }
   ],
   "source": [
    "first_var"
   ]
  },
  {
   "cell_type": "code",
   "execution_count": 89,
   "id": "d46fe3ed-62d2-47f8-a98f-5986fc1ad75c",
   "metadata": {},
   "outputs": [],
   "source": [
    "newvar = ''\n",
    "for c in first_var.lower().strip().replace(' ', '_'):\n",
    "    if c.isalpha() or c.isdigit() or c == '_':\n",
    "        newvar += c\n",
    "    else:\n",
    "        continue"
   ]
  },
  {
   "cell_type": "code",
   "execution_count": 90,
   "id": "0a1ccdbf-9453-4aa6-8f2a-ccbbc9a51833",
   "metadata": {},
   "outputs": [
    {
     "data": {
      "text/plain": [
       "'non_n0rmalzed'"
      ]
     },
     "execution_count": 90,
     "metadata": {},
     "output_type": "execute_result"
    }
   ],
   "source": [
    "newvar"
   ]
  },
  {
   "cell_type": "code",
   "execution_count": 117,
   "id": "3e8d8ba6-2fb6-41af-9775-ee80c7e6459e",
   "metadata": {},
   "outputs": [],
   "source": [
    "# define our function:\n",
    "def normalize_name(some_bad_identifier):\n",
    "    '''\n",
    "    normalize_name will take in a single string argument,\n",
    "    some_bad_identifier,\n",
    "    which will then be normalized via the following steps:\n",
    "    - lowercase\n",
    "    - stripped of extra whitespace\n",
    "    - consist of only letters, numbers, or underscores*\n",
    "    - *where there was a joining white space\n",
    "    return: new_string, a normalized string literal\n",
    "    '''\n",
    "    # step 1: take the identifier and lower and strip it:\n",
    "    # for c in some_bad_identifier.lower():\n",
    "    #     # check if each character is alphanumeric:\n",
    "    #     if c.isalpha() or c.isdigit():\n",
    "    #         #if so, add it to the new string\n",
    "    #         # += ==> concatenate it to the old version\n",
    "    #         new_var += c\n",
    "    #     elif c == ' ':\n",
    "    #         # if its a space, turn it into an underscore\n",
    "    #         new_var += '_'\n",
    "    #     else:\n",
    "    #         # otherwise skip\n",
    "    #         continue\n",
    "    # return new_var\n",
    "    # this didnt meet the robustness that we wanted with our asserts :(\n",
    "    my_new_string = ''\n",
    "    for i in some_bad_identifier:\n",
    "        if i.isalpha() or i.isdigit() or i == ' ':\n",
    "            my_new_string += i\n",
    "        else:\n",
    "            continue\n",
    "    return my_new_string.lower().strip().replace(' ','_')\n"
   ]
  },
  {
   "cell_type": "code",
   "execution_count": 118,
   "id": "cb5a89e0-277e-486d-bb6e-38f4f3b60d5f",
   "metadata": {},
   "outputs": [
    {
     "data": {
      "text/plain": [
       "'first_name'"
      ]
     },
     "execution_count": 118,
     "metadata": {},
     "output_type": "execute_result"
    }
   ],
   "source": [
    "normalize_name(\"First Name\")"
   ]
  },
  {
   "cell_type": "code",
   "execution_count": 119,
   "id": "d92e5a23-f10f-4804-a7d0-265606850132",
   "metadata": {},
   "outputs": [
    {
     "data": {
      "text/plain": [
       "'sum_of_squares'"
      ]
     },
     "execution_count": 119,
     "metadata": {},
     "output_type": "execute_result"
    }
   ],
   "source": [
    "normalize_name(\" sum of squares \")"
   ]
  },
  {
   "cell_type": "code",
   "execution_count": 120,
   "id": "9a94fc04-f9af-4a81-acfc-97b826400aac",
   "metadata": {},
   "outputs": [
    {
     "data": {
      "text/plain": [
       "True"
      ]
     },
     "execution_count": 120,
     "metadata": {},
     "output_type": "execute_result"
    }
   ],
   "source": [
    "'sum_of_squares' == 'sum_of_squares'"
   ]
  },
  {
   "cell_type": "code",
   "execution_count": 109,
   "id": "06c5b569-8d86-4697-996d-28f394cd03e7",
   "metadata": {},
   "outputs": [],
   "source": [
    "myvar = '% Completed'\n",
    "my_new_string = ''\n",
    "for i in myvar:\n",
    "    if i.isalpha() or i.isdigit() or i == ' ':\n",
    "        my_new_string += i\n",
    "    else:\n",
    "        continue"
   ]
  },
  {
   "cell_type": "code",
   "execution_count": 111,
   "id": "7912e69a-cd8b-4e00-8e79-5318fb571dc7",
   "metadata": {},
   "outputs": [
    {
     "data": {
      "text/plain": [
       "'completed'"
      ]
     },
     "execution_count": 111,
     "metadata": {},
     "output_type": "execute_result"
    }
   ],
   "source": [
    "my_new_string.strip().lower().replace(' ', '_')"
   ]
  },
  {
   "cell_type": "code",
   "execution_count": 122,
   "id": "9e71463c-9f7d-4293-a1fa-5dc4367ad710",
   "metadata": {},
   "outputs": [
    {
     "data": {
      "text/plain": [
       "\u001b[0;31mSignature:\u001b[0m \u001b[0mstr\u001b[0m\u001b[0;34m.\u001b[0m\u001b[0misidentifier\u001b[0m\u001b[0;34m(\u001b[0m\u001b[0mself\u001b[0m\u001b[0;34m,\u001b[0m \u001b[0;34m/\u001b[0m\u001b[0;34m)\u001b[0m\u001b[0;34m\u001b[0m\u001b[0;34m\u001b[0m\u001b[0m\n",
       "\u001b[0;31mDocstring:\u001b[0m\n",
       "Return True if the string is a valid Python identifier, False otherwise.\n",
       "\n",
       "Call keyword.iskeyword(s) to test whether string s is a reserved identifier,\n",
       "such as \"def\" or \"class\".\n",
       "\u001b[0;31mType:\u001b[0m      method_descriptor"
      ]
     },
     "metadata": {},
     "output_type": "display_data"
    }
   ],
   "source": [
    "str.isidentifier?"
   ]
  },
  {
   "cell_type": "code",
   "execution_count": null,
   "id": "794136f4-aef8-47a9-bb76-dd4e3137fcbb",
   "metadata": {},
   "outputs": [],
   "source": []
  },
  {
   "cell_type": "code",
   "execution_count": 121,
   "id": "seasonal-builder",
   "metadata": {
    "tags": []
   },
   "outputs": [],
   "source": [
    "assert normalize_name(\"First Name\") == \"first_name\"\n",
    "assert normalize_name(\"% Completed\") == \"completed\"\n",
    "assert normalize_name(\" sum of squares \") == \"sum_of_squares\""
   ]
  },
  {
   "cell_type": "code",
   "execution_count": 81,
   "id": "02951374",
   "metadata": {},
   "outputs": [
    {
     "data": {
      "text/plain": [
       "'non_n0rmalzed'"
      ]
     },
     "execution_count": 81,
     "metadata": {},
     "output_type": "execute_result"
    }
   ],
   "source": [
    "''.join([let for let in first_var.lower().strip() if let.isalpha() or let.isdigit() or let in '_ ']).replace(' ','_')"
   ]
  },
  {
   "cell_type": "code",
   "execution_count": 1,
   "id": "f7bf26a8-f414-42d6-bf2e-d3e6e5da8eb4",
   "metadata": {},
   "outputs": [],
   "source": [
    "# Exercise 11\n",
    "# Write a function named cumulative_sum that accepts a list of\n",
    "# numbers and returns a list \n",
    "# that is the cumulative sum of the numbers in the list.\n",
    "# cumulative_sum([1, 1, 1]) returns [1, 2, 3]\n",
    "# cumulative_sum([1, 2, 3, 4]) returns [1, 3, 6, 10]"
   ]
  },
  {
   "cell_type": "code",
   "execution_count": null,
   "id": "5b62d91e-2b91-4a16-a8c9-d00e688fc568",
   "metadata": {},
   "outputs": [],
   "source": [
    "# for each number in a list:\n",
    "# i want to take that first element, which will be the same thing\n",
    "# new_list first element == old_list first element\n",
    "# new_list second element == old_list first element + old_list second element\n",
    "# new_list third element == old_list first element + old_list second element + old_list third element"
   ]
  },
  {
   "cell_type": "code",
   "execution_count": 123,
   "id": "0445133b-f567-426d-a7d6-806b42abaca2",
   "metadata": {},
   "outputs": [],
   "source": [
    "# building a new list:\n",
    "# initialize the list\n",
    "mynewlist = []\n",
    "# create a loop structure:\n",
    "for i in range(10):\n",
    "    # set an action to add to the new list as we did with strings\n",
    "    mynewlist.append(i)"
   ]
  },
  {
   "cell_type": "code",
   "execution_count": 126,
   "id": "d3350326-6c06-4b46-b2e7-98e348d1af1e",
   "metadata": {},
   "outputs": [
    {
     "data": {
      "text/plain": [
       "[]"
      ]
     },
     "execution_count": 126,
     "metadata": {},
     "output_type": "execute_result"
    }
   ],
   "source": [
    "mynewlist"
   ]
  },
  {
   "cell_type": "code",
   "execution_count": 127,
   "id": "ab2379b4-1821-42b4-9af6-cd8824300a3c",
   "metadata": {},
   "outputs": [],
   "source": [
    "# slight tangent: functions with more returns\n",
    "def say_hello_and_add_two(a_number):\n",
    "    return (a_number + 2), 'hello'"
   ]
  },
  {
   "cell_type": "code",
   "execution_count": 128,
   "id": "d89d27a4-175a-4324-8014-8dcb97eacea5",
   "metadata": {},
   "outputs": [],
   "source": [
    "new_num, greeting = say_hello_and_add_two(45)"
   ]
  },
  {
   "cell_type": "code",
   "execution_count": 129,
   "id": "adaab023-fa83-4eaa-9b63-8ef8736a5047",
   "metadata": {},
   "outputs": [
    {
     "data": {
      "text/plain": [
       "47"
      ]
     },
     "execution_count": 129,
     "metadata": {},
     "output_type": "execute_result"
    }
   ],
   "source": [
    "new_num"
   ]
  },
  {
   "cell_type": "code",
   "execution_count": 130,
   "id": "b333e074-252e-413f-bcbe-9209cc8a8af7",
   "metadata": {},
   "outputs": [
    {
     "data": {
      "text/plain": [
       "'hello'"
      ]
     },
     "execution_count": 130,
     "metadata": {},
     "output_type": "execute_result"
    }
   ],
   "source": [
    "greeting"
   ]
  },
  {
   "cell_type": "code",
   "execution_count": 131,
   "id": "f292dd9f-f75f-4f98-82c1-8891f20d2a6d",
   "metadata": {},
   "outputs": [],
   "source": [
    "my_old_list = [1,2,3,4]"
   ]
  },
  {
   "cell_type": "code",
   "execution_count": 132,
   "id": "c0de700a-dac0-4e79-ba0c-ad0fa4289190",
   "metadata": {},
   "outputs": [],
   "source": [
    "# initialize a new list and a counter/sum:\n",
    "mynewlist, num_sum = [], 0\n",
    "for i in my_old_list:\n",
    "    num_sum += i\n",
    "    mynewlist.append(num_sum)"
   ]
  },
  {
   "cell_type": "code",
   "execution_count": 133,
   "id": "612a091e-c6ff-4d65-86ae-7a4edcacb492",
   "metadata": {},
   "outputs": [
    {
     "data": {
      "text/plain": [
       "[1, 3, 6, 10]"
      ]
     },
     "execution_count": 133,
     "metadata": {},
     "output_type": "execute_result"
    }
   ],
   "source": [
    "mynewlist"
   ]
  },
  {
   "cell_type": "code",
   "execution_count": 137,
   "id": "49a2025c-fe15-4847-bfaf-605be19e5d0e",
   "metadata": {},
   "outputs": [],
   "source": [
    "def cumulative_sum(some_list):\n",
    "    mynewlist, num_sum = [], 0\n",
    "    for i in some_list:\n",
    "        num_sum += i\n",
    "        mynewlist.append(num_sum)\n",
    "    return mynewlist"
   ]
  },
  {
   "cell_type": "code",
   "execution_count": 138,
   "id": "9fa11040-0730-4abd-af97-9361282b4e65",
   "metadata": {},
   "outputs": [],
   "source": [
    "    \n",
    "assert cumulative_sum([1, 2, 3, 4]) == [1, 3, 6, 10]"
   ]
  },
  {
   "cell_type": "code",
   "execution_count": 139,
   "id": "solar-wayne",
   "metadata": {},
   "outputs": [],
   "source": [
    "assert cumulative_sum([1, 1, 1, 1]) == [1, 2, 3, 4]"
   ]
  }
 ],
 "metadata": {
  "kernelspec": {
   "display_name": "Python 3 (ipykernel)",
   "language": "python",
   "name": "python3"
  },
  "language_info": {
   "codemirror_mode": {
    "name": "ipython",
    "version": 3
   },
   "file_extension": ".py",
   "mimetype": "text/x-python",
   "name": "python",
   "nbconvert_exporter": "python",
   "pygments_lexer": "ipython3",
   "version": "3.11.2"
  }
 },
 "nbformat": 4,
 "nbformat_minor": 5
}
