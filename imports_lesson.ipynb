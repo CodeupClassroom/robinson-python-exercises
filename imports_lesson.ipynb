{
 "cells": [
  {
   "cell_type": "markdown",
   "id": "f8f6a579",
   "metadata": {},
   "source": [
    "# Imports"
   ]
  },
  {
   "cell_type": "markdown",
   "id": "b1009232",
   "metadata": {},
   "source": [
    "### What is it?\n",
    "- Python code in one module gains access to the code in another module by the process of importing it"
   ]
  },
  {
   "cell_type": "markdown",
   "id": "33847a5f",
   "metadata": {},
   "source": [
    "### Why this is important? \n",
    "- Allows you to access a wide-range of useful functions! "
   ]
  },
  {
   "cell_type": "markdown",
   "id": "86f1a3c6",
   "metadata": {},
   "source": [
    "### Terminology\n",
    "\n",
    "**Module:** a file with a .py extension that contains functions and variables\n",
    "\n",
    "**Package:** a directory with modules in it\n",
    "\n",
    "**Library:** a collection of related modules and packages\n",
    "\n",
    "**Python Package Index:** also known as PyPI, a repository of community developed Python packages\n",
    "\n",
    "**Conda:** also known as Anaconda is a package manager"
   ]
  },
  {
   "cell_type": "markdown",
   "id": "98ca0f6a",
   "metadata": {},
   "source": [
    "### Where do we import from\n",
    "**Python Standard Library:** these come with python so we don't need to install them\n",
    "\n",
    "**3rd Party Packages:** think things we conda install or pip install\n",
    "\n",
    "**Our Own Code:** these are functions and modules we make!  "
   ]
  },
  {
   "cell_type": "markdown",
   "id": "2ae61a03",
   "metadata": {},
   "source": [
    "## Let's Import!"
   ]
  },
  {
   "cell_type": "markdown",
   "id": "d873b4c8",
   "metadata": {},
   "source": [
    "- format: import module_name\n",
    "\n",
    "- typically found at the top of notebooks and py files"
   ]
  },
  {
   "cell_type": "markdown",
   "id": "a7d02b44",
   "metadata": {},
   "source": [
    "## Python Standard Library \n",
    "https://docs.python.org/3/library/\n",
    "\n",
    "- come installed with python"
   ]
  },
  {
   "cell_type": "code",
   "execution_count": 1,
   "id": "b6d4aafc-6ba9-4c88-9214-a879f7b9fb3c",
   "metadata": {},
   "outputs": [],
   "source": [
    "# standard library vs built-in functions:"
   ]
  },
  {
   "cell_type": "code",
   "execution_count": 2,
   "id": "928aa948-2e82-4459-9326-6d2fefaaeb86",
   "metadata": {},
   "outputs": [
    {
     "data": {
      "text/plain": [
       "4"
      ]
     },
     "execution_count": 2,
     "metadata": {},
     "output_type": "execute_result"
    }
   ],
   "source": [
    "# built in function:\n",
    "len([2,3,4,5])"
   ]
  },
  {
   "cell_type": "markdown",
   "id": "ed9d77d6",
   "metadata": {
    "tags": []
   },
   "source": [
    "#### import math module"
   ]
  },
  {
   "cell_type": "code",
   "execution_count": 3,
   "id": "376777d7-c66c-4192-9bd9-d7c908ad753d",
   "metadata": {},
   "outputs": [],
   "source": [
    "# importing something from the standard library:\n",
    "# i dont have to download anything extra, it comes with python\n",
    "# but i still need to import it to use it"
   ]
  },
  {
   "cell_type": "code",
   "execution_count": 4,
   "id": "0a98984e-8198-403d-84ed-876bd229eae4",
   "metadata": {},
   "outputs": [],
   "source": [
    "import math"
   ]
  },
  {
   "cell_type": "markdown",
   "id": "6043d1f2",
   "metadata": {},
   "source": [
    "https://docs.python.org/3/library/math.html"
   ]
  },
  {
   "cell_type": "code",
   "execution_count": 5,
   "id": "b705456b-981a-4f6d-93c9-fe2a8d288f68",
   "metadata": {},
   "outputs": [
    {
     "data": {
      "text/plain": [
       "9"
      ]
     },
     "execution_count": 5,
     "metadata": {},
     "output_type": "execute_result"
    }
   ],
   "source": [
    "4 + 5"
   ]
  },
  {
   "cell_type": "code",
   "execution_count": 6,
   "id": "81d7510d-8184-4a64-aef4-653475e5e829",
   "metadata": {},
   "outputs": [
    {
     "data": {
      "text/plain": [
       "3.141592653589793"
      ]
     },
     "execution_count": 6,
     "metadata": {},
     "output_type": "execute_result"
    }
   ],
   "source": [
    "math.pi"
   ]
  },
  {
   "cell_type": "code",
   "execution_count": 9,
   "id": "9002e233-8011-4770-830a-de4a1b57725b",
   "metadata": {},
   "outputs": [
    {
     "ename": "NameError",
     "evalue": "name 'pi' is not defined",
     "output_type": "error",
     "traceback": [
      "\u001b[0;31m---------------------------------------------------------------------------\u001b[0m",
      "\u001b[0;31mNameError\u001b[0m                                 Traceback (most recent call last)",
      "Cell \u001b[0;32mIn[9], line 2\u001b[0m\n\u001b[1;32m      1\u001b[0m \u001b[38;5;66;03m# pi by itself does not exist as a var: pi\u001b[39;00m\n\u001b[0;32m----> 2\u001b[0m pi\n",
      "\u001b[0;31mNameError\u001b[0m: name 'pi' is not defined"
     ]
    }
   ],
   "source": [
    "# pi by itself does not exist as a var: pi\n",
    "pi"
   ]
  },
  {
   "cell_type": "code",
   "execution_count": 10,
   "id": "3f67705f-d182-4658-892a-f40bbf38cf75",
   "metadata": {},
   "outputs": [
    {
     "data": {
      "text/plain": [
       "3.0"
      ]
     },
     "execution_count": 10,
     "metadata": {},
     "output_type": "execute_result"
    }
   ],
   "source": [
    "math.sqrt(9)"
   ]
  },
  {
   "cell_type": "code",
   "execution_count": 11,
   "id": "6faa3d9a-1fae-4b2c-9008-fe4cd55b8bbe",
   "metadata": {},
   "outputs": [
    {
     "ename": "NameError",
     "evalue": "name 'sqrt' is not defined",
     "output_type": "error",
     "traceback": [
      "\u001b[0;31m---------------------------------------------------------------------------\u001b[0m",
      "\u001b[0;31mNameError\u001b[0m                                 Traceback (most recent call last)",
      "Cell \u001b[0;32mIn[11], line 1\u001b[0m\n\u001b[0;32m----> 1\u001b[0m sqrt(\u001b[38;5;241m9\u001b[39m)\n",
      "\u001b[0;31mNameError\u001b[0m: name 'sqrt' is not defined"
     ]
    }
   ],
   "source": [
    "sqrt(9)"
   ]
  },
  {
   "cell_type": "code",
   "execution_count": 12,
   "id": "ffd89177-e608-4f19-b5c4-adeec0d09b5b",
   "metadata": {},
   "outputs": [
    {
     "ename": "NameError",
     "evalue": "name 'itertools' is not defined",
     "output_type": "error",
     "traceback": [
      "\u001b[0;31m---------------------------------------------------------------------------\u001b[0m",
      "\u001b[0;31mNameError\u001b[0m                                 Traceback (most recent call last)",
      "Cell \u001b[0;32mIn[12], line 1\u001b[0m\n\u001b[0;32m----> 1\u001b[0m itertools\u001b[38;5;241m.\u001b[39mcombination()\n",
      "\u001b[0;31mNameError\u001b[0m: name 'itertools' is not defined"
     ]
    }
   ],
   "source": [
    "itertools.combination()"
   ]
  },
  {
   "cell_type": "markdown",
   "id": "22064dcc",
   "metadata": {
    "tags": []
   },
   "source": [
    "#### how do i call a function without writing the module name?"
   ]
  },
  {
   "cell_type": "code",
   "execution_count": 14,
   "id": "5d44e59d-7794-4276-9436-dbed3f2f70d0",
   "metadata": {},
   "outputs": [],
   "source": [
    "# we can import a library with a different name\n",
    "# we do this by saying import ____ as nickname\n",
    "import math as mith"
   ]
  },
  {
   "cell_type": "code",
   "execution_count": 15,
   "id": "84412ce5-b92d-456d-94fc-e9d6cffbe273",
   "metadata": {},
   "outputs": [
    {
     "data": {
      "text/plain": [
       "3.0"
      ]
     },
     "execution_count": 15,
     "metadata": {},
     "output_type": "execute_result"
    }
   ],
   "source": [
    "mith.sqrt(9)"
   ]
  },
  {
   "cell_type": "code",
   "execution_count": 17,
   "id": "3b78afa3-87be-4c4f-80aa-38e43cf48be2",
   "metadata": {},
   "outputs": [],
   "source": [
    "# we can also take individual functions from a module:\n",
    "# from module, import function (or element)\n",
    "from math import pi"
   ]
  },
  {
   "cell_type": "code",
   "execution_count": null,
   "id": "49dcb9a2-b01a-46e7-b29a-5721409a1349",
   "metadata": {},
   "outputs": [],
   "source": [
    "# note that when we assign variables, unless we output the \n",
    "# returns, we wont see the values behind them.  \n",
    "# we can use this logic to obfuscate our \n",
    "# credentials.\n",
    "# look forward to this in the future:\n",
    "# from environment_file import user, host, password"
   ]
  },
  {
   "cell_type": "markdown",
   "id": "ca613890",
   "metadata": {},
   "source": [
    "## 3rd Party Library\n",
    "\n",
    "- potentially need to install"
   ]
  },
  {
   "cell_type": "markdown",
   "id": "79c3fd74",
   "metadata": {},
   "source": [
    "### Install"
   ]
  },
  {
   "cell_type": "markdown",
   "id": "1764371d",
   "metadata": {},
   "source": [
    "<div class=\"alert alert-block alert-success\">\n",
    "    <b>Do:</b> this on the command line\n",
    "</div>\n",
    "\n",
    "`conda install somepackage`\n",
    "\n",
    "`pip install somepackage`"
   ]
  },
  {
   "cell_type": "markdown",
   "id": "b3c5a381",
   "metadata": {},
   "source": [
    "#### import and use numpy"
   ]
  },
  {
   "cell_type": "code",
   "execution_count": 18,
   "id": "775c4597-7978-42bc-8282-3e5b68c310bb",
   "metadata": {},
   "outputs": [],
   "source": [
    "# popular alias for numpy:\n",
    "import numpy as np"
   ]
  },
  {
   "cell_type": "markdown",
   "id": "8ca6e6ad",
   "metadata": {},
   "source": [
    "#### import and use pandas"
   ]
  },
  {
   "cell_type": "code",
   "execution_count": 19,
   "id": "541603ed-db7c-434b-8720-40b22e92059c",
   "metadata": {},
   "outputs": [],
   "source": [
    "import pandas as pd"
   ]
  },
  {
   "cell_type": "code",
   "execution_count": 22,
   "id": "906db7d1-3448-4d92-8a43-80bb946ae23e",
   "metadata": {},
   "outputs": [],
   "source": [
    "my_df = pd.DataFrame({'col1': [1,2,3], 'col2': ['ham', 'san','dwich']})"
   ]
  },
  {
   "cell_type": "code",
   "execution_count": 23,
   "id": "09dee646-df5a-4dfd-851f-0d0e07668171",
   "metadata": {},
   "outputs": [
    {
     "data": {
      "text/plain": [
       "pandas.core.frame.DataFrame"
      ]
     },
     "execution_count": 23,
     "metadata": {},
     "output_type": "execute_result"
    }
   ],
   "source": [
    "type(my_df)"
   ]
  },
  {
   "cell_type": "code",
   "execution_count": 24,
   "id": "e7e27917-0599-4dc5-96d3-783792a126f2",
   "metadata": {},
   "outputs": [],
   "source": [
    "# getting documentation from a library you imported\n",
    "# is very similar to how we looked at string method\n",
    "# documentation before ==> point to where the thing lives\n",
    "# pd.DataFrame?"
   ]
  },
  {
   "cell_type": "markdown",
   "id": "bbeb3d9f",
   "metadata": {},
   "source": [
    "## Your Own Code! "
   ]
  },
  {
   "cell_type": "markdown",
   "id": "c7ee59f6",
   "metadata": {},
   "source": [
    "#### Why?\n",
    "- You'll do this all the time\n",
    "\n",
    "- Avoid showing all of your code when you want to show visuals + charts\n",
    "\n",
    "- To utilize a function that you will use over and over"
   ]
  },
  {
   "cell_type": "markdown",
   "id": "5251a02e",
   "metadata": {},
   "source": [
    "#### How?\n",
    "1: Write a .py script with your variables and/or functions \n",
    "\n",
    "2: Save it in the **same folder** as working file\n",
    "\n",
    "3: In your working file, import module_name (no .py)"
   ]
  },
  {
   "cell_type": "code",
   "execution_count": 1,
   "id": "a693fbb3-af22-40ff-9dfd-8577046fbc61",
   "metadata": {},
   "outputs": [
    {
     "name": "stdout",
     "output_type": "stream",
     "text": [
      "hi robinson!\n"
     ]
    }
   ],
   "source": [
    "import functions_for_importing as f2"
   ]
  },
  {
   "cell_type": "code",
   "execution_count": 26,
   "id": "522b3c5d-9381-4829-b26e-8d196e243ceb",
   "metadata": {},
   "outputs": [
    {
     "data": {
      "text/plain": [
       "56"
      ]
     },
     "execution_count": 26,
     "metadata": {},
     "output_type": "execute_result"
    }
   ],
   "source": [
    "f2.add_two(54)"
   ]
  },
  {
   "cell_type": "code",
   "execution_count": 2,
   "id": "ed7c6b2f-4da1-41af-b303-ac8a032f87fa",
   "metadata": {},
   "outputs": [
    {
     "data": {
      "text/plain": [
       "True"
      ]
     },
     "execution_count": 2,
     "metadata": {},
     "output_type": "execute_result"
    }
   ],
   "source": [
    "f2.is_vowel('a')"
   ]
  },
  {
   "cell_type": "markdown",
   "id": "9acd0138",
   "metadata": {},
   "source": [
    "#### import my py file that i made"
   ]
  },
  {
   "cell_type": "markdown",
   "id": "496fbcb6",
   "metadata": {
    "tags": []
   },
   "source": [
    "#### call the functions that i made using the alias"
   ]
  },
  {
   "cell_type": "markdown",
   "id": "0eba28df",
   "metadata": {},
   "source": [
    "#### need to restart kernal to import saves to py file"
   ]
  },
  {
   "cell_type": "markdown",
   "id": "e5064c1f",
   "metadata": {},
   "source": [
    "#### can access all my created functions"
   ]
  }
 ],
 "metadata": {
  "kernelspec": {
   "display_name": "Python 3 (ipykernel)",
   "language": "python",
   "name": "python3"
  },
  "language_info": {
   "codemirror_mode": {
    "name": "ipython",
    "version": 3
   },
   "file_extension": ".py",
   "mimetype": "text/x-python",
   "name": "python",
   "nbconvert_exporter": "python",
   "pygments_lexer": "ipython3",
   "version": "3.11.2"
  }
 },
 "nbformat": 4,
 "nbformat_minor": 5
}
