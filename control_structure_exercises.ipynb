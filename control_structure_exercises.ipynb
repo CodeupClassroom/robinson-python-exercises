{
 "cells": [
  {
   "cell_type": "markdown",
   "id": "a1d9cc82",
   "metadata": {},
   "source": [
    "# Control Structure Exercises"
   ]
  },
  {
   "cell_type": "markdown",
   "id": "f740c89c",
   "metadata": {},
   "source": [
    "<hr style=\"border:2px solid gray\">"
   ]
  },
  {
   "cell_type": "markdown",
   "id": "f68b04eb",
   "metadata": {},
   "source": [
    "## Section 1: Conditional Basics"
   ]
  },
  {
   "cell_type": "markdown",
   "id": "d66713bf",
   "metadata": {},
   "source": [
    "<b>a. Prompt the user for a day of the week, print out whether the day is Monday or not<b>"
   ]
  },
  {
   "cell_type": "code",
   "execution_count": 1,
   "id": "d01c157a",
   "metadata": {},
   "outputs": [
    {
     "name": "stdout",
     "output_type": "stream",
     "text": [
      "give me the day of the week: Monday\n"
     ]
    }
   ],
   "source": [
    "#break it down- basic input\n",
    "day = input('give me the day of the week: ')"
   ]
  },
  {
   "cell_type": "markdown",
   "id": "61dd9dd2",
   "metadata": {},
   "source": [
    "<div class=\"alert alert-block alert-info\">\n",
    "<b>NOTE:</b> If the user write their response in lowercase letters, we may not get the response we are wanting. So, we have to somehow make the response uniform. To do this, we can use <i>.upper()</i> or <i>.lower()</i>.</div>"
   ]
  },
  {
   "cell_type": "code",
   "execution_count": 2,
   "id": "b89f795d",
   "metadata": {},
   "outputs": [
    {
     "data": {
      "text/plain": [
       "'MONDAY'"
      ]
     },
     "execution_count": 2,
     "metadata": {},
     "output_type": "execute_result"
    }
   ],
   "source": [
    "#turn the day to upper\n",
    "day.upper()"
   ]
  },
  {
   "cell_type": "code",
   "execution_count": 3,
   "id": "cb305f8a",
   "metadata": {},
   "outputs": [
    {
     "name": "stdout",
     "output_type": "stream",
     "text": [
      "give me the day of the week: Monday\n",
      "This is monday!\n"
     ]
    }
   ],
   "source": [
    "#put it all together\n",
    "day = input('give me the day of the week: ')\n",
    "#day = day.upper()\n",
    "\n",
    "#then put it in an if, else\n",
    "if day.upper() == 'MONDAY':\n",
    "    print('This is monday!')\n",
    "else:\n",
    "    print('This is NOT monday')"
   ]
  },
  {
   "cell_type": "markdown",
   "id": "60821dc9",
   "metadata": {},
   "source": [
    "<hr style=\"border:0.5px solid gray\">"
   ]
  },
  {
   "cell_type": "markdown",
   "id": "f187d9a8",
   "metadata": {},
   "source": [
    "<b> b. Prompt the user for a day of the week, print out whether the day is a weekday or a weekend"
   ]
  },
  {
   "cell_type": "code",
   "execution_count": 4,
   "id": "4fd92269",
   "metadata": {},
   "outputs": [
    {
     "name": "stdout",
     "output_type": "stream",
     "text": [
      "give me the day of the week: Saturday\n",
      "this is the weekend\n"
     ]
    }
   ],
   "source": [
    "#option 1 using a list and an IN\n",
    "weekend = ['saturday', 'sunday']\n",
    "day = input('give me the day of the week: ')\n",
    "\n",
    "if day.lower() in weekend:\n",
    "    print('this is the weekend')\n",
    "else:\n",
    "    print('this is NOT the weekend')"
   ]
  },
  {
   "cell_type": "code",
   "execution_count": 5,
   "id": "baa64544",
   "metadata": {},
   "outputs": [
    {
     "name": "stdout",
     "output_type": "stream",
     "text": [
      "give me the day of the week: Saturday\n",
      "this is the weekend day\n"
     ]
    }
   ],
   "source": [
    "#option 2\n",
    "day = input('give me the day of the week: ')\n",
    "\n",
    "if day.lower() == 'saturday':\n",
    "    print('this is the weekend day')\n",
    "elif day.lower() == 'sunday':\n",
    "    print('this is the weekend day')\n",
    "else:\n",
    "    print('this is NOT the weekend day')"
   ]
  },
  {
   "cell_type": "markdown",
   "id": "5bfe5b5c",
   "metadata": {},
   "source": [
    "<hr style=\"border:0.5px solid gray\">"
   ]
  },
  {
   "cell_type": "markdown",
   "id": "2b0f1d7b",
   "metadata": {},
   "source": [
    "<b> c. Calculate a weekly paycheck, accounting for overtime pay. Create variables and make up values for:</b>\n",
    "\n",
    "- The number of hours worked in one week\n",
    "- The hourly rate\n",
    "\n",
    "For calculating pay:\n",
    "- For working 40 hours or less, each hour is paid at the hourly rate\n",
    "- For working more than 40 hours\n",
    "    - the first 40 hours are paid at the hourly rate\n",
    "    - each hour after 40 is paid at time and a half (hourly rate * 1.5)"
   ]
  },
  {
   "cell_type": "code",
   "execution_count": 6,
   "id": "c6d34888",
   "metadata": {},
   "outputs": [
    {
     "data": {
      "text/plain": [
       "415.0"
      ]
     },
     "execution_count": 6,
     "metadata": {},
     "output_type": "execute_result"
    }
   ],
   "source": [
    "#hard code hours and salary\n",
    "hours_weekly = 41\n",
    "hourly_rate = 10\n",
    "\n",
    "if hours_weekly <= 40:\n",
    "    paycheck = hours_weekly * hourly_rate\n",
    "else:\n",
    "    ot_hours = hours_weekly - 40\n",
    "    paycheck = (hourly_rate*40) + (ot_hours*hourly_rate*1.5)\n",
    "\n",
    "paycheck"
   ]
  },
  {
   "cell_type": "code",
   "execution_count": 7,
   "id": "d7158dae",
   "metadata": {},
   "outputs": [
    {
     "name": "stdout",
     "output_type": "stream",
     "text": [
      "how many hours did you work: 45\n",
      "what is your hourly pay: 30\n",
      "Your weekly paycheck is 1425.00\n"
     ]
    }
   ],
   "source": [
    "#inputs for hours and salary\n",
    "hours_worked = input('how many hours did you work: ')\n",
    "h= float(hours_worked)\n",
    "hourly_pay = input('what is your hourly pay: ')\n",
    "p= float(hourly_pay)\n",
    "\n",
    "\n",
    "if h <= 40:\n",
    "    pay = h*p\n",
    "else:\n",
    "    h > 40\n",
    "    pay = ((h-40)*p*1.5)+p*40   \n",
    "\n",
    "print (\"Your weekly paycheck is %.2f\" %pay)"
   ]
  },
  {
   "cell_type": "markdown",
   "id": "79e68f25",
   "metadata": {},
   "source": [
    "<hr style=\"border:2px solid black\">"
   ]
  },
  {
   "cell_type": "markdown",
   "id": "412e8c22",
   "metadata": {},
   "source": [
    "## Section 2: Loop Basics"
   ]
  },
  {
   "cell_type": "markdown",
   "id": "3c148f97",
   "metadata": {},
   "source": [
    "### a. ```While``` Loop"
   ]
  },
  {
   "cell_type": "markdown",
   "id": "f4e1e6e5",
   "metadata": {},
   "source": [
    "<b> i. Create an integer variable i with a value of 5. Create a while loop that runs so long as i is less than or equal to 15. Each loop iteration, output the current value of i, then increment i by one."
   ]
  },
  {
   "cell_type": "code",
   "execution_count": 8,
   "id": "931fb33b",
   "metadata": {},
   "outputs": [
    {
     "name": "stdout",
     "output_type": "stream",
     "text": [
      "5\n",
      "6\n",
      "7\n",
      "8\n",
      "9\n",
      "10\n",
      "11\n",
      "12\n",
      "13\n",
      "14\n",
      "15\n"
     ]
    }
   ],
   "source": [
    "i = 5 \n",
    "\n",
    "while i <= 15:\n",
    "    print(i)\n",
    "    i += 1"
   ]
  },
  {
   "cell_type": "markdown",
   "id": "ce94c911",
   "metadata": {},
   "source": [
    "<hr style=\"border:0.5px solid gray\">"
   ]
  },
  {
   "cell_type": "markdown",
   "id": "5f7f36cc",
   "metadata": {},
   "source": [
    "<b> ii. Create a while loop that will count by 2's starting with 0 and ending at 100. Follow each number with a new line."
   ]
  },
  {
   "cell_type": "code",
   "execution_count": 9,
   "id": "1d99fcdc",
   "metadata": {},
   "outputs": [
    {
     "name": "stdout",
     "output_type": "stream",
     "text": [
      "0\n",
      "2\n",
      "4\n",
      "6\n",
      "8\n",
      "10\n",
      "12\n",
      "14\n",
      "16\n",
      "18\n",
      "20\n",
      "22\n",
      "24\n",
      "26\n",
      "28\n",
      "30\n",
      "32\n",
      "34\n",
      "36\n",
      "38\n",
      "40\n",
      "42\n",
      "44\n",
      "46\n",
      "48\n",
      "50\n",
      "52\n",
      "54\n",
      "56\n",
      "58\n",
      "60\n",
      "62\n",
      "64\n",
      "66\n",
      "68\n",
      "70\n",
      "72\n",
      "74\n",
      "76\n",
      "78\n",
      "80\n",
      "82\n",
      "84\n",
      "86\n",
      "88\n",
      "90\n",
      "92\n",
      "94\n",
      "96\n",
      "98\n",
      "100\n"
     ]
    }
   ],
   "source": [
    "i = 0\n",
    "\n",
    "while i <=100:\n",
    "    print(i)\n",
    "    i += 2"
   ]
  },
  {
   "cell_type": "markdown",
   "id": "f1a9c25a",
   "metadata": {},
   "source": [
    "<hr style=\"border:0.5px solid gray\">"
   ]
  },
  {
   "cell_type": "markdown",
   "id": "81758c81",
   "metadata": {},
   "source": [
    "<b> iii. Create a while loop that starts at 2, and displays the number squared on each line while the number is less than 1,000,000."
   ]
  },
  {
   "cell_type": "code",
   "execution_count": 10,
   "id": "b0e4004f",
   "metadata": {},
   "outputs": [
    {
     "name": "stdout",
     "output_type": "stream",
     "text": [
      "2\n",
      "4\n",
      "16\n",
      "256\n",
      "65536\n"
     ]
    }
   ],
   "source": [
    "i = 2\n",
    "\n",
    "while i <= 1_000_000:\n",
    "    print(i)\n",
    "    i **= 2"
   ]
  },
  {
   "cell_type": "markdown",
   "id": "e09b4a7d",
   "metadata": {},
   "source": [
    "<hr style=\"border:0.5px solid gray\">"
   ]
  },
  {
   "cell_type": "markdown",
   "id": "73ae4bf1",
   "metadata": {},
   "source": [
    "<b> iv. Write a while loop that uses print to create the output shown below."
   ]
  },
  {
   "cell_type": "code",
   "execution_count": 11,
   "id": "6a97ad77",
   "metadata": {},
   "outputs": [],
   "source": [
    "# 100\n",
    "# 95\n",
    "# 90\n",
    "# 85\n",
    "# 80\n",
    "# 75\n",
    "# 70\n",
    "# 65\n",
    "# 60\n",
    "# 55\n",
    "# 50\n",
    "# 45\n",
    "# 40\n",
    "# 35\n",
    "# 30\n",
    "# 25\n",
    "# 20\n",
    "# 15\n",
    "# 10\n",
    "# 5"
   ]
  },
  {
   "cell_type": "code",
   "execution_count": 12,
   "id": "f28c07f7",
   "metadata": {},
   "outputs": [
    {
     "name": "stdout",
     "output_type": "stream",
     "text": [
      "100\n",
      "95\n",
      "90\n",
      "85\n",
      "80\n",
      "75\n",
      "70\n",
      "65\n",
      "60\n",
      "55\n",
      "50\n",
      "45\n",
      "40\n",
      "35\n",
      "30\n",
      "25\n",
      "20\n",
      "15\n",
      "10\n",
      "5\n"
     ]
    }
   ],
   "source": [
    "i = 100\n",
    "\n",
    "while i >= 5:\n",
    "    print(i)\n",
    "    i -= 5"
   ]
  },
  {
   "cell_type": "code",
   "execution_count": 13,
   "id": "43dc4079",
   "metadata": {},
   "outputs": [
    {
     "name": "stdout",
     "output_type": "stream",
     "text": [
      "100\n",
      "95\n",
      "90\n",
      "85\n",
      "80\n",
      "75\n",
      "70\n",
      "65\n",
      "60\n",
      "55\n",
      "50\n",
      "45\n",
      "40\n",
      "35\n",
      "30\n",
      "25\n",
      "20\n",
      "15\n",
      "10\n",
      "5\n"
     ]
    }
   ],
   "source": [
    "#another way to do this:\n",
    "i = 105\n",
    "\n",
    "while i > 5:\n",
    "    i -= 5\n",
    "    print(i)"
   ]
  },
  {
   "cell_type": "markdown",
   "id": "021ff77c",
   "metadata": {},
   "source": [
    "<hr style=\"border: 1px solid black\">"
   ]
  },
  {
   "cell_type": "markdown",
   "id": "c67831f1",
   "metadata": {},
   "source": [
    "## Section 2: Basic Loops"
   ]
  },
  {
   "cell_type": "markdown",
   "id": "6bc2c41a",
   "metadata": {},
   "source": [
    "### b. ```For``` Loops"
   ]
  },
  {
   "cell_type": "markdown",
   "id": "2de45e5b",
   "metadata": {},
   "source": [
    "<b> i. Write some code using a for loop that prompts the user for a number, then shows a multiplication table up through 10 for that number."
   ]
  },
  {
   "cell_type": "code",
   "execution_count": 14,
   "id": "1c3f1247",
   "metadata": {
    "scrolled": true
   },
   "outputs": [
    {
     "name": "stdout",
     "output_type": "stream",
     "text": [
      "enter a number: 8\n",
      "<class 'int'>\n",
      "1 x 8 = 8\n",
      "2 x 8 = 16\n",
      "3 x 8 = 24\n",
      "4 x 8 = 32\n",
      "5 x 8 = 40\n",
      "6 x 8 = 48\n",
      "7 x 8 = 56\n",
      "8 x 8 = 64\n",
      "9 x 8 = 72\n",
      "10 x 8 = 80\n"
     ]
    }
   ],
   "source": [
    "multiply_by = int(input('enter a number: ')) \n",
    "#input function will always return a string, cast as int\n",
    "print(type(multiply_by))\n",
    "\n",
    "for i in range(1,11):\n",
    "    print(f'{i} x {multiply_by} = {i*multiply_by}')"
   ]
  },
  {
   "cell_type": "markdown",
   "id": "b662a334",
   "metadata": {},
   "source": [
    "<hr style=\"border:0.5px solid gray\">"
   ]
  },
  {
   "cell_type": "markdown",
   "id": "16a98f9b",
   "metadata": {},
   "source": [
    "<b> ii. Create a for loop that uses print to create the output shown below."
   ]
  },
  {
   "cell_type": "code",
   "execution_count": 15,
   "id": "09b1d390",
   "metadata": {},
   "outputs": [],
   "source": [
    "# 1\n",
    "# 22\n",
    "# 333\n",
    "# 4444\n",
    "# 55555\n",
    "# 666666\n",
    "# 7777777\n",
    "# 88888888\n",
    "# 999999999"
   ]
  },
  {
   "cell_type": "code",
   "execution_count": 16,
   "id": "1f50a204",
   "metadata": {},
   "outputs": [
    {
     "name": "stdout",
     "output_type": "stream",
     "text": [
      "1\n",
      "22\n",
      "333\n",
      "4444\n",
      "55555\n",
      "666666\n",
      "7777777\n",
      "88888888\n",
      "999999999\n"
     ]
    }
   ],
   "source": [
    "for i in range(1,10):\n",
    "    print(str(i)*i)"
   ]
  },
  {
   "cell_type": "code",
   "execution_count": 17,
   "id": "95debc55",
   "metadata": {},
   "outputs": [
    {
     "name": "stdout",
     "output_type": "stream",
     "text": [
      "1\n",
      "22\n",
      "333\n",
      "4444\n",
      "55555\n",
      "666666\n",
      "7777777\n",
      "88888888\n",
      "999999999\n"
     ]
    }
   ],
   "source": [
    "#another way\n",
    "for i in range(1,10):\n",
    "    for j in range (1, i+1):\n",
    "        print(i, end=\"\")\n",
    "    print()"
   ]
  },
  {
   "cell_type": "markdown",
   "id": "6e14b37e",
   "metadata": {},
   "source": [
    "<hr style=\"border:1px solid black\">"
   ]
  },
  {
   "cell_type": "markdown",
   "id": "c7043f69",
   "metadata": {},
   "source": [
    "## Section 2: Basic Loops"
   ]
  },
  {
   "cell_type": "markdown",
   "id": "e4482feb",
   "metadata": {},
   "source": [
    "### c. ```break``` and ```continue```"
   ]
  },
  {
   "cell_type": "markdown",
   "id": "ba52bea2",
   "metadata": {},
   "source": [
    "<b> i. Write a program that prompts the user for a positive integer. Next write a loop that prints out the numbers from the number the user entered down to 1."
   ]
  },
  {
   "cell_type": "code",
   "execution_count": 18,
   "id": "4c5335e0",
   "metadata": {},
   "outputs": [
    {
     "name": "stdout",
     "output_type": "stream",
     "text": [
      "enter a positive integer: 6\n",
      "6\n",
      "5\n",
      "4\n",
      "3\n",
      "2\n",
      "1\n"
     ]
    }
   ],
   "source": [
    "pos_num = int(input('enter a positive integer: '))\n",
    "\n",
    "for i in range(pos_num,0,-1):\n",
    "    print(i)"
   ]
  },
  {
   "cell_type": "markdown",
   "id": "409c434a",
   "metadata": {},
   "source": [
    "<hr style=\"border:0.5px solid gray\">"
   ]
  },
  {
   "cell_type": "markdown",
   "id": "1128ef72",
   "metadata": {},
   "source": [
    "<b> ii. The input function can be used to prompt for input and use that input in your python code. Prompt the user to enter a positive number and write a loop that counts from 0 to that number. (Hints: note that the input function returns a string, so you'll need to convert this to a numeric type.)"
   ]
  },
  {
   "cell_type": "code",
   "execution_count": 19,
   "id": "4353ce89",
   "metadata": {},
   "outputs": [
    {
     "name": "stdout",
     "output_type": "stream",
     "text": [
      "enter a positive number: 6\n",
      "0\n",
      "1\n",
      "2\n",
      "3\n",
      "4\n",
      "5\n",
      "6\n"
     ]
    }
   ],
   "source": [
    "numb = int(input('enter a positive number: '))\n",
    "\n",
    "for i in range(numb+1):\n",
    "    print(i)"
   ]
  },
  {
   "cell_type": "markdown",
   "id": "792fa1ea",
   "metadata": {},
   "source": [
    "<hr style=\"border:0.5px solid gray\">"
   ]
  },
  {
   "cell_type": "markdown",
   "id": "ddf62fe3",
   "metadata": {},
   "source": [
    "<b> iii. Prompt the user for an odd number between 1 and 50. Use a loop and a break statement to continue prompting the user if they enter invalid input. (Hint: use the isdigit method on strings to determine this). Use a loop and the continue statement to output all the odd numbers between 1 and 50, except for the number the user entered."
   ]
  },
  {
   "cell_type": "code",
   "execution_count": 20,
   "id": "ad2caf79",
   "metadata": {},
   "outputs": [
    {
     "name": "stdout",
     "output_type": "stream",
     "text": [
      "enter a positive number: 6\n"
     ]
    }
   ],
   "source": [
    "numb = (input('enter a positive number: '))"
   ]
  },
  {
   "cell_type": "code",
   "execution_count": 21,
   "id": "a4df0d78",
   "metadata": {},
   "outputs": [
    {
     "data": {
      "text/plain": [
       "True"
      ]
     },
     "execution_count": 21,
     "metadata": {},
     "output_type": "execute_result"
    }
   ],
   "source": [
    "#is the number we entered above a digit?\n",
    "numb.isdigit()"
   ]
  },
  {
   "cell_type": "code",
   "execution_count": 22,
   "id": "3ed34165",
   "metadata": {},
   "outputs": [
    {
     "data": {
      "text/plain": [
       "False"
      ]
     },
     "execution_count": 22,
     "metadata": {},
     "output_type": "execute_result"
    }
   ],
   "source": [
    "#is this a digit?\n",
    "'hello'.isdigit()"
   ]
  },
  {
   "cell_type": "code",
   "execution_count": 23,
   "id": "1ff33689",
   "metadata": {},
   "outputs": [],
   "source": [
    "#what if someone enters digits with spaces\n",
    "numb = '   13    '"
   ]
  },
  {
   "cell_type": "code",
   "execution_count": 24,
   "id": "4b048faf",
   "metadata": {},
   "outputs": [
    {
     "data": {
      "text/plain": [
       "False"
      ]
     },
     "execution_count": 24,
     "metadata": {},
     "output_type": "execute_result"
    }
   ],
   "source": [
    "#the white spaces makes python believe this isnt a digit\n",
    "numb.isdigit()"
   ]
  },
  {
   "cell_type": "code",
   "execution_count": 25,
   "id": "6e976842",
   "metadata": {},
   "outputs": [
    {
     "data": {
      "text/plain": [
       "True"
      ]
     },
     "execution_count": 25,
     "metadata": {},
     "output_type": "execute_result"
    }
   ],
   "source": [
    "#take that whitespaceout, then ask if it's a digit\n",
    "numb.strip().isdigit()"
   ]
  },
  {
   "cell_type": "code",
   "execution_count": 26,
   "id": "2f9f1016",
   "metadata": {},
   "outputs": [],
   "source": [
    "#what about a negative number?\n",
    "numb = '-2'"
   ]
  },
  {
   "cell_type": "code",
   "execution_count": 27,
   "id": "219cb6a4",
   "metadata": {},
   "outputs": [
    {
     "data": {
      "text/plain": [
       "False"
      ]
     },
     "execution_count": 27,
     "metadata": {},
     "output_type": "execute_result"
    }
   ],
   "source": [
    "numb.isdigit()"
   ]
  },
  {
   "cell_type": "code",
   "execution_count": 28,
   "id": "3cabeb1e",
   "metadata": {},
   "outputs": [
    {
     "data": {
      "text/plain": [
       "True"
      ]
     },
     "execution_count": 28,
     "metadata": {},
     "output_type": "execute_result"
    }
   ],
   "source": [
    "#if we wanted to keep our negative values, \n",
    "##we need to strip the special characters\n",
    "numb.strip('-').isdigit() "
   ]
  },
  {
   "cell_type": "code",
   "execution_count": 29,
   "id": "91f10147",
   "metadata": {},
   "outputs": [
    {
     "data": {
      "text/plain": [
       "-2"
      ]
     },
     "execution_count": 29,
     "metadata": {},
     "output_type": "execute_result"
    }
   ],
   "source": [
    "int(numb)"
   ]
  },
  {
   "cell_type": "code",
   "execution_count": 30,
   "id": "62120f81",
   "metadata": {},
   "outputs": [
    {
     "name": "stdout",
     "output_type": "stream",
     "text": [
      "enter a odd number between 1 and 50: 35\n",
      "1\n",
      "3\n",
      "5\n",
      "7\n",
      "9\n",
      "11\n",
      "13\n",
      "15\n",
      "17\n",
      "19\n",
      "21\n",
      "23\n",
      "25\n",
      "27\n",
      "29\n",
      "31\n",
      "33\n",
      "SKIP THIS NUMBER: 35\n",
      "37\n",
      "39\n",
      "41\n",
      "43\n",
      "45\n",
      "47\n",
      "49\n"
     ]
    }
   ],
   "source": [
    "while True:\n",
    "    numb = input('enter a odd number between 1 and 50: ')\n",
    "    \n",
    "    if numb.isdigit() == False:\n",
    "        print('invalid entry. this is NOT a number.')\n",
    "        continue\n",
    "    numb = int(numb)\n",
    "    if numb % 2 == 0:\n",
    "        print('invalid entry. this is EVEN.')\n",
    "        continue\n",
    "    if numb < 1 or numb > 50:\n",
    "        print('invalid entry. this is out of range.')\n",
    "        continue\n",
    "    break\n",
    "    \n",
    "for i in range(1,51,2):\n",
    "    if i == numb:\n",
    "        print(f'SKIP THIS NUMBER: {numb}')\n",
    "        continue\n",
    "    print(i)"
   ]
  },
  {
   "cell_type": "markdown",
   "id": "8eb20f01",
   "metadata": {},
   "source": [
    "<hr style=\"border:2px solid black\">"
   ]
  },
  {
   "cell_type": "markdown",
   "id": "5689bf7a",
   "metadata": {},
   "source": [
    "## Section 3: Fizzbuzz"
   ]
  },
  {
   "cell_type": "markdown",
   "id": "bbf4da21",
   "metadata": {},
   "source": [
    "#### One of the most common interview questions for entry-level programmers is the FizzBuzz test. Developed by Imran Ghory, the test is designed to test basic looping and conditional logic skills.\n",
    "\n",
    "- Write a program that prints the numbers from 1 to 100.\n",
    "- For multiples of three print \"Fizz\" instead of the number\n",
    "- For the multiples of five print \"Buzz\".\n",
    "- For numbers which are multiples of both three and five print \"FizzBuzz\"."
   ]
  },
  {
   "cell_type": "code",
   "execution_count": 31,
   "id": "55afe5a7",
   "metadata": {},
   "outputs": [
    {
     "name": "stdout",
     "output_type": "stream",
     "text": [
      "1\n",
      "2\n",
      "Fizz\n",
      "4\n",
      "Buzz\n",
      "Fizz\n",
      "7\n",
      "8\n",
      "Fizz\n",
      "Buzz\n",
      "11\n",
      "Fizz\n",
      "13\n",
      "14\n",
      "FizzBuzz\n",
      "16\n",
      "17\n",
      "Fizz\n",
      "19\n",
      "Buzz\n",
      "Fizz\n",
      "22\n",
      "23\n",
      "Fizz\n",
      "Buzz\n",
      "26\n",
      "Fizz\n",
      "28\n",
      "29\n",
      "FizzBuzz\n",
      "31\n",
      "32\n",
      "Fizz\n",
      "34\n",
      "Buzz\n",
      "Fizz\n",
      "37\n",
      "38\n",
      "Fizz\n",
      "Buzz\n",
      "41\n",
      "Fizz\n",
      "43\n",
      "44\n",
      "FizzBuzz\n",
      "46\n",
      "47\n",
      "Fizz\n",
      "49\n",
      "Buzz\n",
      "Fizz\n",
      "52\n",
      "53\n",
      "Fizz\n",
      "Buzz\n",
      "56\n",
      "Fizz\n",
      "58\n",
      "59\n",
      "FizzBuzz\n",
      "61\n",
      "62\n",
      "Fizz\n",
      "64\n",
      "Buzz\n",
      "Fizz\n",
      "67\n",
      "68\n",
      "Fizz\n",
      "Buzz\n",
      "71\n",
      "Fizz\n",
      "73\n",
      "74\n",
      "FizzBuzz\n",
      "76\n",
      "77\n",
      "Fizz\n",
      "79\n",
      "Buzz\n",
      "Fizz\n",
      "82\n",
      "83\n",
      "Fizz\n",
      "Buzz\n",
      "86\n",
      "Fizz\n",
      "88\n",
      "89\n",
      "FizzBuzz\n",
      "91\n",
      "92\n",
      "Fizz\n",
      "94\n",
      "Buzz\n",
      "Fizz\n",
      "97\n",
      "98\n",
      "Fizz\n",
      "Buzz\n"
     ]
    }
   ],
   "source": [
    "for i in range(1,101):\n",
    "    if i % 15 == 0:\n",
    "#     if (i % 3 == 0) and ( i % 5 == 0 ): #also works\n",
    "        print('FizzBuzz')\n",
    "        continue\n",
    "    if i % 3 == 0:\n",
    "        print('Fizz')\n",
    "        continue\n",
    "    if i % 5 == 0:\n",
    "        print('Buzz')\n",
    "        continue        \n",
    "    print(i)"
   ]
  },
  {
   "cell_type": "markdown",
   "id": "bdd3939a",
   "metadata": {},
   "source": [
    "<hr style=\"border:2px solid black\">"
   ]
  },
  {
   "cell_type": "markdown",
   "id": "5d4f62bc",
   "metadata": {},
   "source": [
    "## Section 4: Display a table of powers."
   ]
  },
  {
   "cell_type": "markdown",
   "id": "3964d634",
   "metadata": {},
   "source": [
    "- Prompt the user to enter an integer\n",
    "- Display a table of squares and cubes from 1 to the value entered\n",
    "- Ask if the user wants to continue\n",
    "- Assume that the user will enter valid data\n",
    "- Only continue if the user agrees to"
   ]
  },
  {
   "cell_type": "code",
   "execution_count": 32,
   "id": "e2b0bef3",
   "metadata": {},
   "outputs": [
    {
     "name": "stdout",
     "output_type": "stream",
     "text": [
      "enter a positive integer: 6\n"
     ]
    }
   ],
   "source": [
    "numb = int(input('enter a positive integer: '))"
   ]
  },
  {
   "cell_type": "code",
   "execution_count": 33,
   "id": "bf90b92e",
   "metadata": {},
   "outputs": [
    {
     "data": {
      "text/plain": [
       "6"
      ]
     },
     "execution_count": 33,
     "metadata": {},
     "output_type": "execute_result"
    }
   ],
   "source": [
    "numb"
   ]
  },
  {
   "cell_type": "code",
   "execution_count": 34,
   "id": "bbb9dc9f",
   "metadata": {},
   "outputs": [
    {
     "name": "stdout",
     "output_type": "stream",
     "text": [
      "1 1 1\n",
      "2 4 8\n",
      "3 9 27\n",
      "4 16 64\n",
      "5 25 125\n",
      "6 36 216\n"
     ]
    }
   ],
   "source": [
    "for i in range(1,numb+1):\n",
    "    print(i, i**2, i**3)"
   ]
  },
  {
   "cell_type": "code",
   "execution_count": 35,
   "id": "72c0520d",
   "metadata": {},
   "outputs": [
    {
     "name": "stdout",
     "output_type": "stream",
     "text": [
      "enter a positive integer: 6\n",
      "1 1 1\n",
      "2 4 8\n",
      "3 9 27\n",
      "4 16 64\n",
      "5 25 125\n",
      "6 36 216\n",
      "enter YES if you would like to continue: Yes\n",
      "enter a positive integer: 8\n",
      "1 1 1\n",
      "2 4 8\n",
      "3 9 27\n",
      "4 16 64\n",
      "5 25 125\n",
      "6 36 216\n",
      "7 49 343\n",
      "8 64 512\n",
      "enter YES if you would like to continue: no\n"
     ]
    }
   ],
   "source": [
    "while True:\n",
    "    pos_int = int(input('enter a positive integer: '))\n",
    "    \n",
    "    for i in range(1,pos_int+1):\n",
    "        print(i, i**2, i**3)\n",
    "        \n",
    "    cont = input('enter YES if you would like to continue: ')\n",
    "    \n",
    "    if cont.upper() != 'YES':\n",
    "        break"
   ]
  },
  {
   "cell_type": "code",
   "execution_count": 36,
   "id": "54bcbd2e",
   "metadata": {},
   "outputs": [
    {
     "name": "stdout",
     "output_type": "stream",
     "text": [
      "Enter a positive integer: 6\n",
      "+----------+-----------+---------+\n",
      "|   Number |   Squared |   Cubed |\n",
      "+==========+===========+=========+\n",
      "|        1 |         1 |       1 |\n",
      "+----------+-----------+---------+\n",
      "|        2 |         4 |       8 |\n",
      "+----------+-----------+---------+\n",
      "|        3 |         9 |      27 |\n",
      "+----------+-----------+---------+\n",
      "|        4 |        16 |      64 |\n",
      "+----------+-----------+---------+\n",
      "|        5 |        25 |     125 |\n",
      "+----------+-----------+---------+\n",
      "|        6 |        36 |     216 |\n",
      "+----------+-----------+---------+\n",
      "Enter YES if you would like to continue: Yes\n",
      "Enter a positive integer: 8\n",
      "+----------+-----------+---------+\n",
      "|   Number |   Squared |   Cubed |\n",
      "+==========+===========+=========+\n",
      "|        1 |         1 |       1 |\n",
      "+----------+-----------+---------+\n",
      "|        2 |         4 |       8 |\n",
      "+----------+-----------+---------+\n",
      "|        3 |         9 |      27 |\n",
      "+----------+-----------+---------+\n",
      "|        4 |        16 |      64 |\n",
      "+----------+-----------+---------+\n",
      "|        5 |        25 |     125 |\n",
      "+----------+-----------+---------+\n",
      "|        6 |        36 |     216 |\n",
      "+----------+-----------+---------+\n",
      "|        7 |        49 |     343 |\n",
      "+----------+-----------+---------+\n",
      "|        8 |        64 |     512 |\n",
      "+----------+-----------+---------+\n",
      "Enter YES if you would like to continue: no\n"
     ]
    }
   ],
   "source": [
    "#make it look prettier\n",
    "from tabulate import tabulate\n",
    "\n",
    "while True:\n",
    "    pos_int = int(input('Enter a positive integer: '))\n",
    "    \n",
    "    data = []\n",
    "    for i in range(1, pos_int + 1):\n",
    "        data.append([i, i ** 2, i ** 3])\n",
    "    \n",
    "    print(tabulate(data, headers=['Number', 'Squared', 'Cubed'], tablefmt='grid'))\n",
    "    \n",
    "    cont = input('Enter YES if you would like to continue: ')\n",
    "    \n",
    "    if cont.upper() != 'YES':\n",
    "        break"
   ]
  },
  {
   "cell_type": "markdown",
   "id": "7f980393",
   "metadata": {},
   "source": [
    "<hr style=\"border:2px solid black\">"
   ]
  },
  {
   "cell_type": "markdown",
   "id": "d3bb64fc",
   "metadata": {},
   "source": [
    "## Section 5: Convert given number grades into letter grades."
   ]
  },
  {
   "cell_type": "markdown",
   "id": "0f9db8e5",
   "metadata": {},
   "source": [
    "- Prompt the user for a numerical grade from 0 to 100\n",
    "- Display the corresponding letter grade\n",
    "- Prompt the user to continue\n",
    "- Assume that the user will enter valid integers for the grades\n",
    "- The application should only continue if the user agrees to\n",
    "\n",
    "Grade Ranges:\n",
    "\n",
    "A : 100 - 88\n",
    "B : 87 - 80\n",
    "C : 79 - 67\n",
    "D : 66 - 60\n",
    "F : 59 - 0"
   ]
  },
  {
   "cell_type": "code",
   "execution_count": 37,
   "id": "c421699b",
   "metadata": {},
   "outputs": [
    {
     "name": "stdout",
     "output_type": "stream",
     "text": [
      "enter a numeric grade from 0-100: 85\n"
     ]
    }
   ],
   "source": [
    "#create a grade input\n",
    "grade = int(input('enter a numeric grade from 0-100: '))"
   ]
  },
  {
   "cell_type": "code",
   "execution_count": 38,
   "id": "c1685b5d",
   "metadata": {},
   "outputs": [
    {
     "data": {
      "text/plain": [
       "85"
      ]
     },
     "execution_count": 38,
     "metadata": {},
     "output_type": "execute_result"
    }
   ],
   "source": [
    "#print that grade\n",
    "grade"
   ]
  },
  {
   "cell_type": "code",
   "execution_count": 39,
   "id": "16549b27",
   "metadata": {},
   "outputs": [
    {
     "name": "stdout",
     "output_type": "stream",
     "text": [
      "B\n"
     ]
    }
   ],
   "source": [
    "#determine what grades fall into what ranges\n",
    "if grade >= 88:\n",
    "    print('A')\n",
    "elif grade >= 80:\n",
    "    print('B')\n",
    "elif grade >=67:\n",
    "    print('C')\n",
    "elif grade >= 60:\n",
    "    print('D')\n",
    "else:\n",
    "    print('F')"
   ]
  },
  {
   "cell_type": "code",
   "execution_count": 40,
   "id": "f9a28f2e",
   "metadata": {},
   "outputs": [
    {
     "name": "stdout",
     "output_type": "stream",
     "text": [
      "would you like to continue? (y/n): y\n"
     ]
    },
    {
     "data": {
      "text/plain": [
       "'y'"
      ]
     },
     "execution_count": 40,
     "metadata": {},
     "output_type": "execute_result"
    }
   ],
   "source": [
    "#ask user if they want to keep going?\n",
    "input('would you like to continue? (y/n): ')"
   ]
  },
  {
   "cell_type": "code",
   "execution_count": 41,
   "id": "c8271235",
   "metadata": {},
   "outputs": [
    {
     "name": "stdout",
     "output_type": "stream",
     "text": [
      "Enter a numerical grade from 0 - 100: 56\n",
      "F\n",
      "Would you like to continue? (y/n) n\n"
     ]
    }
   ],
   "source": [
    "#put it all together\n",
    "while True:\n",
    "    user_grade = int(input('Enter a numerical grade from 0 - 100: '))\n",
    "\n",
    "    if user_grade >= 88:\n",
    "        print('A')\n",
    "    elif user_grade >= 80:\n",
    "        print('B')\n",
    "    elif user_grade >= 67:\n",
    "        print('C')\n",
    "    elif user_grade >= 60:\n",
    "        print('D')\n",
    "    else:\n",
    "        print('F')\n",
    "        \n",
    "    user_yn = input('Would you like to continue? (y/n) ')\n",
    "    if user_yn.lower() != 'y':\n",
    "        break"
   ]
  },
  {
   "cell_type": "markdown",
   "id": "aa42b934",
   "metadata": {},
   "source": [
    "<hr style=\"border:2px solid black\">"
   ]
  },
  {
   "cell_type": "markdown",
   "id": "db7dce78",
   "metadata": {},
   "source": [
    "## Section 6: Create a list of dictionaries where each dictionary represents a book that you have read. \n",
    "Each dictionary in the list should have the keys title, author, and genre. Loop through the list and print out information about each book."
   ]
  },
  {
   "cell_type": "code",
   "execution_count": 42,
   "id": "8e98060d",
   "metadata": {},
   "outputs": [],
   "source": [
    "books = [{'title': 'Brave New World', 'author': 'Aldous Huxley', 'genre': 'scifi'},\n",
    " {'title': 'The Great Gatspy', 'author': 'F. Scott Fitzgerald.', 'genre': 'fiction'},\n",
    " {'title': 'Pride and Prejudice', 'author': 'Jane Austen', 'genre': 'fiction'},\n",
    " {'title': 'The Underground Railroad', 'author': 'Colson Whitehead', 'genre': 'history'}]"
   ]
  },
  {
   "cell_type": "code",
   "execution_count": 43,
   "id": "7b99cd0f",
   "metadata": {},
   "outputs": [
    {
     "name": "stdout",
     "output_type": "stream",
     "text": [
      "{'title': 'Brave New World', 'author': 'Aldous Huxley', 'genre': 'scifi'}\n",
      "\n",
      "{'title': 'The Great Gatspy', 'author': 'F. Scott Fitzgerald.', 'genre': 'fiction'}\n",
      "\n",
      "{'title': 'Pride and Prejudice', 'author': 'Jane Austen', 'genre': 'fiction'}\n",
      "\n",
      "{'title': 'The Underground Railroad', 'author': 'Colson Whitehead', 'genre': 'history'}\n",
      "\n"
     ]
    }
   ],
   "source": [
    "for book in books:\n",
    "    print(book)\n",
    "    print()"
   ]
  },
  {
   "cell_type": "markdown",
   "id": "ce7eeacd",
   "metadata": {},
   "source": [
    "#### a. Prompt the user to enter a genre, then loop through your books list and print out the titles of all the books in that genre."
   ]
  },
  {
   "cell_type": "code",
   "execution_count": 45,
   "id": "c9d97b72",
   "metadata": {},
   "outputs": [
    {
     "name": "stdout",
     "output_type": "stream",
     "text": [
      "enter a genre (scifi/fiction/history): scifi\n"
     ]
    }
   ],
   "source": [
    "#break it down\n",
    "#input for genre\n",
    "input_genre = input('enter a genre (scifi/fiction/history): ')"
   ]
  },
  {
   "cell_type": "code",
   "execution_count": 46,
   "id": "ae931711",
   "metadata": {},
   "outputs": [
    {
     "name": "stdout",
     "output_type": "stream",
     "text": [
      "Brave New World\n"
     ]
    }
   ],
   "source": [
    "#return to me the title of that genre\n",
    "for book in books:\n",
    "    if book['genre'] == input_genre:\n",
    "        print(book['title'])"
   ]
  },
  {
   "cell_type": "code",
   "execution_count": 47,
   "id": "6d320eb6",
   "metadata": {},
   "outputs": [
    {
     "name": "stdout",
     "output_type": "stream",
     "text": [
      "enter a genre (scifi/fiction/history): fiction\n",
      "The Great Gatspy\n",
      "Pride and Prejudice\n"
     ]
    }
   ],
   "source": [
    "#put it all together\n",
    "input_genre = input('enter a genre (scifi/fiction/history): ')\n",
    "\n",
    "for book in books:\n",
    "    if book['genre'] == input_genre:\n",
    "        print(book['title'])"
   ]
  }
 ],
 "metadata": {
  "kernelspec": {
   "display_name": "Python 3 (ipykernel)",
   "language": "python",
   "name": "python3"
  },
  "language_info": {
   "codemirror_mode": {
    "name": "ipython",
    "version": 3
   },
   "file_extension": ".py",
   "mimetype": "text/x-python",
   "name": "python",
   "nbconvert_exporter": "python",
   "pygments_lexer": "ipython3",
   "version": "3.9.13"
  }
 },
 "nbformat": 4,
 "nbformat_minor": 5
}
