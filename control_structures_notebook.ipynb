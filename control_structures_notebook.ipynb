{
 "cells": [
  {
   "cell_type": "markdown",
   "id": "e10acc13-1292-4bdd-ae50-fd822ac9ae9d",
   "metadata": {},
   "source": [
    "## IF statements (continued):"
   ]
  },
  {
   "cell_type": "code",
   "execution_count": 2,
   "id": "ad199060-2c1d-4074-85fa-cb89855c0f9d",
   "metadata": {},
   "outputs": [],
   "source": [
    "# checking out my class greetings:\n",
    "my_class_greeting = 'hello class!'\n",
    "if my_class_greeting == 'hi class!':\n",
    "    print('it is afternoon!')"
   ]
  },
  {
   "cell_type": "code",
   "execution_count": 4,
   "id": "e4aa7b6f-f820-46f3-b53f-6c9e728641de",
   "metadata": {},
   "outputs": [
    {
     "name": "stdout",
     "output_type": "stream",
     "text": [
      "it is friday!\n"
     ]
    }
   ],
   "source": [
    "# what if its not hi class! \n",
    "# lets give it an option\n",
    "if my_class_greeting == 'hi class!':\n",
    "    print('it is afternoon!')\n",
    "else:\n",
    "    print('it is friday!')"
   ]
  },
  {
   "cell_type": "code",
   "execution_count": 5,
   "id": "62d104e4-14b8-45c7-b56b-383ae95a167d",
   "metadata": {},
   "outputs": [],
   "source": [
    "# lets make this a little more complex:\n"
   ]
  },
  {
   "cell_type": "code",
   "execution_count": 6,
   "id": "2fef45a7-0e7a-4772-86db-435f2622f956",
   "metadata": {},
   "outputs": [],
   "source": [
    "# lets define my_beverage list as a list of beverages that Madeleine specifically likes\n",
    "my_beverage_list = [\n",
    "    'coffee',\n",
    "    'water',\n",
    "    'juice']"
   ]
  },
  {
   "cell_type": "code",
   "execution_count": 7,
   "id": "8a57904a-4fcf-4b6d-8804-3f635f3ca9b7",
   "metadata": {},
   "outputs": [
    {
     "data": {
      "text/plain": [
       "True"
      ]
     },
     "execution_count": 7,
     "metadata": {},
     "output_type": "execute_result"
    }
   ],
   "source": [
    "# \"in\" will check for inclusion in python\n",
    "# works as a logical assertion\n",
    "# which means that it returns a boolean\n",
    "# which means that I can use it as a condition for an if statement\n",
    "# example:\n",
    "'coffee' in my_beverage_list"
   ]
  },
  {
   "cell_type": "code",
   "execution_count": 8,
   "id": "1d80b27d-0047-43ad-a885-69fcb8986b24",
   "metadata": {},
   "outputs": [
    {
     "name": "stdout",
     "output_type": "stream",
     "text": [
      "caffeine is nice\n",
      "hydration is good\n"
     ]
    }
   ],
   "source": [
    "# lets build a more complex if statement:\n",
    "if 'coffee' in my_beverage_list:\n",
    "    print('caffeine is nice')\n",
    "if 'water' in my_beverage_list:\n",
    "    print('hydration is good')\n",
    "elif 'monster' in my_beverage_list:\n",
    "    print('energy drinks :( ')\n",
    "else:\n",
    "    print('you should probably drink something')"
   ]
  },
  {
   "cell_type": "code",
   "execution_count": 14,
   "id": "c234eea6-0221-46f5-aaa5-91580c17a808",
   "metadata": {},
   "outputs": [
    {
     "name": "stdout",
     "output_type": "stream",
     "text": [
      "caffeine is nice\n",
      "juuuuust right\n"
     ]
    }
   ],
   "source": [
    "# process of logical flow here:\n",
    "# monster is not in my_beverage list, FALSE\n",
    "# does not do the thing\n",
    "if 'monster' in my_beverage_list:\n",
    "    print('energy drinks :( ')\n",
    "# next option renders true\n",
    "# and is an if statement at the same level,\n",
    "# so we render that TRUE and proceed into the indented action\n",
    "if 'coffee' in my_beverage_list:\n",
    "    #this will print\n",
    "    print('caffeine is nice')\n",
    "    #we are still living in the indent in this if statement\n",
    "    #so we proceed into this NESTED if statement\n",
    "    #this first quality of the length of the string literal coffee is false\n",
    "    if len('coffee') < 5:\n",
    "        print('thats how letters work yes thank you')\n",
    "    # because the last one was false, an ELIF will check the truth here\n",
    "    # it renders true\n",
    "    elif len('coffee') == 6:\n",
    "        print('juuuuust right')\n",
    "    #we do not get to the nested else because the elif was true\n",
    "    else:\n",
    "        print('no dice')\n",
    "# this is true but its chained in the outer if statement\n",
    "# so python does not see it\n",
    "elif 'water' in my_beverage_list:\n",
    "    print('hydration is good')\n",
    "# same with this else\n",
    "else:\n",
    "    print('you should probably drink something')"
   ]
  },
  {
   "cell_type": "markdown",
   "id": "94eeb511-20b7-4ff6-b1a7-55074ea745f2",
   "metadata": {},
   "source": [
    "## Loops:"
   ]
  },
  {
   "cell_type": "code",
   "execution_count": 15,
   "id": "c2f63cff-cbf6-476b-b88a-11e93804b507",
   "metadata": {},
   "outputs": [],
   "source": [
    "# loops will do an action over some set sequnce that we as the programmer determine"
   ]
  },
  {
   "cell_type": "markdown",
   "id": "6f688291-b01d-41b1-bc5e-eb738b5ce76f",
   "metadata": {},
   "source": [
    "### For loops:\n",
    " - Do a thing/action over an iterable"
   ]
  },
  {
   "cell_type": "markdown",
   "id": "f6f65262-b976-4f5c-8a79-c55cddf04e3f",
   "metadata": {},
   "source": [
    "## While loops:\n",
    " - Do a thing/action until I say stop"
   ]
  },
  {
   "cell_type": "markdown",
   "id": "76a26342-2e66-4043-87dd-eac3dac6e0ab",
   "metadata": {},
   "source": [
    "For Loops"
   ]
  },
  {
   "cell_type": "code",
   "execution_count": 16,
   "id": "542712f0-d8f8-46ab-b469-9aa5e4dfee7e",
   "metadata": {},
   "outputs": [
    {
     "name": "stdout",
     "output_type": "stream",
     "text": [
      "liquids!\n",
      "liquids!\n",
      "liquids!\n"
     ]
    }
   ],
   "source": [
    "# for every beverage in my beverage list:\n",
    "# print the string literal 'liquids!'\n",
    "# when you hit the end, theres no more need for the action\n",
    "for bev in my_beverage_list:\n",
    "    print('liquids!')"
   ]
  },
  {
   "cell_type": "code",
   "execution_count": 17,
   "id": "1e01fea4-8fca-4c3d-90af-d8a1d697e92f",
   "metadata": {},
   "outputs": [
    {
     "name": "stdout",
     "output_type": "stream",
     "text": [
      "coffee\n",
      "water\n",
      "juice\n"
     ]
    }
   ],
   "source": [
    "# for every iterable thing i in the beverage list:\n",
    "# print that thing to the console\n",
    "for i in my_beverage_list:\n",
    "    print(i)"
   ]
  },
  {
   "cell_type": "code",
   "execution_count": 18,
   "id": "6e395583-e7e0-40a3-8de6-841043b84ffa",
   "metadata": {},
   "outputs": [
    {
     "name": "stdout",
     "output_type": "stream",
     "text": [
      "coffee\n"
     ]
    }
   ],
   "source": [
    "# for every i in the beverage list:\n",
    "# check to see if that thing is water:\n",
    "# if its water, stop the loop entirely immediately\n",
    "for i in my_beverage_list:\n",
    "    if i == 'water':\n",
    "        break\n",
    "    print(i)"
   ]
  },
  {
   "cell_type": "code",
   "execution_count": 22,
   "id": "e8a7f891-7fc9-4df2-8812-ed9a230cb689",
   "metadata": {},
   "outputs": [
    {
     "name": "stdout",
     "output_type": "stream",
     "text": [
      "do you see this for water?\n",
      "coffee\n",
      "thats the one!\n",
      "do you see this for water?\n",
      "juice\n"
     ]
    }
   ],
   "source": [
    "# for every i in the beverage list:\n",
    "# if the i is water:\n",
    "# go to the next iteration of the loop\n",
    "# go-around 1: its coffee, not water, print it\n",
    "# go-round 2: its water, lets try the next thing\n",
    "# go-round 3: its juice, so we print it\n",
    "for i in my_beverage_list:\n",
    "    if i == 'water':\n",
    "        print('thats the one!')\n",
    "        continue\n",
    "    print('do you see this for water?')\n",
    "    print(i)"
   ]
  },
  {
   "cell_type": "code",
   "execution_count": 23,
   "id": "0f1f074c-76f8-4fc6-bbc2-b407829455db",
   "metadata": {},
   "outputs": [
    {
     "data": {
      "text/plain": [
       "range(0, 10)"
      ]
     },
     "execution_count": 23,
     "metadata": {},
     "output_type": "execute_result"
    }
   ],
   "source": [
    "range(10)"
   ]
  },
  {
   "cell_type": "code",
   "execution_count": 24,
   "id": "18ab0374-8604-4ed4-89ef-b36b949e002c",
   "metadata": {},
   "outputs": [
    {
     "data": {
      "text/plain": [
       "\u001b[0;31mInit signature:\u001b[0m \u001b[0mrange\u001b[0m\u001b[0;34m(\u001b[0m\u001b[0mself\u001b[0m\u001b[0;34m,\u001b[0m \u001b[0;34m/\u001b[0m\u001b[0;34m,\u001b[0m \u001b[0;34m*\u001b[0m\u001b[0margs\u001b[0m\u001b[0;34m,\u001b[0m \u001b[0;34m**\u001b[0m\u001b[0mkwargs\u001b[0m\u001b[0;34m)\u001b[0m\u001b[0;34m\u001b[0m\u001b[0;34m\u001b[0m\u001b[0m\n",
       "\u001b[0;31mDocstring:\u001b[0m     \n",
       "range(stop) -> range object\n",
       "range(start, stop[, step]) -> range object\n",
       "\n",
       "Return an object that produces a sequence of integers from start (inclusive)\n",
       "to stop (exclusive) by step.  range(i, j) produces i, i+1, i+2, ..., j-1.\n",
       "start defaults to 0, and stop is omitted!  range(4) produces 0, 1, 2, 3.\n",
       "These are exactly the valid indices for a list of 4 elements.\n",
       "When step is given, it specifies the increment (or decrement).\n",
       "\u001b[0;31mType:\u001b[0m           type\n",
       "\u001b[0;31mSubclasses:\u001b[0m     "
      ]
     },
     "metadata": {},
     "output_type": "display_data"
    }
   ],
   "source": [
    "range?"
   ]
  },
  {
   "cell_type": "code",
   "execution_count": 28,
   "id": "4de08f69-ca1f-4e9a-b877-d0585155c71d",
   "metadata": {},
   "outputs": [
    {
     "data": {
      "text/plain": [
       "[0, 1, 2, 3, 4, 5, 6, 7, 8, 9]"
      ]
     },
     "execution_count": 28,
     "metadata": {},
     "output_type": "execute_result"
    }
   ],
   "source": [
    "list(range(10))"
   ]
  },
  {
   "cell_type": "code",
   "execution_count": 29,
   "id": "f2ad476b-a86e-41cd-a9a6-492397d9ac4a",
   "metadata": {},
   "outputs": [
    {
     "name": "stdout",
     "output_type": "stream",
     "text": [
      "2\n",
      "----\n",
      "3\n",
      "----\n",
      "4\n",
      "----\n",
      "5\n",
      "----\n",
      "6\n",
      "----\n",
      "7\n",
      "----\n",
      "8\n",
      "----\n",
      "9\n",
      "----\n",
      "10\n",
      "----\n",
      "11\n",
      "----\n"
     ]
    }
   ],
   "source": [
    "# lets use a loop to change a variable:\n",
    "# im going to define x as 1\n",
    "x = 1\n",
    "# lets traverse range from 0 through 9\n",
    "# and then for each of these:\n",
    "# add one to the variable x\n",
    "# and print x\n",
    "for num in range(10):\n",
    "    x += 1\n",
    "    # x = x + 1\n",
    "    # not pythonic: x++\n",
    "    print(x)\n",
    "    print('----')\n",
    "    "
   ]
  },
  {
   "cell_type": "code",
   "execution_count": 30,
   "id": "8bbd8b23-dffb-475e-b91e-8af3d596a7b2",
   "metadata": {},
   "outputs": [
    {
     "data": {
      "text/plain": [
       "11"
      ]
     },
     "execution_count": 30,
     "metadata": {},
     "output_type": "execute_result"
    }
   ],
   "source": [
    "x"
   ]
  },
  {
   "cell_type": "code",
   "execution_count": 31,
   "id": "7c54aace-df88-4ec9-9ae0-17340c4110b1",
   "metadata": {},
   "outputs": [
    {
     "data": {
      "text/plain": [
       "9"
      ]
     },
     "execution_count": 31,
     "metadata": {},
     "output_type": "execute_result"
    }
   ],
   "source": [
    "num"
   ]
  },
  {
   "cell_type": "code",
   "execution_count": 32,
   "id": "2c9d9e80-311e-409f-afc4-2cb66e771d91",
   "metadata": {},
   "outputs": [
    {
     "name": "stdout",
     "output_type": "stream",
     "text": [
      "why am i like this\n",
      "why am i like this\n",
      "why am i like this\n"
     ]
    }
   ],
   "source": [
    "for hamsandwich in my_beverage_list:\n",
    "    print('why am i like this')"
   ]
  },
  {
   "cell_type": "code",
   "execution_count": 33,
   "id": "d538e884-be6e-4efc-915c-6eaad054f1a3",
   "metadata": {},
   "outputs": [
    {
     "data": {
      "text/plain": [
       "'juice'"
      ]
     },
     "execution_count": 33,
     "metadata": {},
     "output_type": "execute_result"
    }
   ],
   "source": [
    "hamsandwich"
   ]
  },
  {
   "cell_type": "code",
   "execution_count": 34,
   "id": "9b6658ce-f61f-4b17-b4a6-e0f400ed35f7",
   "metadata": {},
   "outputs": [],
   "source": [
    "# name your iterable something useful for yourself,\n",
    "# but make sure not to overwrite any variables\n",
    "# youve used in the global scope\n",
    "\n",
    "# for drink in my_beverage_list:"
   ]
  },
  {
   "cell_type": "code",
   "execution_count": 35,
   "id": "1633b1b1-3f50-4871-9f8e-b2d6e67950e2",
   "metadata": {},
   "outputs": [],
   "source": [
    "# more while loop stuff:"
   ]
  },
  {
   "cell_type": "code",
   "execution_count": null,
   "id": "e9afb8ad-7c3c-4cfa-a876-92e77a847870",
   "metadata": {},
   "outputs": [],
   "source": [
    "33 % "
   ]
  },
  {
   "cell_type": "code",
   "execution_count": 39,
   "id": "1fe5b3d3-b32b-4a36-a9ad-ede8a02c848b",
   "metadata": {},
   "outputs": [
    {
     "name": "stdout",
     "output_type": "stream",
     "text": [
      "33\n"
     ]
    }
   ],
   "source": [
    "# make a while loop\n",
    "\n",
    "# we want to check for a condition\n",
    "# where a number is greater than 34\n",
    "# and the number is divisible by 33\n",
    "\n",
    "# lets initialize a varible\n",
    "n = 1\n",
    "while (n < 34) and (n % 33 != 0):\n",
    "    n += 1\n",
    "print(n)"
   ]
  },
  {
   "cell_type": "code",
   "execution_count": null,
   "id": "43bda863-4c8c-447f-9261-912cf594f896",
   "metadata": {},
   "outputs": [],
   "source": [
    "# while True:\n",
    "    # do a thing\n",
    "    # do it forever\n",
    "    #until we get a breaking point\n",
    "    #then call break\n",
    "    #then exit the loop immediately\n",
    "    "
   ]
  },
  {
   "cell_type": "code",
   "execution_count": null,
   "id": "6720b63a-2979-41b0-addc-ac0045fd0038",
   "metadata": {},
   "outputs": [],
   "source": [
    "# evenness: an even number mod 2 == 0"
   ]
  },
  {
   "cell_type": "code",
   "execution_count": 40,
   "id": "6c182519-88c3-4959-9d64-9e5f64706ff8",
   "metadata": {},
   "outputs": [
    {
     "data": {
      "text/plain": [
       "True"
      ]
     },
     "execution_count": 40,
     "metadata": {},
     "output_type": "execute_result"
    }
   ],
   "source": [
    "12 % 2 == 0"
   ]
  },
  {
   "cell_type": "code",
   "execution_count": 44,
   "id": "925bbf41-8f4a-48c4-91cc-aa207441f89a",
   "metadata": {},
   "outputs": [
    {
     "data": {
      "text/plain": [
       "16"
      ]
     },
     "execution_count": 44,
     "metadata": {},
     "output_type": "execute_result"
    }
   ],
   "source": [
    "# escape characters allow us to do line breaks\n",
    "x + \\\n",
    "5\n",
    "# parens allow us to do line breaks\n",
    "(x +\n",
    " 5)"
   ]
  },
  {
   "cell_type": "code",
   "execution_count": 47,
   "id": "017c9965-8cf8-406f-8651-5e302853d352",
   "metadata": {},
   "outputs": [
    {
     "data": {
      "text/plain": [
       "True"
      ]
     },
     "execution_count": 47,
     "metadata": {},
     "output_type": "execute_result"
    }
   ],
   "source": [
    "'16'.isdigit()"
   ]
  },
  {
   "cell_type": "code",
   "execution_count": 51,
   "id": "9d9f1b78-720c-45a3-b9bf-0a9b47247de6",
   "metadata": {},
   "outputs": [
    {
     "name": "stdin",
     "output_type": "stream",
     "text": [
      "\n",
      "        please enter a number: \n",
      "        please make it even\n",
      "        please make it over 10 14\n"
     ]
    },
    {
     "name": "stdout",
     "output_type": "stream",
     "text": [
      "we did it! bye.\n"
     ]
    }
   ],
   "source": [
    "while True:\n",
    "    #this is not super robust\n",
    "    # if i put anything that is not a number\n",
    "    # and try to cast it as an int,\n",
    "    # i will experience breakage\n",
    "    # please look up isdigit string method\n",
    "    my_num_var = int(input(\n",
    "        '''\n",
    "        please enter a number: \n",
    "        please make it even\n",
    "        please make it over 10'''\n",
    "                      ))\n",
    "    # if the number is both over ten and even:\n",
    "    # print we did it and immediately exit the loop\n",
    "    if (my_num_var > 10) and (my_num_var % 2 == 0):\n",
    "        print('we did it! bye.')\n",
    "        break\n",
    "    # else if its just over ten but not even:\n",
    "    # tell the user it needs to be even,\n",
    "    # and go back the beginning of the loop\n",
    "    elif my_num_var > 10:\n",
    "        print('it still needs to be even!!!')\n",
    "    # and if its even but not large enough:\n",
    "    # tell the user to pick a larger number\n",
    "    elif my_num_var % 2 == 0:\n",
    "        print('make it bigger!!')\n",
    "    # otherwise they are just entirely off base\n",
    "    else:\n",
    "        print('try again :(')"
   ]
  },
  {
   "cell_type": "code",
   "execution_count": 46,
   "id": "fd278cb0-99c8-4561-8a55-fcf7c3a3afbf",
   "metadata": {},
   "outputs": [
    {
     "name": "stdin",
     "output_type": "stream",
     "text": [
      "put anything here 67\n"
     ]
    },
    {
     "data": {
      "text/plain": [
       "str"
      ]
     },
     "execution_count": 46,
     "metadata": {},
     "output_type": "execute_result"
    }
   ],
   "source": [
    "type(input('put anything here'))"
   ]
  },
  {
   "cell_type": "code",
   "execution_count": 53,
   "id": "e4a799ef-83c2-4b9c-bcf3-5fa1f14ab386",
   "metadata": {},
   "outputs": [
    {
     "name": "stdin",
     "output_type": "stream",
     "text": [
      "\n",
      "        please enter a number: \n",
      "        please make it even\n",
      "        please make it over 10 gtdr\n"
     ]
    },
    {
     "name": "stdout",
     "output_type": "stream",
     "text": [
      "I said a number!!! >:(\n"
     ]
    },
    {
     "name": "stdin",
     "output_type": "stream",
     "text": [
      "\n",
      "        please enter a number: \n",
      "        please make it even\n",
      "        please make it over 10 76\n"
     ]
    },
    {
     "name": "stdout",
     "output_type": "stream",
     "text": [
      "we did it! bye.\n"
     ]
    }
   ],
   "source": [
    "while True:\n",
    "    #this is not super robust\n",
    "    # if i put anything that is not a number\n",
    "    # and try to cast it as an int,\n",
    "    # i will experience breakage\n",
    "    # please look up isdigit string method\n",
    "    my_num_var = input(\n",
    "        '''\n",
    "        please enter a number: \n",
    "        please make it even\n",
    "        please make it over 10'''\n",
    "                      )\n",
    "    #check to see if we can make it an integer:\n",
    "    if my_num_var.isdigit():\n",
    "        # if yes, reassign my_num_var to the int version of itself\n",
    "        my_num_var = int(my_num_var)\n",
    "    # if the number is both over ten and even:\n",
    "    # print we did it and immediately exit the loop\n",
    "        if (my_num_var > 10) and (my_num_var % 2 == 0):\n",
    "            print('we did it! bye.')\n",
    "            break\n",
    "        # else if its just over ten but not even:\n",
    "        # tell the user it needs to be even,\n",
    "        # and go back the beginning of the loop\n",
    "        elif my_num_var > 10:\n",
    "            print('it still needs to be even!!!')\n",
    "        # and if its even but not large enough:\n",
    "        # tell the user to pick a larger number\n",
    "        elif my_num_var % 2 == 0:\n",
    "            print('make it bigger!!')\n",
    "        # otherwise they are just entirely off base\n",
    "        else:\n",
    "            print('try again :(')\n",
    "    else:\n",
    "        print('I said a number!!! >:(')"
   ]
  },
  {
   "cell_type": "markdown",
   "id": "352aa374-4f16-400a-a8db-7ee6e1bacf9d",
   "metadata": {},
   "source": [
    "## In Review:\n",
    "\n",
    "### IF statements:\n",
    "    - IF will do an action if a condition is true\n",
    "    - ELIF will only check at the same level as an IF if a TRUE value has not yet been rendered \n",
    "    - We will only get to ELSE if the logic has not encountered a true with an initial IF or ELIF up to that point\n",
    "    - CHAINED IFS will continue to run if they are not exclusive (like if/elif/else) are\n",
    "### FOR LOOPS:\n",
    "    - RUN SEQUENTIALLY OVER THE COURSE OF AN ITERABLE\n",
    "    - iterative variables are defined in the execution of the for loop\n",
    "    - often placeholder variables like i or x\n",
    "    - Loop will run until it it out of items in the iterable\n",
    "    - The iterable is going to look like a list, dictionary, tuple, a range, a dataframe, or anything else that contains multiple things to do an action on.\n",
    "### WHILE LOOPS:\n",
    "    - Run until a condition is no longer met\n",
    "    - WHILE (statement that is True): do thing\n",
    "    - WHILE TRUE will run forever\n",
    "    - VERY EASY TO MAKE INFINITE LOOPS (be careful!)\n",
    "### LOOPS IN GENERAL:\n",
    "    - To exit inside of a loop:\n",
    "    - break\n",
    "    - To pass to the next iteration of a loop:\n",
    "    - continue"
   ]
  },
  {
   "cell_type": "markdown",
   "id": "021daada-a89e-488c-9082-c8a9c1ca3fe0",
   "metadata": {},
   "source": [
    "### Extra note:\n",
    " - Indentation matters!!\n",
    " - Look at the levels of indentation for loops and if statements.\n",
    " - If we are at a indented level past the rest of the logic, we are NESTED."
   ]
  },
  {
   "cell_type": "code",
   "execution_count": null,
   "id": "6073aade-9ac8-44ee-87bb-fcf381402da5",
   "metadata": {},
   "outputs": [],
   "source": []
  }
 ],
 "metadata": {
  "kernelspec": {
   "display_name": "Python 3 (ipykernel)",
   "language": "python",
   "name": "python3"
  },
  "language_info": {
   "codemirror_mode": {
    "name": "ipython",
    "version": 3
   },
   "file_extension": ".py",
   "mimetype": "text/x-python",
   "name": "python",
   "nbconvert_exporter": "python",
   "pygments_lexer": "ipython3",
   "version": "3.11.2"
  }
 },
 "nbformat": 4,
 "nbformat_minor": 5
}
