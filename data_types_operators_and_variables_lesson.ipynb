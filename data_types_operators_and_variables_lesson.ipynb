{
 "cells": [
  {
   "cell_type": "markdown",
   "id": "2e6b3986",
   "metadata": {},
   "source": [
    "# Data Types, Operators & Variables Lesson"
   ]
  },
  {
   "cell_type": "markdown",
   "id": "8513d725",
   "metadata": {},
   "source": [
    "<hr style=\"border:2px solid gray\">"
   ]
  },
  {
   "cell_type": "markdown",
   "id": "9f396e71",
   "metadata": {},
   "source": [
    "<div class=\"alert alert-block alert-info\">\n",
    "<b>Quick Lesson:</b> Let's discuss markdown for Jupyter Notebook first</div>"
   ]
  },
  {
   "cell_type": "markdown",
   "id": "fca395ec",
   "metadata": {},
   "source": [
    "# This is a markdown cell"
   ]
  },
  {
   "cell_type": "markdown",
   "id": "525fb101",
   "metadata": {},
   "source": [
    "## This is a markdown cell"
   ]
  },
  {
   "cell_type": "markdown",
   "id": "a1969108",
   "metadata": {},
   "source": [
    "### This is a markdown cell"
   ]
  },
  {
   "cell_type": "markdown",
   "id": "a152bc6a",
   "metadata": {},
   "source": [
    "* this is a bullet\n",
    "    * this is a sub bullet"
   ]
  },
  {
   "cell_type": "markdown",
   "id": "31974048",
   "metadata": {},
   "source": [
    "1. This is a numbered line\n",
    "2. This is a numbered line"
   ]
  },
  {
   "cell_type": "markdown",
   "id": "51af7f4a",
   "metadata": {},
   "source": [
    "<hr style=\"border:2px solid gray\">"
   ]
  },
  {
   "cell_type": "markdown",
   "id": "ebc3833c",
   "metadata": {},
   "source": [
    "# Python Data Types\n",
    "## Booleans"
   ]
  },
  {
   "cell_type": "code",
   "execution_count": 1,
   "id": "bedf18fa",
   "metadata": {},
   "outputs": [
    {
     "data": {
      "text/plain": [
       "True"
      ]
     },
     "execution_count": 1,
     "metadata": {},
     "output_type": "execute_result"
    }
   ],
   "source": [
    "True"
   ]
  },
  {
   "cell_type": "code",
   "execution_count": 2,
   "id": "4433922d",
   "metadata": {},
   "outputs": [
    {
     "data": {
      "text/plain": [
       "False"
      ]
     },
     "execution_count": 2,
     "metadata": {},
     "output_type": "execute_result"
    }
   ],
   "source": [
    "False"
   ]
  },
  {
   "cell_type": "code",
   "execution_count": 3,
   "id": "cef3b4d0",
   "metadata": {},
   "outputs": [
    {
     "data": {
      "text/plain": [
       "True"
      ]
     },
     "execution_count": 3,
     "metadata": {},
     "output_type": "execute_result"
    }
   ],
   "source": [
    "True == True"
   ]
  },
  {
   "cell_type": "code",
   "execution_count": 4,
   "id": "4ddb034c",
   "metadata": {},
   "outputs": [
    {
     "data": {
      "text/plain": [
       "False"
      ]
     },
     "execution_count": 4,
     "metadata": {},
     "output_type": "execute_result"
    }
   ],
   "source": [
    "True == False"
   ]
  },
  {
   "cell_type": "code",
   "execution_count": 5,
   "id": "6dd08346",
   "metadata": {},
   "outputs": [
    {
     "data": {
      "text/plain": [
       "False"
      ]
     },
     "execution_count": 5,
     "metadata": {},
     "output_type": "execute_result"
    }
   ],
   "source": [
    "True != True"
   ]
  },
  {
   "cell_type": "code",
   "execution_count": 6,
   "id": "0e4c4687",
   "metadata": {},
   "outputs": [
    {
     "data": {
      "text/plain": [
       "False"
      ]
     },
     "execution_count": 6,
     "metadata": {},
     "output_type": "execute_result"
    }
   ],
   "source": [
    "not True"
   ]
  },
  {
   "cell_type": "code",
   "execution_count": 7,
   "id": "a6bb1734",
   "metadata": {},
   "outputs": [
    {
     "data": {
      "text/plain": [
       "False"
      ]
     },
     "execution_count": 7,
     "metadata": {},
     "output_type": "execute_result"
    }
   ],
   "source": [
    "True and False"
   ]
  },
  {
   "cell_type": "code",
   "execution_count": 8,
   "id": "cfeae9eb",
   "metadata": {},
   "outputs": [
    {
     "data": {
      "text/plain": [
       "True"
      ]
     },
     "execution_count": 8,
     "metadata": {},
     "output_type": "execute_result"
    }
   ],
   "source": [
    "True or True"
   ]
  },
  {
   "cell_type": "code",
   "execution_count": 9,
   "id": "2a9be87f",
   "metadata": {},
   "outputs": [
    {
     "data": {
      "text/plain": [
       "True"
      ]
     },
     "execution_count": 9,
     "metadata": {},
     "output_type": "execute_result"
    }
   ],
   "source": [
    "False or False or False or True"
   ]
  },
  {
   "cell_type": "markdown",
   "id": "0ca9e3ea",
   "metadata": {},
   "source": [
    "<hr style=\"border:1px solid gray\">"
   ]
  },
  {
   "cell_type": "markdown",
   "id": "bd3e6b55",
   "metadata": {},
   "source": [
    "# Variable Assignment"
   ]
  },
  {
   "cell_type": "code",
   "execution_count": 10,
   "id": "36a79abd",
   "metadata": {},
   "outputs": [],
   "source": [
    "x = 1"
   ]
  },
  {
   "cell_type": "code",
   "execution_count": 11,
   "id": "a8c36942",
   "metadata": {},
   "outputs": [
    {
     "data": {
      "text/plain": [
       "1"
      ]
     },
     "execution_count": 11,
     "metadata": {},
     "output_type": "execute_result"
    }
   ],
   "source": [
    "x"
   ]
  },
  {
   "cell_type": "code",
   "execution_count": 12,
   "id": "55dd975e",
   "metadata": {},
   "outputs": [],
   "source": [
    "x = 2"
   ]
  },
  {
   "cell_type": "code",
   "execution_count": 13,
   "id": "d2a44437",
   "metadata": {},
   "outputs": [
    {
     "data": {
      "text/plain": [
       "2"
      ]
     },
     "execution_count": 13,
     "metadata": {},
     "output_type": "execute_result"
    }
   ],
   "source": [
    "x"
   ]
  },
  {
   "cell_type": "code",
   "execution_count": 14,
   "id": "31c865d9",
   "metadata": {},
   "outputs": [],
   "source": [
    "it_is_july_14 = True\n",
    "it_is_july_20 = False"
   ]
  },
  {
   "cell_type": "code",
   "execution_count": 15,
   "id": "84f9e010",
   "metadata": {},
   "outputs": [
    {
     "data": {
      "text/plain": [
       "False"
      ]
     },
     "execution_count": 15,
     "metadata": {},
     "output_type": "execute_result"
    }
   ],
   "source": [
    "it_is_july_20"
   ]
  },
  {
   "cell_type": "code",
   "execution_count": 16,
   "id": "81898235",
   "metadata": {},
   "outputs": [],
   "source": [
    "x = 3"
   ]
  },
  {
   "cell_type": "code",
   "execution_count": 17,
   "id": "4e4c0680",
   "metadata": {},
   "outputs": [
    {
     "data": {
      "text/plain": [
       "True"
      ]
     },
     "execution_count": 17,
     "metadata": {},
     "output_type": "execute_result"
    }
   ],
   "source": [
    "x == 3"
   ]
  },
  {
   "cell_type": "code",
   "execution_count": 18,
   "id": "4b0d4baa",
   "metadata": {},
   "outputs": [
    {
     "data": {
      "text/plain": [
       "False"
      ]
     },
     "execution_count": 18,
     "metadata": {},
     "output_type": "execute_result"
    }
   ],
   "source": [
    "'x' == 3"
   ]
  },
  {
   "cell_type": "markdown",
   "id": "e1117a1a",
   "metadata": {},
   "source": [
    "<hr style=\"border:1px solid gray\">"
   ]
  },
  {
   "cell_type": "markdown",
   "id": "c89cc0d8",
   "metadata": {},
   "source": [
    "# Numbers"
   ]
  },
  {
   "cell_type": "code",
   "execution_count": 19,
   "id": "0b75231f",
   "metadata": {},
   "outputs": [
    {
     "data": {
      "text/plain": [
       "1"
      ]
     },
     "execution_count": 19,
     "metadata": {},
     "output_type": "execute_result"
    }
   ],
   "source": [
    "1"
   ]
  },
  {
   "cell_type": "code",
   "execution_count": 20,
   "id": "560e4eb0",
   "metadata": {},
   "outputs": [
    {
     "data": {
      "text/plain": [
       "int"
      ]
     },
     "execution_count": 20,
     "metadata": {},
     "output_type": "execute_result"
    }
   ],
   "source": [
    "type(1)"
   ]
  },
  {
   "cell_type": "code",
   "execution_count": 21,
   "id": "ad8c2529",
   "metadata": {},
   "outputs": [
    {
     "data": {
      "text/plain": [
       "float"
      ]
     },
     "execution_count": 21,
     "metadata": {},
     "output_type": "execute_result"
    }
   ],
   "source": [
    "type(1.0)"
   ]
  },
  {
   "cell_type": "code",
   "execution_count": 22,
   "id": "b87ea45b",
   "metadata": {},
   "outputs": [
    {
     "data": {
      "text/plain": [
       "10"
      ]
     },
     "execution_count": 22,
     "metadata": {},
     "output_type": "execute_result"
    }
   ],
   "source": [
    "4 + 6"
   ]
  },
  {
   "cell_type": "code",
   "execution_count": 23,
   "id": "f884e2f3",
   "metadata": {},
   "outputs": [
    {
     "data": {
      "text/plain": [
       "1.0"
      ]
     },
     "execution_count": 23,
     "metadata": {},
     "output_type": "execute_result"
    }
   ],
   "source": [
    "0.4 + 0.6"
   ]
  },
  {
   "cell_type": "code",
   "execution_count": 24,
   "id": "0bf99606",
   "metadata": {},
   "outputs": [
    {
     "data": {
      "text/plain": [
       "-1"
      ]
     },
     "execution_count": 24,
     "metadata": {},
     "output_type": "execute_result"
    }
   ],
   "source": [
    "5 - 6"
   ]
  },
  {
   "cell_type": "code",
   "execution_count": 25,
   "id": "a3c78296",
   "metadata": {},
   "outputs": [
    {
     "data": {
      "text/plain": [
       "2.0"
      ]
     },
     "execution_count": 25,
     "metadata": {},
     "output_type": "execute_result"
    }
   ],
   "source": [
    "4 / 2"
   ]
  },
  {
   "cell_type": "code",
   "execution_count": 26,
   "id": "7049dfb4",
   "metadata": {},
   "outputs": [
    {
     "data": {
      "text/plain": [
       "1"
      ]
     },
     "execution_count": 26,
     "metadata": {},
     "output_type": "execute_result"
    }
   ],
   "source": [
    "4 // 3"
   ]
  },
  {
   "cell_type": "code",
   "execution_count": 27,
   "id": "27e6d98a",
   "metadata": {},
   "outputs": [
    {
     "data": {
      "text/plain": [
       "5.2"
      ]
     },
     "execution_count": 27,
     "metadata": {},
     "output_type": "execute_result"
    }
   ],
   "source": [
    "4.2 + 1"
   ]
  },
  {
   "cell_type": "code",
   "execution_count": 28,
   "id": "8fa5bf02",
   "metadata": {},
   "outputs": [
    {
     "data": {
      "text/plain": [
       "5.0"
      ]
     },
     "execution_count": 28,
     "metadata": {},
     "output_type": "execute_result"
    }
   ],
   "source": [
    "4.0 + 1"
   ]
  },
  {
   "cell_type": "code",
   "execution_count": 29,
   "id": "817ff4d3",
   "metadata": {},
   "outputs": [
    {
     "data": {
      "text/plain": [
       "1"
      ]
     },
     "execution_count": 29,
     "metadata": {},
     "output_type": "execute_result"
    }
   ],
   "source": [
    "5 % 2"
   ]
  },
  {
   "cell_type": "code",
   "execution_count": 30,
   "id": "57fef1c5",
   "metadata": {},
   "outputs": [],
   "source": [
    "x = 2/2"
   ]
  },
  {
   "cell_type": "code",
   "execution_count": 31,
   "id": "71b29eff",
   "metadata": {},
   "outputs": [
    {
     "data": {
      "text/plain": [
       "1.0"
      ]
     },
     "execution_count": 31,
     "metadata": {},
     "output_type": "execute_result"
    }
   ],
   "source": [
    "x"
   ]
  },
  {
   "cell_type": "code",
   "execution_count": 32,
   "id": "62b81a6f",
   "metadata": {},
   "outputs": [],
   "source": [
    "y = x + 1"
   ]
  },
  {
   "cell_type": "code",
   "execution_count": 33,
   "id": "8b0c34f7",
   "metadata": {},
   "outputs": [
    {
     "data": {
      "text/plain": [
       "2.0"
      ]
     },
     "execution_count": 33,
     "metadata": {},
     "output_type": "execute_result"
    }
   ],
   "source": [
    "y"
   ]
  },
  {
   "cell_type": "code",
   "execution_count": 34,
   "id": "8d08117a",
   "metadata": {},
   "outputs": [],
   "source": [
    "x = x + 1"
   ]
  },
  {
   "cell_type": "code",
   "execution_count": 35,
   "id": "4222a5f2",
   "metadata": {},
   "outputs": [
    {
     "data": {
      "text/plain": [
       "2.0"
      ]
     },
     "execution_count": 35,
     "metadata": {},
     "output_type": "execute_result"
    }
   ],
   "source": [
    "x"
   ]
  },
  {
   "cell_type": "code",
   "execution_count": 36,
   "id": "5d95d211",
   "metadata": {},
   "outputs": [
    {
     "data": {
      "text/plain": [
       "2"
      ]
     },
     "execution_count": 36,
     "metadata": {},
     "output_type": "execute_result"
    }
   ],
   "source": [
    "int(2.0)"
   ]
  },
  {
   "cell_type": "code",
   "execution_count": 37,
   "id": "00286cd5",
   "metadata": {},
   "outputs": [
    {
     "data": {
      "text/plain": [
       "False"
      ]
     },
     "execution_count": 37,
     "metadata": {},
     "output_type": "execute_result"
    }
   ],
   "source": [
    "bool(0)"
   ]
  },
  {
   "cell_type": "code",
   "execution_count": 38,
   "id": "33b51271",
   "metadata": {},
   "outputs": [
    {
     "data": {
      "text/plain": [
       "True"
      ]
     },
     "execution_count": 38,
     "metadata": {},
     "output_type": "execute_result"
    }
   ],
   "source": [
    "bool(1)"
   ]
  },
  {
   "cell_type": "code",
   "execution_count": 39,
   "id": "bf00dd32",
   "metadata": {},
   "outputs": [
    {
     "data": {
      "text/plain": [
       "True"
      ]
     },
     "execution_count": 39,
     "metadata": {},
     "output_type": "execute_result"
    }
   ],
   "source": [
    "bool(2)"
   ]
  },
  {
   "cell_type": "code",
   "execution_count": 40,
   "id": "50d8e65b",
   "metadata": {},
   "outputs": [
    {
     "data": {
      "text/plain": [
       "True"
      ]
     },
     "execution_count": 40,
     "metadata": {},
     "output_type": "execute_result"
    }
   ],
   "source": [
    "bool(-1)"
   ]
  },
  {
   "cell_type": "code",
   "execution_count": 41,
   "id": "983cbb11",
   "metadata": {},
   "outputs": [
    {
     "data": {
      "text/plain": [
       "18"
      ]
     },
     "execution_count": 41,
     "metadata": {},
     "output_type": "execute_result"
    }
   ],
   "source": [
    "9 * 2"
   ]
  },
  {
   "cell_type": "code",
   "execution_count": 42,
   "id": "5235f987",
   "metadata": {},
   "outputs": [
    {
     "data": {
      "text/plain": [
       "81"
      ]
     },
     "execution_count": 42,
     "metadata": {},
     "output_type": "execute_result"
    }
   ],
   "source": [
    "9 ** 2"
   ]
  },
  {
   "cell_type": "code",
   "execution_count": 43,
   "id": "c0da8efb",
   "metadata": {},
   "outputs": [
    {
     "data": {
      "text/plain": [
       "True"
      ]
     },
     "execution_count": 43,
     "metadata": {},
     "output_type": "execute_result"
    }
   ],
   "source": [
    "9 > 2"
   ]
  },
  {
   "cell_type": "code",
   "execution_count": 44,
   "id": "a34fce77",
   "metadata": {},
   "outputs": [
    {
     "data": {
      "text/plain": [
       "True"
      ]
     },
     "execution_count": 44,
     "metadata": {},
     "output_type": "execute_result"
    }
   ],
   "source": [
    "9 >= 9"
   ]
  },
  {
   "cell_type": "code",
   "execution_count": 45,
   "id": "cb45b14b",
   "metadata": {},
   "outputs": [
    {
     "data": {
      "text/plain": [
       "True"
      ]
     },
     "execution_count": 45,
     "metadata": {},
     "output_type": "execute_result"
    }
   ],
   "source": [
    "9 <= 9"
   ]
  },
  {
   "cell_type": "code",
   "execution_count": 46,
   "id": "44294e7f",
   "metadata": {},
   "outputs": [
    {
     "data": {
      "text/plain": [
       "True"
      ]
     },
     "execution_count": 46,
     "metadata": {},
     "output_type": "execute_result"
    }
   ],
   "source": [
    "9 != 3"
   ]
  },
  {
   "cell_type": "markdown",
   "id": "b2aa5a6b",
   "metadata": {},
   "source": [
    "<div class=\"alert alert-block alert-info\">\n",
    "<b>NOTE:</b> \n",
    "    \n",
    "- <b>or</b>: at least <u>one</u> of the components must be true\n",
    "- <b>and</b>: <u>all</u> of the components must be true\n",
    "    </div>"
   ]
  },
  {
   "cell_type": "code",
   "execution_count": 47,
   "id": "ca0ddedd",
   "metadata": {},
   "outputs": [
    {
     "data": {
      "text/plain": [
       "True"
      ]
     },
     "execution_count": 47,
     "metadata": {},
     "output_type": "execute_result"
    }
   ],
   "source": [
    "9 > 1 or 8+3 == 5"
   ]
  },
  {
   "cell_type": "code",
   "execution_count": 48,
   "id": "fe8ff34b",
   "metadata": {},
   "outputs": [
    {
     "data": {
      "text/plain": [
       "False"
      ]
     },
     "execution_count": 48,
     "metadata": {},
     "output_type": "execute_result"
    }
   ],
   "source": [
    "9 > 1 and 8+3 == 5"
   ]
  },
  {
   "cell_type": "code",
   "execution_count": 49,
   "id": "7009815c",
   "metadata": {},
   "outputs": [
    {
     "data": {
      "text/plain": [
       "True"
      ]
     },
     "execution_count": 49,
     "metadata": {},
     "output_type": "execute_result"
    }
   ],
   "source": [
    "(9 > 1) and (2 < 3)"
   ]
  },
  {
   "cell_type": "code",
   "execution_count": 50,
   "id": "1a63c4ef",
   "metadata": {},
   "outputs": [
    {
     "data": {
      "text/plain": [
       "False"
      ]
     },
     "execution_count": 50,
     "metadata": {},
     "output_type": "execute_result"
    }
   ],
   "source": [
    "0 < (1 & 0) < 2"
   ]
  },
  {
   "cell_type": "code",
   "execution_count": 51,
   "id": "e9357f5e",
   "metadata": {},
   "outputs": [
    {
     "data": {
      "text/plain": [
       "True"
      ]
     },
     "execution_count": 51,
     "metadata": {},
     "output_type": "execute_result"
    }
   ],
   "source": [
    "0 < (1 | 0) < 2"
   ]
  },
  {
   "cell_type": "code",
   "execution_count": 52,
   "id": "920958e9",
   "metadata": {},
   "outputs": [
    {
     "data": {
      "text/plain": [
       "0.30000000000000004"
      ]
     },
     "execution_count": 52,
     "metadata": {},
     "output_type": "execute_result"
    }
   ],
   "source": [
    "0.1 + 0.2"
   ]
  },
  {
   "cell_type": "code",
   "execution_count": 53,
   "id": "ce75cffe",
   "metadata": {},
   "outputs": [
    {
     "data": {
      "text/plain": [
       "True"
      ]
     },
     "execution_count": 53,
     "metadata": {},
     "output_type": "execute_result"
    }
   ],
   "source": [
    "round(0.1 + 0.2, 1) == 0.3"
   ]
  },
  {
   "cell_type": "markdown",
   "id": "c32701b6",
   "metadata": {},
   "source": [
    "# Strings"
   ]
  },
  {
   "cell_type": "code",
   "execution_count": 54,
   "id": "d3c011f2",
   "metadata": {},
   "outputs": [
    {
     "data": {
      "text/plain": [
       "'Hello World'"
      ]
     },
     "execution_count": 54,
     "metadata": {},
     "output_type": "execute_result"
    }
   ],
   "source": [
    "#single quotes work\n",
    "'Hello World'"
   ]
  },
  {
   "cell_type": "code",
   "execution_count": 55,
   "id": "bbb492b9",
   "metadata": {},
   "outputs": [
    {
     "data": {
      "text/plain": [
       "'Hello World'"
      ]
     },
     "execution_count": 55,
     "metadata": {},
     "output_type": "execute_result"
    }
   ],
   "source": [
    "#double quotes work as well\n",
    "\"Hello World\""
   ]
  },
  {
   "cell_type": "code",
   "execution_count": 161,
   "id": "b9f2472e",
   "metadata": {},
   "outputs": [
    {
     "ename": "SyntaxError",
     "evalue": "invalid syntax (3063188544.py, line 3)",
     "output_type": "error",
     "traceback": [
      "\u001b[0;36m  Input \u001b[0;32mIn [161]\u001b[0;36m\u001b[0m\n\u001b[0;31m    'Hello World's\u001b[0m\n\u001b[0m                 ^\u001b[0m\n\u001b[0;31mSyntaxError\u001b[0m\u001b[0;31m:\u001b[0m invalid syntax\n"
     ]
    }
   ],
   "source": [
    "#here we will get an error because\n",
    "##Python thinks we are ending the string at 'd'\n",
    "'Hello World's"
   ]
  },
  {
   "cell_type": "code",
   "execution_count": 162,
   "id": "448d12bb",
   "metadata": {},
   "outputs": [
    {
     "data": {
      "text/plain": [
       "\"Hello World's\""
      ]
     },
     "execution_count": 162,
     "metadata": {},
     "output_type": "execute_result"
    }
   ],
   "source": [
    "#we can fix the error by using double quotes\n",
    "\"Hello World's\""
   ]
  },
  {
   "cell_type": "code",
   "execution_count": 57,
   "id": "9f230a5d",
   "metadata": {},
   "outputs": [
    {
     "data": {
      "text/plain": [
       "\"Hello World's\""
      ]
     },
     "execution_count": 57,
     "metadata": {},
     "output_type": "execute_result"
    }
   ],
   "source": [
    "#or by using the escape character \\\n",
    "'Hello World\\'s'"
   ]
  },
  {
   "cell_type": "code",
   "execution_count": 58,
   "id": "4c82759a",
   "metadata": {},
   "outputs": [
    {
     "data": {
      "text/plain": [
       "'\\nThis is a multi string line\\nHello world\\n'"
      ]
     },
     "execution_count": 58,
     "metadata": {},
     "output_type": "execute_result"
    }
   ],
   "source": [
    "\"\"\"\n",
    "This is a multi string line\n",
    "Hello world\n",
    "\"\"\""
   ]
  },
  {
   "cell_type": "code",
   "execution_count": 59,
   "id": "a95a922d",
   "metadata": {},
   "outputs": [
    {
     "name": "stdout",
     "output_type": "stream",
     "text": [
      "Hello World\n"
     ]
    }
   ],
   "source": [
    "#a print statement\n",
    "print('Hello World')"
   ]
  },
  {
   "cell_type": "code",
   "execution_count": 60,
   "id": "185c767f",
   "metadata": {},
   "outputs": [
    {
     "data": {
      "text/plain": [
       "False"
      ]
     },
     "execution_count": 60,
     "metadata": {},
     "output_type": "execute_result"
    }
   ],
   "source": [
    "'hello' == 'world'"
   ]
  },
  {
   "cell_type": "code",
   "execution_count": 61,
   "id": "f1454616",
   "metadata": {},
   "outputs": [
    {
     "data": {
      "text/plain": [
       "True"
      ]
     },
     "execution_count": 61,
     "metadata": {},
     "output_type": "execute_result"
    }
   ],
   "source": [
    "'hello' == 'hello'"
   ]
  },
  {
   "cell_type": "code",
   "execution_count": 62,
   "id": "d77c5799",
   "metadata": {},
   "outputs": [
    {
     "data": {
      "text/plain": [
       "'abcdef'"
      ]
     },
     "execution_count": 62,
     "metadata": {},
     "output_type": "execute_result"
    }
   ],
   "source": [
    "#we can add two strings together (concatinate)\n",
    "'abc' + 'def'"
   ]
  },
  {
   "cell_type": "code",
   "execution_count": 63,
   "id": "5c67f2b8",
   "metadata": {},
   "outputs": [
    {
     "ename": "TypeError",
     "evalue": "can only concatenate str (not \"int\") to str",
     "output_type": "error",
     "traceback": [
      "\u001b[0;31m---------------------------------------------------------------------------\u001b[0m",
      "\u001b[0;31mTypeError\u001b[0m                                 Traceback (most recent call last)",
      "Input \u001b[0;32mIn [63]\u001b[0m, in \u001b[0;36m<cell line: 1>\u001b[0;34m()\u001b[0m\n\u001b[0;32m----> 1\u001b[0m \u001b[38;5;124;43m'\u001b[39;49m\u001b[38;5;124;43m2\u001b[39;49m\u001b[38;5;124;43m'\u001b[39;49m\u001b[43m \u001b[49m\u001b[38;5;241;43m+\u001b[39;49m\u001b[43m \u001b[49m\u001b[38;5;241;43m1\u001b[39;49m\n",
      "\u001b[0;31mTypeError\u001b[0m: can only concatenate str (not \"int\") to str"
     ]
    }
   ],
   "source": [
    "#but we cannot add different datatypes to eachother\n",
    "'2' + 1"
   ]
  },
  {
   "cell_type": "code",
   "execution_count": 64,
   "id": "6db4c573",
   "metadata": {},
   "outputs": [
    {
     "data": {
      "text/plain": [
       "3"
      ]
     },
     "execution_count": 64,
     "metadata": {},
     "output_type": "execute_result"
    }
   ],
   "source": [
    "#if we change the string to an integer, we can add them\n",
    "int('2') + 1"
   ]
  },
  {
   "cell_type": "code",
   "execution_count": 65,
   "id": "037ae7b8",
   "metadata": {},
   "outputs": [
    {
     "data": {
      "text/plain": [
       "'2'"
      ]
     },
     "execution_count": 65,
     "metadata": {},
     "output_type": "execute_result"
    }
   ],
   "source": [
    "#convert an int to a str\n",
    "str(2)"
   ]
  },
  {
   "cell_type": "code",
   "execution_count": 66,
   "id": "ca3a9f9b",
   "metadata": {},
   "outputs": [
    {
     "ename": "ValueError",
     "evalue": "invalid literal for int() with base 10: 's'",
     "output_type": "error",
     "traceback": [
      "\u001b[0;31m---------------------------------------------------------------------------\u001b[0m",
      "\u001b[0;31mValueError\u001b[0m                                Traceback (most recent call last)",
      "Input \u001b[0;32mIn [66]\u001b[0m, in \u001b[0;36m<cell line: 1>\u001b[0;34m()\u001b[0m\n\u001b[0;32m----> 1\u001b[0m \u001b[38;5;28;43mint\u001b[39;49m\u001b[43m(\u001b[49m\u001b[38;5;124;43m'\u001b[39;49m\u001b[38;5;124;43ms\u001b[39;49m\u001b[38;5;124;43m'\u001b[39;49m\u001b[43m)\u001b[49m\n",
      "\u001b[0;31mValueError\u001b[0m: invalid literal for int() with base 10: 's'"
     ]
    }
   ],
   "source": [
    "#but we cannot convert a str to an int\n",
    "int('s')"
   ]
  },
  {
   "cell_type": "code",
   "execution_count": 67,
   "id": "39bd3b94",
   "metadata": {},
   "outputs": [],
   "source": [
    "pie = 3.14"
   ]
  },
  {
   "cell_type": "code",
   "execution_count": 68,
   "id": "dd8e4acc",
   "metadata": {},
   "outputs": [
    {
     "data": {
      "text/plain": [
       "4.140000000000001"
      ]
     },
     "execution_count": 68,
     "metadata": {},
     "output_type": "execute_result"
    }
   ],
   "source": [
    "pie + 1"
   ]
  },
  {
   "cell_type": "code",
   "execution_count": 69,
   "id": "3f2c1998",
   "metadata": {},
   "outputs": [
    {
     "data": {
      "text/plain": [
       "'abc def'"
      ]
     },
     "execution_count": 69,
     "metadata": {},
     "output_type": "execute_result"
    }
   ],
   "source": [
    "#to add a space between strings\n",
    "'abc' + ' ' +'def'"
   ]
  },
  {
   "cell_type": "code",
   "execution_count": 70,
   "id": "9b154987",
   "metadata": {},
   "outputs": [
    {
     "data": {
      "text/plain": [
       "'21'"
      ]
     },
     "execution_count": 70,
     "metadata": {},
     "output_type": "execute_result"
    }
   ],
   "source": [
    "'2' + str(1)"
   ]
  },
  {
   "cell_type": "code",
   "execution_count": 73,
   "id": "c44daccb",
   "metadata": {},
   "outputs": [
    {
     "name": "stdout",
     "output_type": "stream",
     "text": [
      "Enter your password here: tasha is the best\n"
     ]
    }
   ],
   "source": [
    "#input will allow the user to input whatever they want \n",
    "my_response = input('Enter your password here: ')"
   ]
  },
  {
   "cell_type": "code",
   "execution_count": 74,
   "id": "5094aad0",
   "metadata": {},
   "outputs": [
    {
     "data": {
      "text/plain": [
       "'tasha is the best'"
      ]
     },
     "execution_count": 74,
     "metadata": {},
     "output_type": "execute_result"
    }
   ],
   "source": [
    "my_response"
   ]
  },
  {
   "cell_type": "markdown",
   "id": "64001d69",
   "metadata": {},
   "source": [
    "# String Formatting"
   ]
  },
  {
   "cell_type": "code",
   "execution_count": 80,
   "id": "9e4f917a",
   "metadata": {},
   "outputs": [],
   "source": [
    "name = 'Tasha'"
   ]
  },
  {
   "cell_type": "code",
   "execution_count": 81,
   "id": "83ca4833",
   "metadata": {},
   "outputs": [
    {
     "data": {
      "text/plain": [
       "'Tasha'"
      ]
     },
     "execution_count": 81,
     "metadata": {},
     "output_type": "execute_result"
    }
   ],
   "source": [
    "name"
   ]
  },
  {
   "cell_type": "code",
   "execution_count": 82,
   "id": "4564de0d",
   "metadata": {},
   "outputs": [
    {
     "data": {
      "text/plain": [
       "'Hello Tasha'"
      ]
     },
     "execution_count": 82,
     "metadata": {},
     "output_type": "execute_result"
    }
   ],
   "source": [
    "'Hello %s' % name"
   ]
  },
  {
   "cell_type": "code",
   "execution_count": 83,
   "id": "aa09466a",
   "metadata": {},
   "outputs": [
    {
     "data": {
      "text/plain": [
       "'Hello Tasha, Aswathy'"
      ]
     },
     "execution_count": 83,
     "metadata": {},
     "output_type": "execute_result"
    }
   ],
   "source": [
    "'Hello %s, %s' % (name, 'Aswathy')"
   ]
  },
  {
   "cell_type": "code",
   "execution_count": 84,
   "id": "3bfc182b",
   "metadata": {},
   "outputs": [
    {
     "data": {
      "text/plain": [
       "'Hello Tasha, Aswathy, Colton'"
      ]
     },
     "execution_count": 84,
     "metadata": {},
     "output_type": "execute_result"
    }
   ],
   "source": [
    "'Hello %s, %s, %s' % (name, 'Aswathy', 'Colton')"
   ]
  },
  {
   "cell_type": "code",
   "execution_count": 85,
   "id": "a0298883",
   "metadata": {},
   "outputs": [
    {
     "data": {
      "text/plain": [
       "'Hello Tasha, Aswathy, Colton'"
      ]
     },
     "execution_count": 85,
     "metadata": {},
     "output_type": "execute_result"
    }
   ],
   "source": [
    "'Hello {}, {}, {}'.format(name, 'Aswathy', 'Colton')"
   ]
  },
  {
   "cell_type": "code",
   "execution_count": 86,
   "id": "f1ec6b54",
   "metadata": {},
   "outputs": [
    {
     "data": {
      "text/plain": [
       "'Hello Tasha, Aswathy, 1'"
      ]
     },
     "execution_count": 86,
     "metadata": {},
     "output_type": "execute_result"
    }
   ],
   "source": [
    "f\"Hello {name}, {'Aswathy'}, {0+1}\""
   ]
  },
  {
   "cell_type": "code",
   "execution_count": 87,
   "id": "7bed952f",
   "metadata": {},
   "outputs": [],
   "source": [
    "name = ['Tasha', 'Aswathy', 'Colton']"
   ]
  },
  {
   "cell_type": "code",
   "execution_count": 88,
   "id": "227e7d4c",
   "metadata": {
    "scrolled": true
   },
   "outputs": [
    {
     "data": {
      "text/plain": [
       "\"Hello ['Tasha', 'Aswathy', 'Colton']\""
      ]
     },
     "execution_count": 88,
     "metadata": {},
     "output_type": "execute_result"
    }
   ],
   "source": [
    "f\"Hello {name}\""
   ]
  },
  {
   "cell_type": "code",
   "execution_count": 89,
   "id": "384b3b73",
   "metadata": {},
   "outputs": [
    {
     "data": {
      "text/plain": [
       "3"
      ]
     },
     "execution_count": 89,
     "metadata": {},
     "output_type": "execute_result"
    }
   ],
   "source": [
    "#This is a mathematical operation\n",
    "1+2 "
   ]
  },
  {
   "cell_type": "markdown",
   "id": "94670703",
   "metadata": {},
   "source": [
    "# String Methods"
   ]
  },
  {
   "cell_type": "code",
   "execution_count": 90,
   "id": "681ef124",
   "metadata": {},
   "outputs": [
    {
     "data": {
      "text/plain": [
       "'hello'"
      ]
     },
     "execution_count": 90,
     "metadata": {},
     "output_type": "execute_result"
    }
   ],
   "source": [
    "#lowercase the entire string\n",
    "'HELLO'.lower()"
   ]
  },
  {
   "cell_type": "code",
   "execution_count": 91,
   "id": "699b5dbd",
   "metadata": {},
   "outputs": [
    {
     "data": {
      "text/plain": [
       "'hello'"
      ]
     },
     "execution_count": 91,
     "metadata": {},
     "output_type": "execute_result"
    }
   ],
   "source": [
    "str.lower('hello')"
   ]
  },
  {
   "cell_type": "code",
   "execution_count": 92,
   "id": "46d54d7e",
   "metadata": {},
   "outputs": [
    {
     "data": {
      "text/plain": [
       "'HELLO'"
      ]
     },
     "execution_count": 92,
     "metadata": {},
     "output_type": "execute_result"
    }
   ],
   "source": [
    "#capitalize the entire string\n",
    "'hello'.upper()"
   ]
  },
  {
   "cell_type": "code",
   "execution_count": 93,
   "id": "1e583c49",
   "metadata": {},
   "outputs": [
    {
     "data": {
      "text/plain": [
       "'hello'"
      ]
     },
     "execution_count": 93,
     "metadata": {},
     "output_type": "execute_result"
    }
   ],
   "source": [
    "#operations are in sequence\n",
    "'hello'.upper().lower()"
   ]
  },
  {
   "cell_type": "code",
   "execution_count": 94,
   "id": "53bed0c9",
   "metadata": {
    "scrolled": true
   },
   "outputs": [
    {
     "data": {
      "text/plain": [
       "'He'"
      ]
     },
     "execution_count": 94,
     "metadata": {},
     "output_type": "execute_result"
    }
   ],
   "source": [
    "#strips all the white space and the requested items\n",
    "\"       Hello      \".strip(' lo')"
   ]
  },
  {
   "cell_type": "code",
   "execution_count": 95,
   "id": "8740ff8e",
   "metadata": {},
   "outputs": [
    {
     "data": {
      "text/plain": [
       "True"
      ]
     },
     "execution_count": 95,
     "metadata": {},
     "output_type": "execute_result"
    }
   ],
   "source": [
    "#asking Pythin is this string consist of digits\n",
    "'123'.isdigit()"
   ]
  },
  {
   "cell_type": "code",
   "execution_count": 96,
   "id": "a9aa942f",
   "metadata": {},
   "outputs": [
    {
     "data": {
      "text/plain": [
       "False"
      ]
     },
     "execution_count": 96,
     "metadata": {},
     "output_type": "execute_result"
    }
   ],
   "source": [
    "#asking Pythin is this string consist of digits\n",
    "'A123'.isdigit()"
   ]
  },
  {
   "cell_type": "code",
   "execution_count": 97,
   "id": "b2911bc6",
   "metadata": {},
   "outputs": [
    {
     "data": {
      "text/plain": [
       "'Hello Robinson'"
      ]
     },
     "execution_count": 97,
     "metadata": {},
     "output_type": "execute_result"
    }
   ],
   "source": [
    "'Hello Robinson'"
   ]
  },
  {
   "cell_type": "code",
   "execution_count": 98,
   "id": "55819208",
   "metadata": {},
   "outputs": [
    {
     "data": {
      "text/plain": [
       "['Hello', 'Robinson']"
      ]
     },
     "execution_count": 98,
     "metadata": {},
     "output_type": "execute_result"
    }
   ],
   "source": [
    "#split defaults to white space\n",
    "'Hello Robinson'.split()"
   ]
  },
  {
   "cell_type": "code",
   "execution_count": 99,
   "id": "887299c3",
   "metadata": {},
   "outputs": [
    {
     "data": {
      "text/plain": [
       "['Hello', 'Robinson']"
      ]
     },
     "execution_count": 99,
     "metadata": {},
     "output_type": "execute_result"
    }
   ],
   "source": [
    "#or we can specify where to split\n",
    "'Hello,Robinson'.split(',')"
   ]
  },
  {
   "cell_type": "code",
   "execution_count": 100,
   "id": "d21d1866",
   "metadata": {},
   "outputs": [
    {
     "data": {
      "text/plain": [
       "['a', 'a', 'a', 'a', 'a', 'a', 'a']"
      ]
     },
     "execution_count": 100,
     "metadata": {},
     "output_type": "execute_result"
    }
   ],
   "source": [
    "'ababababababa'.split('b')"
   ]
  },
  {
   "cell_type": "code",
   "execution_count": 101,
   "id": "dc8d6b17",
   "metadata": {},
   "outputs": [
    {
     "data": {
      "text/plain": [
       "'heo'"
      ]
     },
     "execution_count": 101,
     "metadata": {},
     "output_type": "execute_result"
    }
   ],
   "source": [
    "#replacing the l with nothing\n",
    "'hello'.replace('l', '')"
   ]
  },
  {
   "cell_type": "code",
   "execution_count": 102,
   "id": "48ec9a30",
   "metadata": {},
   "outputs": [
    {
     "data": {
      "text/plain": [
       "'hello madeleine'"
      ]
     },
     "execution_count": 102,
     "metadata": {},
     "output_type": "execute_result"
    }
   ],
   "source": [
    "'hello tasha'.replace('tasha', 'madeleine')"
   ]
  },
  {
   "cell_type": "code",
   "execution_count": 103,
   "id": "b46dc319",
   "metadata": {},
   "outputs": [],
   "source": [
    "greeting = 'Hello Robinson'.split()"
   ]
  },
  {
   "cell_type": "code",
   "execution_count": 104,
   "id": "4950b92f",
   "metadata": {},
   "outputs": [
    {
     "data": {
      "text/plain": [
       "['Hello', 'Robinson']"
      ]
     },
     "execution_count": 104,
     "metadata": {},
     "output_type": "execute_result"
    }
   ],
   "source": [
    "greeting"
   ]
  },
  {
   "cell_type": "code",
   "execution_count": 105,
   "id": "b286d269",
   "metadata": {},
   "outputs": [
    {
     "data": {
      "text/plain": [
       "'Hello Robinson'"
      ]
     },
     "execution_count": 105,
     "metadata": {},
     "output_type": "execute_result"
    }
   ],
   "source": [
    "' '.join(greeting)"
   ]
  },
  {
   "cell_type": "code",
   "execution_count": 106,
   "id": "46ac15f7",
   "metadata": {},
   "outputs": [
    {
     "data": {
      "text/plain": [
       "'Hello Robinson'"
      ]
     },
     "execution_count": 106,
     "metadata": {},
     "output_type": "execute_result"
    }
   ],
   "source": [
    "' '.join(['Hello', 'Robinson'])"
   ]
  },
  {
   "cell_type": "code",
   "execution_count": 107,
   "id": "5e31c2f1",
   "metadata": {},
   "outputs": [
    {
     "data": {
      "text/plain": [
       "'HelloRobinson'"
      ]
     },
     "execution_count": 107,
     "metadata": {},
     "output_type": "execute_result"
    }
   ],
   "source": [
    "''.join(['Hello', 'Robinson'])"
   ]
  },
  {
   "cell_type": "code",
   "execution_count": 108,
   "id": "2f31f968",
   "metadata": {},
   "outputs": [],
   "source": [
    "space = ' '"
   ]
  },
  {
   "cell_type": "code",
   "execution_count": 109,
   "id": "ebea7227",
   "metadata": {},
   "outputs": [
    {
     "data": {
      "text/plain": [
       "'Hello Robinson'"
      ]
     },
     "execution_count": 109,
     "metadata": {},
     "output_type": "execute_result"
    }
   ],
   "source": [
    "space.join(['Hello', 'Robinson'])"
   ]
  },
  {
   "cell_type": "markdown",
   "id": "786f369d",
   "metadata": {},
   "source": [
    "# Lists"
   ]
  },
  {
   "cell_type": "code",
   "execution_count": 110,
   "id": "0ec43bc9",
   "metadata": {},
   "outputs": [],
   "source": [
    "#creating a list\n",
    "my_list = [1, 2, 3]"
   ]
  },
  {
   "cell_type": "code",
   "execution_count": 111,
   "id": "0975fa45",
   "metadata": {},
   "outputs": [
    {
     "data": {
      "text/plain": [
       "3"
      ]
     },
     "execution_count": 111,
     "metadata": {},
     "output_type": "execute_result"
    }
   ],
   "source": [
    "#lists begin at index 0\n",
    "my_list[2]"
   ]
  },
  {
   "cell_type": "code",
   "execution_count": 112,
   "id": "e48e1105",
   "metadata": {},
   "outputs": [],
   "source": [
    "my_list = [4, 8, 15]"
   ]
  },
  {
   "cell_type": "code",
   "execution_count": 113,
   "id": "92c6beb2",
   "metadata": {},
   "outputs": [
    {
     "ename": "IndexError",
     "evalue": "list index out of range",
     "output_type": "error",
     "traceback": [
      "\u001b[0;31m---------------------------------------------------------------------------\u001b[0m",
      "\u001b[0;31mIndexError\u001b[0m                                Traceback (most recent call last)",
      "Input \u001b[0;32mIn [113]\u001b[0m, in \u001b[0;36m<cell line: 1>\u001b[0;34m()\u001b[0m\n\u001b[0;32m----> 1\u001b[0m \u001b[43mmy_list\u001b[49m\u001b[43m[\u001b[49m\u001b[38;5;241;43m3\u001b[39;49m\u001b[43m]\u001b[49m\n",
      "\u001b[0;31mIndexError\u001b[0m: list index out of range"
     ]
    }
   ],
   "source": [
    "#there is no 3rd index, so we get an error\n",
    "my_list[3]"
   ]
  },
  {
   "cell_type": "code",
   "execution_count": 114,
   "id": "6065de69",
   "metadata": {},
   "outputs": [],
   "source": [
    "#lists can also be a list of strings\n",
    "my_list2 = ['one', 'two', 'three']"
   ]
  },
  {
   "cell_type": "code",
   "execution_count": 115,
   "id": "3c430a20",
   "metadata": {},
   "outputs": [
    {
     "data": {
      "text/plain": [
       "'one'"
      ]
     },
     "execution_count": 115,
     "metadata": {},
     "output_type": "execute_result"
    }
   ],
   "source": [
    "my_list2[0]"
   ]
  },
  {
   "cell_type": "code",
   "execution_count": 116,
   "id": "41bd6cea",
   "metadata": {},
   "outputs": [],
   "source": [
    "x = 1"
   ]
  },
  {
   "cell_type": "code",
   "execution_count": 117,
   "id": "7a32ad47",
   "metadata": {},
   "outputs": [],
   "source": [
    "my_list3 = [x, 4, '3']"
   ]
  },
  {
   "cell_type": "code",
   "execution_count": 118,
   "id": "e0272267",
   "metadata": {},
   "outputs": [
    {
     "data": {
      "text/plain": [
       "'3'"
      ]
     },
     "execution_count": 118,
     "metadata": {},
     "output_type": "execute_result"
    }
   ],
   "source": [
    "my_list3[2]"
   ]
  },
  {
   "cell_type": "code",
   "execution_count": 119,
   "id": "d05bf295",
   "metadata": {},
   "outputs": [],
   "source": [
    "my_list = [1,2,3,4,5]"
   ]
  },
  {
   "cell_type": "code",
   "execution_count": 120,
   "id": "f2677441",
   "metadata": {},
   "outputs": [
    {
     "data": {
      "text/plain": [
       "[1, 2, 3, 4, 5]"
      ]
     },
     "execution_count": 120,
     "metadata": {},
     "output_type": "execute_result"
    }
   ],
   "source": [
    "my_list[0:]"
   ]
  },
  {
   "cell_type": "code",
   "execution_count": 121,
   "id": "c274d4fd",
   "metadata": {},
   "outputs": [
    {
     "data": {
      "text/plain": [
       "[1, 2, 3, 4]"
      ]
     },
     "execution_count": 121,
     "metadata": {},
     "output_type": "execute_result"
    }
   ],
   "source": [
    "my_list[:4]"
   ]
  },
  {
   "cell_type": "code",
   "execution_count": 122,
   "id": "604b8886",
   "metadata": {},
   "outputs": [],
   "source": [
    "my_list_of_lists = [[1,2,3], [4,5,6]]"
   ]
  },
  {
   "cell_type": "code",
   "execution_count": 123,
   "id": "c7a9c536",
   "metadata": {},
   "outputs": [
    {
     "data": {
      "text/plain": [
       "[5, 6]"
      ]
     },
     "execution_count": 123,
     "metadata": {},
     "output_type": "execute_result"
    }
   ],
   "source": [
    "my_list_of_lists[1][1:]"
   ]
  },
  {
   "cell_type": "code",
   "execution_count": 124,
   "id": "7df4ffb6",
   "metadata": {},
   "outputs": [
    {
     "data": {
      "text/plain": [
       "[1, 2, 3, 4, 5, 6, 7, 8, 9, 10]"
      ]
     },
     "execution_count": 124,
     "metadata": {},
     "output_type": "execute_result"
    }
   ],
   "source": [
    "list(range(1, 11))"
   ]
  },
  {
   "cell_type": "markdown",
   "id": "ba9cbb23",
   "metadata": {},
   "source": [
    "# List Methods"
   ]
  },
  {
   "cell_type": "code",
   "execution_count": 125,
   "id": "2332adb4",
   "metadata": {},
   "outputs": [],
   "source": [
    "#we can also ask Python to create a list for us using range function\n",
    "list_of_nums = list(range(1, 11))"
   ]
  },
  {
   "cell_type": "code",
   "execution_count": 126,
   "id": "6e82d225",
   "metadata": {},
   "outputs": [
    {
     "data": {
      "text/plain": [
       "[1, 2, 3, 4, 5, 6, 7, 8, 9, 10]"
      ]
     },
     "execution_count": 126,
     "metadata": {},
     "output_type": "execute_result"
    }
   ],
   "source": [
    "list_of_nums"
   ]
  },
  {
   "cell_type": "code",
   "execution_count": 127,
   "id": "999b531c",
   "metadata": {},
   "outputs": [],
   "source": [
    "#add the number 11 to our list\n",
    "list_of_nums.append(11)"
   ]
  },
  {
   "cell_type": "code",
   "execution_count": 128,
   "id": "cf3f52a0",
   "metadata": {},
   "outputs": [
    {
     "data": {
      "text/plain": [
       "[1, 2, 3, 4, 5, 6, 7, 8, 9, 10, 11]"
      ]
     },
     "execution_count": 128,
     "metadata": {},
     "output_type": "execute_result"
    }
   ],
   "source": [
    "list_of_nums"
   ]
  },
  {
   "cell_type": "code",
   "execution_count": 129,
   "id": "2bacf5ce",
   "metadata": {},
   "outputs": [
    {
     "data": {
      "text/plain": [
       "11"
      ]
     },
     "execution_count": 129,
     "metadata": {},
     "output_type": "execute_result"
    }
   ],
   "source": [
    "#remove the number 11 from our list\n",
    "#this is telling us what number is removed, NOT giving us the list\n",
    "list_of_nums.pop()"
   ]
  },
  {
   "cell_type": "code",
   "execution_count": 130,
   "id": "b83a777b",
   "metadata": {},
   "outputs": [
    {
     "data": {
      "text/plain": [
       "10"
      ]
     },
     "execution_count": 130,
     "metadata": {},
     "output_type": "execute_result"
    }
   ],
   "source": [
    "list_of_nums.pop()"
   ]
  },
  {
   "cell_type": "code",
   "execution_count": 131,
   "id": "965381eb",
   "metadata": {},
   "outputs": [
    {
     "data": {
      "text/plain": [
       "[1, 2, 3, 4, 5, 6, 7, 8, 9]"
      ]
     },
     "execution_count": 131,
     "metadata": {},
     "output_type": "execute_result"
    }
   ],
   "source": [
    "#Now, let's call the list\n",
    "list_of_nums"
   ]
  },
  {
   "cell_type": "code",
   "execution_count": 132,
   "id": "4a79ed0c",
   "metadata": {},
   "outputs": [],
   "source": [
    "list_of_nums.append(9)"
   ]
  },
  {
   "cell_type": "code",
   "execution_count": 133,
   "id": "2d6ae2f2",
   "metadata": {},
   "outputs": [
    {
     "data": {
      "text/plain": [
       "[1, 2, 3, 4, 5, 6, 7, 8, 9, 9]"
      ]
     },
     "execution_count": 133,
     "metadata": {},
     "output_type": "execute_result"
    }
   ],
   "source": [
    "list_of_nums"
   ]
  },
  {
   "cell_type": "code",
   "execution_count": 134,
   "id": "cbfb6d7d",
   "metadata": {},
   "outputs": [
    {
     "data": {
      "text/plain": [
       "10"
      ]
     },
     "execution_count": 134,
     "metadata": {},
     "output_type": "execute_result"
    }
   ],
   "source": [
    "#to see how many items are within the list\n",
    "len(list_of_nums)"
   ]
  },
  {
   "cell_type": "code",
   "execution_count": 135,
   "id": "8aee7480",
   "metadata": {},
   "outputs": [
    {
     "data": {
      "text/plain": [
       "11"
      ]
     },
     "execution_count": 135,
     "metadata": {},
     "output_type": "execute_result"
    }
   ],
   "source": [
    "#how many characters are in the string\n",
    "len('hello world')"
   ]
  },
  {
   "cell_type": "code",
   "execution_count": 136,
   "id": "5801bc4e",
   "metadata": {},
   "outputs": [
    {
     "data": {
      "text/plain": [
       "2"
      ]
     },
     "execution_count": 136,
     "metadata": {},
     "output_type": "execute_result"
    }
   ],
   "source": [
    "#how many lists are there\n",
    "len([[1,2,3], [4,5,6]])"
   ]
  },
  {
   "cell_type": "code",
   "execution_count": 137,
   "id": "aa308203",
   "metadata": {},
   "outputs": [],
   "source": [
    "#create a list of ints, str, and lists\n",
    "list_of_random_stuff = [1, 'hello', [1,2,3]]"
   ]
  },
  {
   "cell_type": "code",
   "execution_count": 138,
   "id": "a54d6021",
   "metadata": {},
   "outputs": [
    {
     "data": {
      "text/plain": [
       "list"
      ]
     },
     "execution_count": 138,
     "metadata": {},
     "output_type": "execute_result"
    }
   ],
   "source": [
    "#asking what datatype is the second index in my list\n",
    "type(list_of_random_stuff[2])"
   ]
  },
  {
   "cell_type": "code",
   "execution_count": 139,
   "id": "167e06f0",
   "metadata": {},
   "outputs": [
    {
     "data": {
      "text/plain": [
       "['1', '2', '3']"
      ]
     },
     "execution_count": 139,
     "metadata": {},
     "output_type": "execute_result"
    }
   ],
   "source": [
    "#convert the list into a list of strings\n",
    "list(map(str, [1,2,3]))"
   ]
  },
  {
   "cell_type": "markdown",
   "id": "076a49be",
   "metadata": {},
   "source": [
    "# Tuples"
   ]
  },
  {
   "cell_type": "code",
   "execution_count": 141,
   "id": "4423f9dc",
   "metadata": {},
   "outputs": [],
   "source": [
    "tup_of_nums = (1,2,3)"
   ]
  },
  {
   "cell_type": "code",
   "execution_count": 142,
   "id": "bcee9d96",
   "metadata": {
    "scrolled": true
   },
   "outputs": [
    {
     "data": {
      "text/plain": [
       "tuple"
      ]
     },
     "execution_count": 142,
     "metadata": {},
     "output_type": "execute_result"
    }
   ],
   "source": [
    "type(tup_of_nums)"
   ]
  },
  {
   "cell_type": "code",
   "execution_count": 143,
   "id": "29272429",
   "metadata": {
    "scrolled": true
   },
   "outputs": [
    {
     "data": {
      "text/plain": [
       "[1, 2, 3]"
      ]
     },
     "execution_count": 143,
     "metadata": {},
     "output_type": "execute_result"
    }
   ],
   "source": [
    "list(tup_of_nums)"
   ]
  },
  {
   "cell_type": "code",
   "execution_count": 144,
   "id": "c99484a9",
   "metadata": {},
   "outputs": [
    {
     "data": {
      "text/plain": [
       "(1, 2, 3)"
      ]
     },
     "execution_count": 144,
     "metadata": {},
     "output_type": "execute_result"
    }
   ],
   "source": [
    "tup_of_nums"
   ]
  },
  {
   "cell_type": "code",
   "execution_count": 145,
   "id": "e57b6f11",
   "metadata": {},
   "outputs": [
    {
     "data": {
      "text/plain": [
       "3"
      ]
     },
     "execution_count": 145,
     "metadata": {},
     "output_type": "execute_result"
    }
   ],
   "source": [
    "tup_of_nums[2]"
   ]
  },
  {
   "cell_type": "code",
   "execution_count": 146,
   "id": "37a106cf",
   "metadata": {},
   "outputs": [
    {
     "ename": "TypeError",
     "evalue": "'tuple' object does not support item assignment",
     "output_type": "error",
     "traceback": [
      "\u001b[0;31m---------------------------------------------------------------------------\u001b[0m",
      "\u001b[0;31mTypeError\u001b[0m                                 Traceback (most recent call last)",
      "Input \u001b[0;32mIn [146]\u001b[0m, in \u001b[0;36m<cell line: 1>\u001b[0;34m()\u001b[0m\n\u001b[0;32m----> 1\u001b[0m tup_of_nums[\u001b[38;5;241m1\u001b[39m] \u001b[38;5;241m=\u001b[39m \u001b[38;5;241m3\u001b[39m\n",
      "\u001b[0;31mTypeError\u001b[0m: 'tuple' object does not support item assignment"
     ]
    }
   ],
   "source": [
    "tup_of_nums[1] = 3"
   ]
  },
  {
   "cell_type": "markdown",
   "id": "75eb83a4",
   "metadata": {},
   "source": [
    "# Dictionary"
   ]
  },
  {
   "cell_type": "code",
   "execution_count": 147,
   "id": "5fe79c79",
   "metadata": {},
   "outputs": [],
   "source": [
    "#create a dictionary\n",
    "about_me = {'name': 'Tasha', 'age': 36}"
   ]
  },
  {
   "cell_type": "code",
   "execution_count": 148,
   "id": "6cd0831b",
   "metadata": {},
   "outputs": [
    {
     "data": {
      "text/plain": [
       "{'name': 'Tasha', 'age': 36}"
      ]
     },
     "execution_count": 148,
     "metadata": {},
     "output_type": "execute_result"
    }
   ],
   "source": [
    "#call that dictionary\n",
    "about_me"
   ]
  },
  {
   "cell_type": "code",
   "execution_count": 149,
   "id": "17d1d07d",
   "metadata": {},
   "outputs": [
    {
     "data": {
      "text/plain": [
       "'Tasha'"
      ]
     },
     "execution_count": 149,
     "metadata": {},
     "output_type": "execute_result"
    }
   ],
   "source": [
    "#call the specific key to get the name\n",
    "about_me['name']"
   ]
  },
  {
   "cell_type": "code",
   "execution_count": 150,
   "id": "61021976",
   "metadata": {},
   "outputs": [
    {
     "data": {
      "text/plain": [
       "36"
      ]
     },
     "execution_count": 150,
     "metadata": {},
     "output_type": "execute_result"
    }
   ],
   "source": [
    "#call the specific key to get the age\n",
    "about_me['age']"
   ]
  },
  {
   "cell_type": "code",
   "execution_count": 151,
   "id": "13896d0b",
   "metadata": {},
   "outputs": [
    {
     "data": {
      "text/plain": [
       "dict_keys(['name', 'age'])"
      ]
     },
     "execution_count": 151,
     "metadata": {},
     "output_type": "execute_result"
    }
   ],
   "source": [
    "#ask Python what keys are present in the dictionary\n",
    "about_me.keys()"
   ]
  },
  {
   "cell_type": "code",
   "execution_count": 164,
   "id": "d83dbce2",
   "metadata": {},
   "outputs": [],
   "source": [
    "#alter the list to add pets\n",
    "about_me = {'name': 'Tasha', \n",
    "            'age': 36, \n",
    "            'pets': {'dogs': 'Marley', 'fish': ['Gregory', 'Finius']}}"
   ]
  },
  {
   "cell_type": "code",
   "execution_count": 165,
   "id": "f3ffc62b",
   "metadata": {},
   "outputs": [
    {
     "data": {
      "text/plain": [
       "'Gregory'"
      ]
     },
     "execution_count": 165,
     "metadata": {},
     "output_type": "execute_result"
    }
   ],
   "source": [
    "#call out the key for pets and fish then the index for that list\n",
    "about_me['pets']['fish'][0]"
   ]
  },
  {
   "cell_type": "code",
   "execution_count": 166,
   "id": "00da16f3",
   "metadata": {},
   "outputs": [
    {
     "data": {
      "text/plain": [
       "37"
      ]
     },
     "execution_count": 166,
     "metadata": {},
     "output_type": "execute_result"
    }
   ],
   "source": [
    "#we can add to the age key\n",
    "about_me['age'] + 1"
   ]
  },
  {
   "cell_type": "code",
   "execution_count": 167,
   "id": "39624da1",
   "metadata": {},
   "outputs": [
    {
     "data": {
      "text/plain": [
       "{'name': 'Tasha',\n",
       " 'age': 36,\n",
       " 'pets': {'dogs': 'Marley', 'fish': ['Gregory', 'Finius']}}"
      ]
     },
     "execution_count": 167,
     "metadata": {},
     "output_type": "execute_result"
    }
   ],
   "source": [
    "#but it will not alter the dictionary permanently\n",
    "about_me"
   ]
  },
  {
   "cell_type": "code",
   "execution_count": 155,
   "id": "85ddc91c",
   "metadata": {},
   "outputs": [],
   "source": [
    "#to alter permanently, we must reassign the variable\n",
    "about_me['age'] = 37"
   ]
  },
  {
   "cell_type": "code",
   "execution_count": 157,
   "id": "45b03282",
   "metadata": {},
   "outputs": [
    {
     "data": {
      "text/plain": [
       "{'name': 'Tasha',\n",
       " 'age': 37,\n",
       " 'pets': {'dogs': 'Marley', 'fish': ['Gregory', 'Finius']}}"
      ]
     },
     "execution_count": 157,
     "metadata": {},
     "output_type": "execute_result"
    }
   ],
   "source": [
    "#now, we can see it is changed\n",
    "about_me"
   ]
  },
  {
   "cell_type": "code",
   "execution_count": 158,
   "id": "ca7a7636",
   "metadata": {},
   "outputs": [],
   "source": [
    "#we can also add another key value pair to our dictionary\n",
    "new_key_and_value = {'height': 61}"
   ]
  },
  {
   "cell_type": "code",
   "execution_count": 159,
   "id": "daaf9dd0",
   "metadata": {},
   "outputs": [],
   "source": [
    "about_me.update(new_key_and_value)"
   ]
  },
  {
   "cell_type": "code",
   "execution_count": 160,
   "id": "6949f86e",
   "metadata": {},
   "outputs": [
    {
     "data": {
      "text/plain": [
       "{'name': 'Tasha',\n",
       " 'age': 37,\n",
       " 'pets': {'dogs': 'Marley', 'fish': ['Gregory', 'Finius']},\n",
       " 'height': 61}"
      ]
     },
     "execution_count": 160,
     "metadata": {},
     "output_type": "execute_result"
    }
   ],
   "source": [
    "about_me"
   ]
  }
 ],
 "metadata": {
  "kernelspec": {
   "display_name": "Python 3 (ipykernel)",
   "language": "python",
   "name": "python3"
  },
  "language_info": {
   "codemirror_mode": {
    "name": "ipython",
    "version": 3
   },
   "file_extension": ".py",
   "mimetype": "text/x-python",
   "name": "python",
   "nbconvert_exporter": "python",
   "pygments_lexer": "ipython3",
   "version": "3.9.13"
  }
 },
 "nbformat": 4,
 "nbformat_minor": 5
}
